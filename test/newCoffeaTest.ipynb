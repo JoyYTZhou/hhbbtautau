{
 "cells": [
  {
   "cell_type": "code",
   "execution_count": 1,
   "id": "0f5165a8",
   "metadata": {},
   "outputs": [],
   "source": [
    "from coffea.nanoevents import NanoEventsFactory\n",
    "from coffea.nanoevents.schemas import BaseSchema\n",
    "from config.selectionconfig import runsetting as rs"
   ]
  },
  {
   "cell_type": "code",
   "execution_count": 2,
   "id": "aea9dd00-74cf-4e37-9603-1adf61502b3d",
   "metadata": {},
   "outputs": [],
   "source": [
    "from analysis.selutility import *"
   ]
  },
  {
   "cell_type": "code",
   "execution_count": 3,
   "id": "fdb7d823-2972-4afc-b4d9-5c25a9b825c0",
   "metadata": {},
   "outputs": [],
   "source": [
    "%load_ext autoreload\n",
    "%autoreload 2"
   ]
  },
  {
   "cell_type": "code",
   "execution_count": 4,
   "id": "197f15f6-2797-41d3-9d6d-0326e3cc902f",
   "metadata": {},
   "outputs": [],
   "source": [
    "from config.selectionconfig import settings as sel_cfg"
   ]
  },
  {
   "cell_type": "code",
   "execution_count": 5,
   "id": "d787ade1-639a-40f6-8a52-221dc6cad3b7",
   "metadata": {},
   "outputs": [],
   "source": [
    "proc = Processor(rs)\n",
    "filename = f\"{rs.SINGLE_PATH}:Events\""
   ]
  },
  {
   "cell_type": "code",
   "execution_count": 6,
   "id": "cf54bb1b-08f7-4d27-b38d-3e9b3c0a20eb",
   "metadata": {},
   "outputs": [
    {
     "name": "stdout",
     "output_type": "stream",
     "text": [
      "Running selection for channel taumtauh\n",
      "Veto set for Electron.\n",
      "Running selection for channel tauetauh\n",
      "Veto set for Muon.\n",
      "Running selection for channel tauhtauh\n",
      "Veto set for Electron.\n",
      "Veto set for Muon.\n"
     ]
    }
   ],
   "source": [
    "passed, cf = proc.singlerun(filename, suffix=\"\")"
   ]
  },
  {
   "cell_type": "code",
   "execution_count": 7,
   "id": "5031926d-e2ee-471f-82ef-ebc57689f982",
   "metadata": {},
   "outputs": [],
   "source": [
    "cf_np, cf_lab = proc.res_to_np(cf)"
   ]
  },
  {
   "cell_type": "code",
   "execution_count": 8,
   "id": "2c8b5133-0c36-4346-8f32-c85063594556",
   "metadata": {},
   "outputs": [],
   "source": [
    "cf_df = pd.DataFrame(data=cf_np, columns=proc.channelseq, index=cf_lab)"
   ]
  },
  {
   "cell_type": "code",
   "execution_count": 9,
   "id": "61ef92af-266b-4187-9b4c-4a7819fccf98",
   "metadata": {},
   "outputs": [
    {
     "data": {
      "text/html": [
       "<div>\n",
       "<style scoped>\n",
       "    .dataframe tbody tr th:only-of-type {\n",
       "        vertical-align: middle;\n",
       "    }\n",
       "\n",
       "    .dataframe tbody tr th {\n",
       "        vertical-align: top;\n",
       "    }\n",
       "\n",
       "    .dataframe thead th {\n",
       "        text-align: right;\n",
       "    }\n",
       "</style>\n",
       "<table border=\"1\" class=\"dataframe\">\n",
       "  <thead>\n",
       "    <tr style=\"text-align: right;\">\n",
       "      <th></th>\n",
       "      <th>taumtauh</th>\n",
       "      <th>tauetauh</th>\n",
       "      <th>tauhtauh</th>\n",
       "    </tr>\n",
       "  </thead>\n",
       "  <tbody>\n",
       "    <tr>\n",
       "      <th>initial</th>\n",
       "      <td>17901</td>\n",
       "      <td>16881</td>\n",
       "      <td>15105</td>\n",
       "    </tr>\n",
       "    <tr>\n",
       "      <th>ElectronSelection</th>\n",
       "      <td>11703</td>\n",
       "      <td>3445</td>\n",
       "      <td>10683</td>\n",
       "    </tr>\n",
       "    <tr>\n",
       "      <th>MuonSelection</th>\n",
       "      <td>1746</td>\n",
       "      <td>2848</td>\n",
       "      <td>8818</td>\n",
       "    </tr>\n",
       "    <tr>\n",
       "      <th>TauSelection</th>\n",
       "      <td>1020</td>\n",
       "      <td>1776</td>\n",
       "      <td>715</td>\n",
       "    </tr>\n",
       "  </tbody>\n",
       "</table>\n",
       "</div>"
      ],
      "text/plain": [
       "                   taumtauh  tauetauh  tauhtauh\n",
       "initial               17901     16881     15105\n",
       "ElectronSelection     11703      3445     10683\n",
       "MuonSelection          1746      2848      8818\n",
       "TauSelection           1020      1776       715"
      ]
     },
     "execution_count": 9,
     "metadata": {},
     "output_type": "execute_result"
    }
   ],
   "source": [
    "cf_df"
   ]
  },
  {
   "cell_type": "code",
   "execution_count": 123,
   "id": "c3bcf292-b2ac-47e3-8295-6565471264ef",
   "metadata": {},
   "outputs": [],
   "source": [
    "sels = EventSelections(sel_cfg.signal.channel1.selections, sel_cfg.signal.commonsel, \"taumtauh\")"
   ]
  },
  {
   "cell_type": "code",
   "execution_count": null,
   "id": "bb286111-6dc0-41b3-a0a6-9befc219dbfb",
   "metadata": {},
   "outputs": [],
   "source": []
  },
  {
   "cell_type": "code",
   "execution_count": 124,
   "id": "319ac031-8d1c-4af7-bda0-d006ae4f1f8d",
   "metadata": {},
   "outputs": [],
   "source": [
    "channel_cfg = sel_cfg.signal.channel1.selections"
   ]
  },
  {
   "cell_type": "code",
   "execution_count": 125,
   "id": "d7f026e8-7da4-493d-8b8f-c1344d23a5f2",
   "metadata": {},
   "outputs": [],
   "source": [
    "sels.lepselsetter(events)"
   ]
  },
  {
   "cell_type": "code",
   "execution_count": 126,
   "id": "514b60fb-88a3-4d08-a5f7-4518144d048d",
   "metadata": {},
   "outputs": [],
   "source": [
    "passed, vetoed = sels.objselcaller(events)"
   ]
  },
  {
   "cell_type": "code",
   "execution_count": 146,
   "id": "8a1e7dfe-ffb9-4d37-a6f1-86018a247312",
   "metadata": {},
   "outputs": [],
   "source": [
    "muon = Object(\"Muon\", passed, output_cfg.Muon, sel_cfg.signal.channel1.selections.muon)"
   ]
  },
  {
   "cell_type": "code",
   "execution_count": 148,
   "id": "704e68c8-42b2-4f96-bb19-905d25c09101",
   "metadata": {},
   "outputs": [
    {
     "data": {
      "text/html": [
       "<div>\n",
       "<style scoped>\n",
       "    .dataframe tbody tr th:only-of-type {\n",
       "        vertical-align: middle;\n",
       "    }\n",
       "\n",
       "    .dataframe tbody tr th {\n",
       "        vertical-align: top;\n",
       "    }\n",
       "\n",
       "    .dataframe thead th {\n",
       "        text-align: right;\n",
       "    }\n",
       "</style>\n",
       "<table border=\"1\" class=\"dataframe\">\n",
       "  <thead>\n",
       "    <tr style=\"text-align: right;\">\n",
       "      <th></th>\n",
       "      <th>charge</th>\n",
       "      <th>tightid</th>\n",
       "      <th>pt</th>\n",
       "      <th>eta</th>\n",
       "      <th>phi</th>\n",
       "      <th>mass</th>\n",
       "      <th>dxy</th>\n",
       "      <th>dz</th>\n",
       "      <th>iso</th>\n",
       "    </tr>\n",
       "  </thead>\n",
       "  <tbody>\n",
       "    <tr>\n",
       "      <th>0</th>\n",
       "      <td>-1</td>\n",
       "      <td>True</td>\n",
       "      <td>56.323387</td>\n",
       "      <td>-1.272949</td>\n",
       "      <td>-1.323242</td>\n",
       "      <td>0.105713</td>\n",
       "      <td>0.000142</td>\n",
       "      <td>0.000187</td>\n",
       "      <td>0.000000</td>\n",
       "    </tr>\n",
       "    <tr>\n",
       "      <th>1</th>\n",
       "      <td>-1</td>\n",
       "      <td>True</td>\n",
       "      <td>115.620300</td>\n",
       "      <td>-0.862549</td>\n",
       "      <td>-0.288086</td>\n",
       "      <td>0.105713</td>\n",
       "      <td>0.013359</td>\n",
       "      <td>0.001285</td>\n",
       "      <td>0.007867</td>\n",
       "    </tr>\n",
       "    <tr>\n",
       "      <th>2</th>\n",
       "      <td>-1</td>\n",
       "      <td>True</td>\n",
       "      <td>83.440041</td>\n",
       "      <td>0.466248</td>\n",
       "      <td>-2.513184</td>\n",
       "      <td>0.105713</td>\n",
       "      <td>0.010284</td>\n",
       "      <td>-0.016403</td>\n",
       "      <td>0.040061</td>\n",
       "    </tr>\n",
       "    <tr>\n",
       "      <th>3</th>\n",
       "      <td>1</td>\n",
       "      <td>True</td>\n",
       "      <td>45.711536</td>\n",
       "      <td>0.759766</td>\n",
       "      <td>-0.030220</td>\n",
       "      <td>0.105713</td>\n",
       "      <td>0.000232</td>\n",
       "      <td>0.000190</td>\n",
       "      <td>0.006112</td>\n",
       "    </tr>\n",
       "    <tr>\n",
       "      <th>4</th>\n",
       "      <td>-1</td>\n",
       "      <td>True</td>\n",
       "      <td>53.904057</td>\n",
       "      <td>1.698975</td>\n",
       "      <td>2.974121</td>\n",
       "      <td>0.105713</td>\n",
       "      <td>0.005543</td>\n",
       "      <td>0.004280</td>\n",
       "      <td>0.013304</td>\n",
       "    </tr>\n",
       "    <tr>\n",
       "      <th>...</th>\n",
       "      <td>...</td>\n",
       "      <td>...</td>\n",
       "      <td>...</td>\n",
       "      <td>...</td>\n",
       "      <td>...</td>\n",
       "      <td>...</td>\n",
       "      <td>...</td>\n",
       "      <td>...</td>\n",
       "      <td>...</td>\n",
       "    </tr>\n",
       "    <tr>\n",
       "      <th>1015</th>\n",
       "      <td>1</td>\n",
       "      <td>True</td>\n",
       "      <td>39.006180</td>\n",
       "      <td>-0.530029</td>\n",
       "      <td>0.324280</td>\n",
       "      <td>0.105713</td>\n",
       "      <td>0.010696</td>\n",
       "      <td>-0.003382</td>\n",
       "      <td>0.000000</td>\n",
       "    </tr>\n",
       "    <tr>\n",
       "      <th>1016</th>\n",
       "      <td>1</td>\n",
       "      <td>True</td>\n",
       "      <td>85.784004</td>\n",
       "      <td>-0.617065</td>\n",
       "      <td>1.502686</td>\n",
       "      <td>0.105713</td>\n",
       "      <td>0.000269</td>\n",
       "      <td>-0.001814</td>\n",
       "      <td>0.019560</td>\n",
       "    </tr>\n",
       "    <tr>\n",
       "      <th>1017</th>\n",
       "      <td>-1</td>\n",
       "      <td>True</td>\n",
       "      <td>26.654907</td>\n",
       "      <td>-0.143829</td>\n",
       "      <td>-0.517456</td>\n",
       "      <td>0.105713</td>\n",
       "      <td>0.004475</td>\n",
       "      <td>0.015450</td>\n",
       "      <td>0.046668</td>\n",
       "    </tr>\n",
       "    <tr>\n",
       "      <th>1018</th>\n",
       "      <td>-1</td>\n",
       "      <td>False</td>\n",
       "      <td>42.732983</td>\n",
       "      <td>-0.477112</td>\n",
       "      <td>-2.280762</td>\n",
       "      <td>0.105713</td>\n",
       "      <td>0.012665</td>\n",
       "      <td>-0.004086</td>\n",
       "      <td>0.300953</td>\n",
       "    </tr>\n",
       "    <tr>\n",
       "      <th>1019</th>\n",
       "      <td>-1</td>\n",
       "      <td>True</td>\n",
       "      <td>26.205612</td>\n",
       "      <td>1.055176</td>\n",
       "      <td>-0.564331</td>\n",
       "      <td>0.105713</td>\n",
       "      <td>0.001090</td>\n",
       "      <td>-0.001045</td>\n",
       "      <td>0.000000</td>\n",
       "    </tr>\n",
       "  </tbody>\n",
       "</table>\n",
       "<p>1020 rows × 9 columns</p>\n",
       "</div>"
      ],
      "text/plain": [
       "      charge  tightid          pt       eta       phi      mass       dxy  \\\n",
       "0         -1     True   56.323387 -1.272949 -1.323242  0.105713  0.000142   \n",
       "1         -1     True  115.620300 -0.862549 -0.288086  0.105713  0.013359   \n",
       "2         -1     True   83.440041  0.466248 -2.513184  0.105713  0.010284   \n",
       "3          1     True   45.711536  0.759766 -0.030220  0.105713  0.000232   \n",
       "4         -1     True   53.904057  1.698975  2.974121  0.105713  0.005543   \n",
       "...      ...      ...         ...       ...       ...       ...       ...   \n",
       "1015       1     True   39.006180 -0.530029  0.324280  0.105713  0.010696   \n",
       "1016       1     True   85.784004 -0.617065  1.502686  0.105713  0.000269   \n",
       "1017      -1     True   26.654907 -0.143829 -0.517456  0.105713  0.004475   \n",
       "1018      -1    False   42.732983 -0.477112 -2.280762  0.105713  0.012665   \n",
       "1019      -1     True   26.205612  1.055176 -0.564331  0.105713  0.001090   \n",
       "\n",
       "            dz       iso  \n",
       "0     0.000187  0.000000  \n",
       "1     0.001285  0.007867  \n",
       "2    -0.016403  0.040061  \n",
       "3     0.000190  0.006112  \n",
       "4     0.004280  0.013304  \n",
       "...        ...       ...  \n",
       "1015 -0.003382  0.000000  \n",
       "1016 -0.001814  0.019560  \n",
       "1017  0.015450  0.046668  \n",
       "1018 -0.004086  0.300953  \n",
       "1019 -0.001045  0.000000  \n",
       "\n",
       "[1020 rows x 9 columns]"
      ]
     },
     "execution_count": 148,
     "metadata": {},
     "output_type": "execute_result"
    }
   ],
   "source": [
    "muon.to_daskdf()"
   ]
  },
  {
   "cell_type": "code",
   "execution_count": 136,
   "id": "e7b4b758-fbb7-4053-ba94-f311ebc77689",
   "metadata": {},
   "outputs": [],
   "source": [
    "computed, = dask.compute(muon.dakzipped['pt'][:,0])"
   ]
  },
  {
   "cell_type": "code",
   "execution_count": 96,
   "id": "196277b1-f42d-4d19-ac85-88eefe42cd7b",
   "metadata": {},
   "outputs": [
    {
     "ename": "ValueError",
     "evalue": "Tried to concatenate arrays with unknown shape (nan, nan).\n\nTwo solutions:\n  1. Force concatenation pass allow_unknown_chunksizes=True.\n  2. Compute shapes with [x.compute_chunk_sizes() for x in seq]",
     "output_type": "error",
     "traceback": [
      "\u001b[0;31m---------------------------------------------------------------------------\u001b[0m",
      "\u001b[0;31mValueError\u001b[0m                                Traceback (most recent call last)",
      "Cell \u001b[0;32mIn[96], line 1\u001b[0m\n\u001b[0;32m----> 1\u001b[0m \u001b[43mdask\u001b[49m\u001b[38;5;241;43m.\u001b[39;49m\u001b[43marray\u001b[49m\u001b[38;5;241;43m.\u001b[39;49m\u001b[43mconcatenate\u001b[49m\u001b[43m(\u001b[49m\u001b[43marr_list\u001b[49m\u001b[43m,\u001b[49m\u001b[43m \u001b[49m\u001b[43maxis\u001b[49m\u001b[38;5;241;43m=\u001b[39;49m\u001b[38;5;241;43m1\u001b[39;49m\u001b[43m)\u001b[49m\u001b[38;5;241m.\u001b[39mcompute()\n",
      "File \u001b[0;32m~/miniconda3/envs/dev/lib/python3.9/site-packages/dask/array/core.py:4289\u001b[0m, in \u001b[0;36mconcatenate\u001b[0;34m(seq, axis, allow_unknown_chunksizes)\u001b[0m\n\u001b[1;32m   4284\u001b[0m \u001b[38;5;28;01mif\u001b[39;00m \u001b[38;5;129;01mnot\u001b[39;00m allow_unknown_chunksizes \u001b[38;5;129;01mand\u001b[39;00m \u001b[38;5;129;01mnot\u001b[39;00m \u001b[38;5;28mall\u001b[39m(\n\u001b[1;32m   4285\u001b[0m     i \u001b[38;5;241m==\u001b[39m axis \u001b[38;5;129;01mor\u001b[39;00m \u001b[38;5;28mall\u001b[39m(x\u001b[38;5;241m.\u001b[39mshape[i] \u001b[38;5;241m==\u001b[39m seq2[\u001b[38;5;241m0\u001b[39m]\u001b[38;5;241m.\u001b[39mshape[i] \u001b[38;5;28;01mfor\u001b[39;00m x \u001b[38;5;129;01min\u001b[39;00m seq2)\n\u001b[1;32m   4286\u001b[0m     \u001b[38;5;28;01mfor\u001b[39;00m i \u001b[38;5;129;01min\u001b[39;00m \u001b[38;5;28mrange\u001b[39m(ndim)\n\u001b[1;32m   4287\u001b[0m ):\n\u001b[1;32m   4288\u001b[0m     \u001b[38;5;28;01mif\u001b[39;00m \u001b[38;5;28many\u001b[39m(\u001b[38;5;28mmap\u001b[39m(np\u001b[38;5;241m.\u001b[39misnan, seq2[\u001b[38;5;241m0\u001b[39m]\u001b[38;5;241m.\u001b[39mshape)):\n\u001b[0;32m-> 4289\u001b[0m         \u001b[38;5;28;01mraise\u001b[39;00m \u001b[38;5;167;01mValueError\u001b[39;00m(\n\u001b[1;32m   4290\u001b[0m             \u001b[38;5;124m\"\u001b[39m\u001b[38;5;124mTried to concatenate arrays with unknown\u001b[39m\u001b[38;5;124m\"\u001b[39m\n\u001b[1;32m   4291\u001b[0m             \u001b[38;5;124m\"\u001b[39m\u001b[38;5;124m shape \u001b[39m\u001b[38;5;132;01m%s\u001b[39;00m\u001b[38;5;124m.\u001b[39m\u001b[38;5;130;01m\\n\u001b[39;00m\u001b[38;5;130;01m\\n\u001b[39;00m\u001b[38;5;124mTwo solutions:\u001b[39m\u001b[38;5;130;01m\\n\u001b[39;00m\u001b[38;5;124m\"\u001b[39m\n\u001b[1;32m   4292\u001b[0m             \u001b[38;5;124m\"\u001b[39m\u001b[38;5;124m  1. Force concatenation pass\u001b[39m\u001b[38;5;124m\"\u001b[39m\n\u001b[1;32m   4293\u001b[0m             \u001b[38;5;124m\"\u001b[39m\u001b[38;5;124m allow_unknown_chunksizes=True.\u001b[39m\u001b[38;5;130;01m\\n\u001b[39;00m\u001b[38;5;124m\"\u001b[39m\n\u001b[1;32m   4294\u001b[0m             \u001b[38;5;124m\"\u001b[39m\u001b[38;5;124m  2. Compute shapes with \u001b[39m\u001b[38;5;124m\"\u001b[39m\n\u001b[1;32m   4295\u001b[0m             \u001b[38;5;124m\"\u001b[39m\u001b[38;5;124m[x.compute_chunk_sizes() for x in seq]\u001b[39m\u001b[38;5;124m\"\u001b[39m \u001b[38;5;241m%\u001b[39m \u001b[38;5;28mstr\u001b[39m(seq2[\u001b[38;5;241m0\u001b[39m]\u001b[38;5;241m.\u001b[39mshape)\n\u001b[1;32m   4296\u001b[0m         )\n\u001b[1;32m   4297\u001b[0m     \u001b[38;5;28;01mraise\u001b[39;00m \u001b[38;5;167;01mValueError\u001b[39;00m(\u001b[38;5;124m\"\u001b[39m\u001b[38;5;124mShapes do not align: \u001b[39m\u001b[38;5;132;01m%s\u001b[39;00m\u001b[38;5;124m\"\u001b[39m, [x\u001b[38;5;241m.\u001b[39mshape \u001b[38;5;28;01mfor\u001b[39;00m x \u001b[38;5;129;01min\u001b[39;00m seq2])\n\u001b[1;32m   4299\u001b[0m inds \u001b[38;5;241m=\u001b[39m [\u001b[38;5;28mlist\u001b[39m(\u001b[38;5;28mrange\u001b[39m(ndim)) \u001b[38;5;28;01mfor\u001b[39;00m i \u001b[38;5;129;01min\u001b[39;00m \u001b[38;5;28mrange\u001b[39m(n)]\n",
      "\u001b[0;31mValueError\u001b[0m: Tried to concatenate arrays with unknown shape (nan, nan).\n\nTwo solutions:\n  1. Force concatenation pass allow_unknown_chunksizes=True.\n  2. Compute shapes with [x.compute_chunk_sizes() for x in seq]"
     ]
    }
   ],
   "source": [
    "dask.array.concatenate(arr_list, axis=1)"
   ]
  },
  {
   "cell_type": "code",
   "execution_count": 35,
   "id": "1dcdf477-5e4b-497d-a575-301e0065fd1d",
   "metadata": {},
   "outputs": [
    {
     "data": {
      "text/plain": [
       "[dask.awkward<count, type=Scalar, dtype=int64>,\n",
       " dask.awkward<sum, type=Scalar, dtype=int64>,\n",
       " dask.awkward<sum, type=Scalar, dtype=int64>,\n",
       " dask.awkward<sum, type=Scalar, dtype=int64>]"
      ]
     },
     "execution_count": 35,
     "metadata": {},
     "output_type": "execute_result"
    }
   ],
   "source": [
    "sels.objsel.cutflow(*sels.objsel.names).result().nevcutflow"
   ]
  },
  {
   "cell_type": "code",
   "execution_count": 40,
   "id": "6c21ad97-7e23-48d3-b979-9b1b8b89cfe4",
   "metadata": {},
   "outputs": [],
   "source": [
    "cutflow = sels.objsel.cutflow(*sels.objsel.names)"
   ]
  },
  {
   "cell_type": "code",
   "execution_count": 65,
   "id": "8c5a348f-7d38-4109-8aa0-fee37fe0552d",
   "metadata": {},
   "outputs": [
    {
     "name": "stderr",
     "output_type": "stream",
     "text": [
      "[autoreload of analysis.selutility failed: Traceback (most recent call last):\n",
      "  File \"/Users/yuntongzhou/miniconda3/envs/dev/lib/python3.9/site-packages/IPython/extensions/autoreload.py\", line 276, in check\n",
      "    superreload(m, reload, self.old_objects)\n",
      "  File \"/Users/yuntongzhou/miniconda3/envs/dev/lib/python3.9/site-packages/IPython/extensions/autoreload.py\", line 475, in superreload\n",
      "    module = reload(module)\n",
      "  File \"/Users/yuntongzhou/miniconda3/envs/dev/lib/python3.9/importlib/__init__.py\", line 169, in reload\n",
      "    _bootstrap._exec(spec, module)\n",
      "  File \"<frozen importlib._bootstrap>\", line 613, in _exec\n",
      "  File \"<frozen importlib._bootstrap_external>\", line 846, in exec_module\n",
      "  File \"<frozen importlib._bootstrap_external>\", line 983, in get_code\n",
      "  File \"<frozen importlib._bootstrap_external>\", line 913, in source_to_code\n",
      "  File \"<frozen importlib._bootstrap>\", line 228, in _call_with_frames_removed\n",
      "  File \"/Users/yuntongzhou/Desktop/Dihiggszztt/HHtobbtautau/src/analysis/selutility.py\", line 123\n",
      "    cf_acc_list = [np.zeros()))]\n",
      "                             ^\n",
      "SyntaxError: closing parenthesis ')' does not match opening parenthesis '['\n",
      "]\n"
     ]
    },
    {
     "data": {
      "text/plain": [
       "['initial', 'ElectronSelection', 'MuonSelection', 'TauSelection']"
      ]
     },
     "execution_count": 65,
     "metadata": {},
     "output_type": "execute_result"
    }
   ],
   "source": [
    "cutflow.result().labels"
   ]
  },
  {
   "cell_type": "code",
   "execution_count": 44,
   "id": "7bff5cf3-2b03-48a1-9cd3-8274da449c2d",
   "metadata": {},
   "outputs": [],
   "source": [
    "import dask"
   ]
  },
  {
   "cell_type": "code",
   "execution_count": null,
   "id": "3b0dc52b-35bc-4068-9f76-7934d85ce068",
   "metadata": {},
   "outputs": [],
   "source": []
  },
  {
   "cell_type": "code",
   "execution_count": 51,
   "id": "cc6e5a83-9a84-4f95-94bf-e154d6230d6b",
   "metadata": {},
   "outputs": [
    {
     "ename": "TypeError",
     "evalue": "tuple indices must be integers or slices, not str",
     "output_type": "error",
     "traceback": [
      "\u001b[0;31m---------------------------------------------------------------------------\u001b[0m",
      "\u001b[0;31mTypeError\u001b[0m                                 Traceback (most recent call last)",
      "Cell \u001b[0;32mIn[51], line 1\u001b[0m\n\u001b[0;32m----> 1\u001b[0m \u001b[43mdask\u001b[49m\u001b[38;5;241;43m.\u001b[39;49m\u001b[43mcompute\u001b[49m\u001b[43m(\u001b[49m\u001b[43mcutflow\u001b[49m\u001b[38;5;241;43m.\u001b[39;49m\u001b[43mresult\u001b[49m\u001b[43m(\u001b[49m\u001b[43m)\u001b[49m\u001b[43m)\u001b[49m\u001b[43m[\u001b[49m\u001b[38;5;124;43m'\u001b[39;49m\u001b[38;5;124;43mnevcutflow\u001b[39;49m\u001b[38;5;124;43m'\u001b[39;49m\u001b[43m]\u001b[49m\n",
      "\u001b[0;31mTypeError\u001b[0m: tuple indices must be integers or slices, not str"
     ]
    }
   ],
   "source": [
    "dask.compute(cutflow.result())"
   ]
  },
  {
   "cell_type": "code",
   "execution_count": 47,
   "id": "31973843-d99a-4b08-8823-165e97f037e3",
   "metadata": {},
   "outputs": [],
   "source": [
    "res = cutflow.result().nevcutflow"
   ]
  },
  {
   "cell_type": "code",
   "execution_count": 48,
   "id": "53d665eb-f620-4bd3-b4e4-2f23d729f35f",
   "metadata": {},
   "outputs": [
    {
     "data": {
      "text/plain": [
       "[dask.awkward<count, type=Scalar, dtype=int64>,\n",
       " dask.awkward<sum, type=Scalar, dtype=int64>,\n",
       " dask.awkward<sum, type=Scalar, dtype=int64>,\n",
       " dask.awkward<sum, type=Scalar, dtype=int64>]"
      ]
     },
     "execution_count": 48,
     "metadata": {},
     "output_type": "execute_result"
    }
   ],
   "source": [
    "res"
   ]
  },
  {
   "cell_type": "code",
   "execution_count": 18,
   "id": "015d69d5-3db8-463f-b28c-3b4834d3481b",
   "metadata": {},
   "outputs": [
    {
     "data": {
      "text/plain": [
       "dask.awkward<equal, npartitions=1>"
      ]
     },
     "execution_count": 18,
     "metadata": {},
     "output_type": "execute_result"
    }
   ],
   "source": [
    "sels.leptonsel.all()"
   ]
  },
  {
   "cell_type": "code",
   "execution_count": 34,
   "id": "e6d3b403-06f5-4603-8898-f7235aa63eeb",
   "metadata": {},
   "outputs": [],
   "source": [
    "events = events[~(sels.leptonsel.all())]"
   ]
  },
  {
   "cell_type": "code",
   "execution_count": 17,
   "id": "f149f412-66de-417b-bcb9-57e479a794b7",
   "metadata": {},
   "outputs": [
    {
     "data": {
      "text/plain": [
       "dask_awkward.lib.core.Array"
      ]
     },
     "execution_count": 17,
     "metadata": {},
     "output_type": "execute_result"
    }
   ],
   "source": [
    "type(events)"
   ]
  },
  {
   "cell_type": "code",
   "execution_count": 40,
   "id": "94f44c75-5697-4bbb-824d-3283189f0f1b",
   "metadata": {},
   "outputs": [
    {
     "name": "stderr",
     "output_type": "stream",
     "text": [
      "/Users/yuntongzhou/miniconda3/envs/dev/lib/python3.9/site-packages/coffea/analysis_tools.py:845: UserWarning: Printing the cutflow statistics is going to compute dask_awkward objects.\n",
      "  warnings.warn(\n"
     ]
    },
    {
     "name": "stdout",
     "output_type": "stream",
     "text": [
      "Cutflow stats:\n",
      "Cut ElectronSelection   :pass = 11703               cumulative pass = 11703               all = 17901               -- eff = 65.4 %                    -- cumulative eff = 65.4 %\n",
      "Cut MuonSelection       :pass = 2318                cumulative pass = 1746                all = 17901               -- eff = 12.9 %                    -- cumulative eff = 9.8 %\n",
      "Cut TauSelection        :pass = 9305                cumulative pass = 1020                all = 17901               -- eff = 52.0 %                    -- cumulative eff = 5.7 %\n"
     ]
    }
   ],
   "source": [
    "cutflow.print()"
   ]
  },
  {
   "cell_type": "code",
   "execution_count": 47,
   "id": "1f6ebc4d-ccbf-479b-9914-5025de86f173",
   "metadata": {},
   "outputs": [],
   "source": [
    "res = cutflow.result().nevcutflow"
   ]
  },
  {
   "cell_type": "code",
   "execution_count": 48,
   "id": "6aad04b5-ed0e-44dc-b1ef-03325490be09",
   "metadata": {},
   "outputs": [
    {
     "data": {
      "text/plain": [
       "[17901, 11703, 1746, 1020]"
      ]
     },
     "execution_count": 48,
     "metadata": {},
     "output_type": "execute_result"
    }
   ],
   "source": [
    "res"
   ]
  },
  {
   "cell_type": "code",
   "execution_count": null,
   "id": "0a5a1892-f4bc-496f-854d-c42db1c30b0c",
   "metadata": {},
   "outputs": [],
   "source": []
  },
  {
   "cell_type": "code",
   "execution_count": 72,
   "id": "7872bba5-94a1-4c81-be36-2c00a4b9eff3",
   "metadata": {},
   "outputs": [
    {
     "data": {
      "text/plain": [
       "<Box: {'electron': {'veto': True, 'ptLevel': 25}, 'muon': {'veto': False, 'pt': 25, 'eta': 2.1, 'iso': 0.15, 'count': 1, 'dxy': 0.045, 'dz': 0.2}, 'tau': {'veto': False, 'pt': 35, 'eta': 2.3, 'IDvsjetLevel': 5, 'IDvsmuLevel': 4, 'IDvseLevel': 3, 'dz': 0.2, 'count': 1}, 'pair': {'name': 'MT', 'OS': True, 'dRLevel': 0.5}}>"
      ]
     },
     "execution_count": 72,
     "metadata": {},
     "output_type": "execute_result"
    }
   ],
   "source": [
    "sels.lepselcfg"
   ]
  },
  {
   "cell_type": "code",
   "execution_count": 11,
   "id": "6edc18e6-c02a-472e-9cb5-e4ef15f38ed8",
   "metadata": {},
   "outputs": [],
   "source": [
    "def measure_execution_time(func, *args, **kwargs):\n",
    "    start_time = time.perf_counter()  # Start timing\n",
    "\n",
    "    # Call the function with any provided arguments\n",
    "    result = func(*args, **kwargs)\n",
    "\n",
    "    end_time = time.perf_counter()  # End timing\n",
    "    execution_time = end_time - start_time\n",
    "\n",
    "    print(f\"The function '{func.__name__}' took {execution_time} seconds to execute.\")\n",
    "    return result"
   ]
  },
  {
   "cell_type": "code",
   "execution_count": 36,
   "id": "2a3582db",
   "metadata": {},
   "outputs": [
    {
     "name": "stdout",
     "output_type": "stream",
     "text": [
      "The function took 0.6647109169998657 seconds to execute.\n"
     ]
    }
   ],
   "source": [
    "start_time = time.perf_counter()\n",
    "events = NanoEventsFactory.from_root(\n",
    "        f\"{rs.SINGLE_PATH}:Events\",\n",
    "        entry_stop=None,\n",
    "        metadata={\"dataset\": \"DYJets\"},\n",
    "        uproot_options={\"timeout\": 100},\n",
    "        schemaclass=BaseSchema,\n",
    "    ).events()\n",
    "end_time = time.perf_counter()\n",
    "execution_time = end_time - start_time\n",
    "print(f\"The function took {execution_time} seconds to execute.\")"
   ]
  },
  {
   "cell_type": "code",
   "execution_count": 59,
   "id": "fcbce265-dc2e-4265-8eb6-a03e85a90f6f",
   "metadata": {},
   "outputs": [],
   "source": [
    "jetpt = events[\"Jet_pt\"].compute()\n",
    "jeteta = events[\"Jet_eta\"].compute()\n",
    "dak_zipped = dak.zip({\"pt\": dak.from_awkward(jetpt, npartitions=10),\n",
    "                      \"eta\": dak.from_awkward(jeteta, npartitions=10)})"
   ]
  },
  {
   "cell_type": "code",
   "execution_count": 16,
   "id": "8f0f7c9e-517f-4ba9-83e5-42094257f935",
   "metadata": {},
   "outputs": [
    {
     "name": "stdout",
     "output_type": "stream",
     "text": [
      "The function took 0.02522283299981609 seconds to execute.\n"
     ]
    }
   ],
   "source": [
    "start_time = time.perf_counter()  # Start timing\n",
    "(dak.num(dak_zipped)==2).compute()\n",
    "end_time = time.perf_counter()\n",
    "execution_time = end_time - start_time\n",
    "print(f\"The function took {execution_time} seconds to execute.\")"
   ]
  },
  {
   "cell_type": "code",
   "execution_count": 64,
   "id": "b2988337-69dd-4382-afce-36aab629fd38",
   "metadata": {},
   "outputs": [],
   "source": [
    "dak_zipped = dak_zipped[dak_zipped.pt>50]"
   ]
  },
  {
   "cell_type": "code",
   "execution_count": 65,
   "id": "263025d9-50f3-40e1-b242-4536fa330d83",
   "metadata": {},
   "outputs": [],
   "source": [
    "dak_mask = dak.num(dak_zipped)>2"
   ]
  },
  {
   "cell_type": "code",
   "execution_count": 66,
   "id": "391d4526-e27d-4c04-88a0-083554724b07",
   "metadata": {},
   "outputs": [
    {
     "data": {
      "text/html": [
       "<pre>[[{pt: 195, eta: -0.732}, {pt: 74.9, ...}, {...}, {pt: 65.6, eta: -1.42}],\n",
       " [{pt: 85.4, eta: 1.2}, {pt: 59.1, eta: 0.137}, {pt: 57.2, eta: 2.6}],\n",
       " [{pt: 104, eta: -0.19}, {pt: 94.9, ...}, {pt: 52.4, eta: 0.384}],\n",
       " [{pt: 108, eta: 1.57}, {pt: 84.4, eta: ..., ...}, {pt: 81.8, eta: 0.975}],\n",
       " [{pt: 201, eta: 1.38}, {pt: 90.1, eta: ..., ...}, {pt: 51.2, eta: -1.05}],\n",
       " [{pt: 156, eta: -0.0654}, {pt: 106, ...}, {...}, {pt: 51.6, eta: -0.384}],\n",
       " [{pt: 92.2, eta: -0.575}, {pt: 68.1, ...}, {pt: 51.4, eta: -0.853}],\n",
       " [{pt: 194, eta: 0.583}, {pt: 169, eta: ..., ...}, {pt: 59.2, eta: -1.46}],\n",
       " [{pt: 190, eta: 0.139}, {pt: 99.9, eta: ..., ...}, ..., {pt: 55, eta: -0.631}],\n",
       " [{pt: 214, eta: 2.48}, {pt: 82.4, eta: ..., ...}, {pt: 67.4, eta: 2.15}],\n",
       " ...,\n",
       " [{pt: 178, eta: -0.822}, {pt: 101, ...}, {pt: 53.1, eta: -1.99}],\n",
       " [{pt: 127, eta: -1.15}, {pt: 111, ...}, {pt: 92.5, eta: 0.0999}],\n",
       " [{pt: 226, eta: 0.564}, {pt: 86.9, ...}, {pt: 64.9, eta: -0.815}],\n",
       " [{pt: 214, eta: -0.415}, {pt: 190, eta: ..., ...}, {pt: 101, eta: 0.192}],\n",
       " [{pt: 149, eta: 0.943}, {pt: 81.2, eta: ..., ...}, ..., {pt: 52.2, eta: 1.94}],\n",
       " [{pt: 117, eta: -1.04}, {pt: 84.2, eta: -1.05}, {pt: 59, eta: 0.43}],\n",
       " [{pt: 132, eta: -1.54}, {pt: 125, eta: ..., ...}, {pt: 51.5, eta: 3.85}],\n",
       " [{pt: 131, eta: 1.14}, {pt: 108, eta: ..., ...}, {pt: 65.2, eta: -1.05}],\n",
       " [{pt: 311, eta: 1.35}, {pt: 305, eta: ..., ...}, {pt: 61.3, eta: 0.993}]]\n",
       "--------------------------------------------------------------------------------\n",
       "type: 8036 * var * {\n",
       "    pt: float32[parameters={&quot;__doc__&quot;: &quot;pt&quot;}],\n",
       "    eta: float32[parameters={&quot;__doc__&quot;: &quot;eta&quot;}]\n",
       "}</pre>"
      ],
      "text/plain": [
       "<Array [[{pt: 195, eta: ..., ...}, ...], ...] type='8036 * var * {pt: float...'>"
      ]
     },
     "execution_count": 66,
     "metadata": {},
     "output_type": "execute_result"
    }
   ],
   "source": [
    "dak_zipped[dak_mask].compute()"
   ]
  },
  {
   "cell_type": "code",
   "execution_count": 31,
   "id": "efd7baea-6d1c-4442-8166-69048ff74c0f",
   "metadata": {},
   "outputs": [],
   "source": [
    "# correct way to compute events\n",
    "events=events[dak_mask.compute()]"
   ]
  },
  {
   "cell_type": "code",
   "execution_count": 90,
   "id": "46ff20e2-56e9-4466-bf10-b4ed9cb34982",
   "metadata": {},
   "outputs": [
    {
     "name": "stdout",
     "output_type": "stream",
     "text": [
      "The function took 0.894880166000803 seconds to execute.\n"
     ]
    }
   ],
   "source": [
    "start_time = time.perf_counter()  # Start timing\n",
    "(dak.num(events[\"Jet_pt\"])==2).compute()\n",
    "end_time = time.perf_counter()\n",
    "execution_time = end_time - start_time\n",
    "print(f\"The function took {execution_time} seconds to execute.\")"
   ]
  },
  {
   "cell_type": "code",
   "execution_count": 1,
   "id": "b4430d69-8792-4e99-aa37-79e7aabf9082",
   "metadata": {},
   "outputs": [],
   "source": [
    "import numpy as np"
   ]
  },
  {
   "cell_type": "code",
   "execution_count": 2,
   "id": "9e8b0816-b374-48b7-8cda-bd5fad0008d7",
   "metadata": {},
   "outputs": [],
   "source": [
    "acc_list = [None]*2\n",
    "cf_list = [[2,1],[3,4]]\n",
    "acc_list = [np.zeros(len(cf_list[j])) for j in range(2)]"
   ]
  },
  {
   "cell_type": "code",
   "execution_count": 59,
   "id": "4b442219-0db8-40e8-a263-0c6b9d3444db",
   "metadata": {},
   "outputs": [
    {
     "name": "stdout",
     "output_type": "stream",
     "text": [
      "[[1 5]\n",
      " [2 6]\n",
      " [3 7]\n",
      " [4 8]]\n"
     ]
    }
   ],
   "source": [
    "import numpy as np\n",
    "import dask.array as da\n",
    "\n",
    "# Example 1D NumPy arrays\n",
    "np_array1 = np.array([1, 2, 3, 4])\n",
    "np_array2 = np.array([5, 6, 7, 8])\n",
    "\n",
    "# Convert to 1D Dask arrays\n",
    "dask_array1 = da.from_array(np_array1, chunks=len(np_array1) // 2)\n",
    "dask_array2 = da.from_array(np_array2, chunks=len(np_array2) // 2)\n",
    "\n",
    "# Add a new axis to make arrays 2D\n",
    "dask_array1_2d = dask_array1[:, np.newaxis]\n",
    "dask_array2_2d = dask_array2[:, np.newaxis]\n",
    "\n",
    "# Concatenate along the second axis to form a 2D array with two columns\n",
    "concatenated_array = da.concatenate([dask_array1_2d, dask_array2_2d], axis=1)\n",
    "\n",
    "# Compute the concatenated array to get the result as a NumPy array\n",
    "result = concatenated_array.compute()\n",
    "\n",
    "print(result)"
   ]
  },
  {
   "cell_type": "code",
   "execution_count": null,
   "id": "15a886ff-89ef-449b-8a6e-b40259c12cb4",
   "metadata": {},
   "outputs": [],
   "source": []
  }
 ],
 "metadata": {
  "kernelspec": {
   "display_name": "Python 3 (ipykernel)",
   "language": "python",
   "name": "python3"
  },
  "language_info": {
   "codemirror_mode": {
    "name": "ipython",
    "version": 3
   },
   "file_extension": ".py",
   "mimetype": "text/x-python",
   "name": "python",
   "nbconvert_exporter": "python",
   "pygments_lexer": "ipython3",
   "version": "3.9.10"
  }
 },
 "nbformat": 4,
 "nbformat_minor": 5
}
