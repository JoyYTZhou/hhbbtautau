{
 "cells": [
  {
   "cell_type": "code",
   "execution_count": 1,
   "id": "0f5165a8",
   "metadata": {},
   "outputs": [],
   "source": [
    "from coffea.nanoevents import NanoEventsFactory\n",
    "from coffea.nanoevents.schemas import BaseSchema\n",
    "from config.selectionconfig import runsetting as rs"
   ]
  },
  {
   "cell_type": "code",
   "execution_count": 2,
   "id": "aea9dd00-74cf-4e37-9603-1adf61502b3d",
   "metadata": {},
   "outputs": [],
   "source": [
    "from analysis.selutility import *"
   ]
  },
  {
   "cell_type": "code",
   "execution_count": 3,
   "id": "fdb7d823-2972-4afc-b4d9-5c25a9b825c0",
   "metadata": {},
   "outputs": [],
   "source": [
    "%load_ext autoreload\n",
    "%autoreload 2"
   ]
  },
  {
   "cell_type": "code",
   "execution_count": 4,
   "id": "197f15f6-2797-41d3-9d6d-0326e3cc902f",
   "metadata": {},
   "outputs": [],
   "source": [
    "from config.selectionconfig import settings as sel_cfg"
   ]
  },
  {
   "cell_type": "code",
   "execution_count": 5,
   "id": "cd75b1e4-21fd-4903-9576-60172a165640",
   "metadata": {},
   "outputs": [],
   "source": [
    "events = NanoEventsFactory.from_root(\n",
    "        f\"{rs.SINGLE_PATH}:Events\",\n",
    "        entry_stop=None,\n",
    "        metadata={\"dataset\": \"DYJets\"},\n",
    "        uproot_options={\"timeout\": 100},\n",
    "        schemaclass=BaseSchema,\n",
    "    ).events()"
   ]
  },
  {
   "cell_type": "code",
   "execution_count": 10,
   "id": "c3bcf292-b2ac-47e3-8295-6565471264ef",
   "metadata": {},
   "outputs": [],
   "source": [
    "sels = EventSelections()"
   ]
  },
  {
   "cell_type": "code",
   "execution_count": 11,
   "id": "319ac031-8d1c-4af7-bda0-d006ae4f1f8d",
   "metadata": {},
   "outputs": [],
   "source": [
    "channel_cfg = sel_cfg.signal.channel1.selections"
   ]
  },
  {
   "cell_type": "code",
   "execution_count": 14,
   "id": "87a59552-06d8-4efb-893e-0835ec7f4cb8",
   "metadata": {},
   "outputs": [],
   "source": [
    "sels.lepselcfg = sel_cfg.signal.channel1.selections\n",
    "sels.lepselsetter(events)"
   ]
  },
  {
   "cell_type": "code",
   "execution_count": 29,
   "id": "4523560d-2c1c-4026-b90b-e575996abf8e",
   "metadata": {},
   "outputs": [],
   "source": [
    "cutflow = sels.leptonsel.cutflow(*sels.leptonsel.names)"
   ]
  },
  {
   "cell_type": "code",
   "execution_count": 40,
   "id": "94f44c75-5697-4bbb-824d-3283189f0f1b",
   "metadata": {},
   "outputs": [
    {
     "name": "stderr",
     "output_type": "stream",
     "text": [
      "/Users/yuntongzhou/miniconda3/envs/dev/lib/python3.9/site-packages/coffea/analysis_tools.py:845: UserWarning: Printing the cutflow statistics is going to compute dask_awkward objects.\n",
      "  warnings.warn(\n"
     ]
    },
    {
     "name": "stdout",
     "output_type": "stream",
     "text": [
      "Cutflow stats:\n",
      "Cut ElectronSelection   :pass = 11703               cumulative pass = 11703               all = 17901               -- eff = 65.4 %                    -- cumulative eff = 65.4 %\n",
      "Cut MuonSelection       :pass = 2318                cumulative pass = 1746                all = 17901               -- eff = 12.9 %                    -- cumulative eff = 9.8 %\n",
      "Cut TauSelection        :pass = 9305                cumulative pass = 1020                all = 17901               -- eff = 52.0 %                    -- cumulative eff = 5.7 %\n"
     ]
    }
   ],
   "source": [
    "cutflow.print()"
   ]
  },
  {
   "cell_type": "code",
   "execution_count": 47,
   "id": "1f6ebc4d-ccbf-479b-9914-5025de86f173",
   "metadata": {},
   "outputs": [],
   "source": [
    "res = cutflow.result().nevcutflow"
   ]
  },
  {
   "cell_type": "code",
   "execution_count": 48,
   "id": "6aad04b5-ed0e-44dc-b1ef-03325490be09",
   "metadata": {},
   "outputs": [
    {
     "data": {
      "text/plain": [
       "[17901, 11703, 1746, 1020]"
      ]
     },
     "execution_count": 48,
     "metadata": {},
     "output_type": "execute_result"
    }
   ],
   "source": [
    "res"
   ]
  },
  {
   "cell_type": "code",
   "execution_count": null,
   "id": "0a5a1892-f4bc-496f-854d-c42db1c30b0c",
   "metadata": {},
   "outputs": [],
   "source": []
  },
  {
   "cell_type": "code",
   "execution_count": 72,
   "id": "7872bba5-94a1-4c81-be36-2c00a4b9eff3",
   "metadata": {},
   "outputs": [
    {
     "data": {
      "text/plain": [
       "<Box: {'electron': {'veto': True, 'ptLevel': 25}, 'muon': {'veto': False, 'pt': 25, 'eta': 2.1, 'iso': 0.15, 'count': 1, 'dxy': 0.045, 'dz': 0.2}, 'tau': {'veto': False, 'pt': 35, 'eta': 2.3, 'IDvsjetLevel': 5, 'IDvsmuLevel': 4, 'IDvseLevel': 3, 'dz': 0.2, 'count': 1}, 'pair': {'name': 'MT', 'OS': True, 'dRLevel': 0.5}}>"
      ]
     },
     "execution_count": 72,
     "metadata": {},
     "output_type": "execute_result"
    }
   ],
   "source": [
    "sels.lepselcfg"
   ]
  },
  {
   "cell_type": "code",
   "execution_count": 11,
   "id": "6edc18e6-c02a-472e-9cb5-e4ef15f38ed8",
   "metadata": {},
   "outputs": [],
   "source": [
    "def measure_execution_time(func, *args, **kwargs):\n",
    "    start_time = time.perf_counter()  # Start timing\n",
    "\n",
    "    # Call the function with any provided arguments\n",
    "    result = func(*args, **kwargs)\n",
    "\n",
    "    end_time = time.perf_counter()  # End timing\n",
    "    execution_time = end_time - start_time\n",
    "\n",
    "    print(f\"The function '{func.__name__}' took {execution_time} seconds to execute.\")\n",
    "    return result"
   ]
  },
  {
   "cell_type": "code",
   "execution_count": 36,
   "id": "2a3582db",
   "metadata": {},
   "outputs": [
    {
     "name": "stdout",
     "output_type": "stream",
     "text": [
      "The function took 0.6647109169998657 seconds to execute.\n"
     ]
    }
   ],
   "source": [
    "start_time = time.perf_counter()\n",
    "events = NanoEventsFactory.from_root(\n",
    "        f\"{rs.SINGLE_PATH}:Events\",\n",
    "        entry_stop=None,\n",
    "        metadata={\"dataset\": \"DYJets\"},\n",
    "        uproot_options={\"timeout\": 100},\n",
    "        schemaclass=BaseSchema,\n",
    "    ).events()\n",
    "end_time = time.perf_counter()\n",
    "execution_time = end_time - start_time\n",
    "print(f\"The function took {execution_time} seconds to execute.\")"
   ]
  },
  {
   "cell_type": "code",
   "execution_count": 59,
   "id": "fcbce265-dc2e-4265-8eb6-a03e85a90f6f",
   "metadata": {},
   "outputs": [],
   "source": [
    "jetpt = events[\"Jet_pt\"].compute()\n",
    "jeteta = events[\"Jet_eta\"].compute()\n",
    "dak_zipped = dak.zip({\"pt\": dak.from_awkward(jetpt, npartitions=10),\n",
    "                      \"eta\": dak.from_awkward(jeteta, npartitions=10)})"
   ]
  },
  {
   "cell_type": "code",
   "execution_count": 16,
   "id": "8f0f7c9e-517f-4ba9-83e5-42094257f935",
   "metadata": {},
   "outputs": [
    {
     "name": "stdout",
     "output_type": "stream",
     "text": [
      "The function took 0.02522283299981609 seconds to execute.\n"
     ]
    }
   ],
   "source": [
    "start_time = time.perf_counter()  # Start timing\n",
    "(dak.num(dak_zipped)==2).compute()\n",
    "end_time = time.perf_counter()\n",
    "execution_time = end_time - start_time\n",
    "print(f\"The function took {execution_time} seconds to execute.\")"
   ]
  },
  {
   "cell_type": "code",
   "execution_count": 64,
   "id": "b2988337-69dd-4382-afce-36aab629fd38",
   "metadata": {},
   "outputs": [],
   "source": [
    "dak_zipped = dak_zipped[dak_zipped.pt>50]"
   ]
  },
  {
   "cell_type": "code",
   "execution_count": 65,
   "id": "263025d9-50f3-40e1-b242-4536fa330d83",
   "metadata": {},
   "outputs": [],
   "source": [
    "dak_mask = dak.num(dak_zipped)>2"
   ]
  },
  {
   "cell_type": "code",
   "execution_count": 66,
   "id": "391d4526-e27d-4c04-88a0-083554724b07",
   "metadata": {},
   "outputs": [
    {
     "data": {
      "text/html": [
       "<pre>[[{pt: 195, eta: -0.732}, {pt: 74.9, ...}, {...}, {pt: 65.6, eta: -1.42}],\n",
       " [{pt: 85.4, eta: 1.2}, {pt: 59.1, eta: 0.137}, {pt: 57.2, eta: 2.6}],\n",
       " [{pt: 104, eta: -0.19}, {pt: 94.9, ...}, {pt: 52.4, eta: 0.384}],\n",
       " [{pt: 108, eta: 1.57}, {pt: 84.4, eta: ..., ...}, {pt: 81.8, eta: 0.975}],\n",
       " [{pt: 201, eta: 1.38}, {pt: 90.1, eta: ..., ...}, {pt: 51.2, eta: -1.05}],\n",
       " [{pt: 156, eta: -0.0654}, {pt: 106, ...}, {...}, {pt: 51.6, eta: -0.384}],\n",
       " [{pt: 92.2, eta: -0.575}, {pt: 68.1, ...}, {pt: 51.4, eta: -0.853}],\n",
       " [{pt: 194, eta: 0.583}, {pt: 169, eta: ..., ...}, {pt: 59.2, eta: -1.46}],\n",
       " [{pt: 190, eta: 0.139}, {pt: 99.9, eta: ..., ...}, ..., {pt: 55, eta: -0.631}],\n",
       " [{pt: 214, eta: 2.48}, {pt: 82.4, eta: ..., ...}, {pt: 67.4, eta: 2.15}],\n",
       " ...,\n",
       " [{pt: 178, eta: -0.822}, {pt: 101, ...}, {pt: 53.1, eta: -1.99}],\n",
       " [{pt: 127, eta: -1.15}, {pt: 111, ...}, {pt: 92.5, eta: 0.0999}],\n",
       " [{pt: 226, eta: 0.564}, {pt: 86.9, ...}, {pt: 64.9, eta: -0.815}],\n",
       " [{pt: 214, eta: -0.415}, {pt: 190, eta: ..., ...}, {pt: 101, eta: 0.192}],\n",
       " [{pt: 149, eta: 0.943}, {pt: 81.2, eta: ..., ...}, ..., {pt: 52.2, eta: 1.94}],\n",
       " [{pt: 117, eta: -1.04}, {pt: 84.2, eta: -1.05}, {pt: 59, eta: 0.43}],\n",
       " [{pt: 132, eta: -1.54}, {pt: 125, eta: ..., ...}, {pt: 51.5, eta: 3.85}],\n",
       " [{pt: 131, eta: 1.14}, {pt: 108, eta: ..., ...}, {pt: 65.2, eta: -1.05}],\n",
       " [{pt: 311, eta: 1.35}, {pt: 305, eta: ..., ...}, {pt: 61.3, eta: 0.993}]]\n",
       "--------------------------------------------------------------------------------\n",
       "type: 8036 * var * {\n",
       "    pt: float32[parameters={&quot;__doc__&quot;: &quot;pt&quot;}],\n",
       "    eta: float32[parameters={&quot;__doc__&quot;: &quot;eta&quot;}]\n",
       "}</pre>"
      ],
      "text/plain": [
       "<Array [[{pt: 195, eta: ..., ...}, ...], ...] type='8036 * var * {pt: float...'>"
      ]
     },
     "execution_count": 66,
     "metadata": {},
     "output_type": "execute_result"
    }
   ],
   "source": [
    "dak_zipped[dak_mask].compute()"
   ]
  },
  {
   "cell_type": "code",
   "execution_count": 31,
   "id": "efd7baea-6d1c-4442-8166-69048ff74c0f",
   "metadata": {},
   "outputs": [],
   "source": [
    "# correct way to compute events\n",
    "events=events[dak_mask.compute()]"
   ]
  },
  {
   "cell_type": "code",
   "execution_count": 90,
   "id": "46ff20e2-56e9-4466-bf10-b4ed9cb34982",
   "metadata": {},
   "outputs": [
    {
     "name": "stdout",
     "output_type": "stream",
     "text": [
      "The function took 0.894880166000803 seconds to execute.\n"
     ]
    }
   ],
   "source": [
    "start_time = time.perf_counter()  # Start timing\n",
    "(dak.num(events[\"Jet_pt\"])==2).compute()\n",
    "end_time = time.perf_counter()\n",
    "execution_time = end_time - start_time\n",
    "print(f\"The function took {execution_time} seconds to execute.\")"
   ]
  },
  {
   "cell_type": "code",
   "execution_count": 89,
   "id": "31fb4b46-7522-496f-9514-cade55a7d21d",
   "metadata": {},
   "outputs": [
    {
     "data": {
      "text/plain": [
       "dask.awkward<equal, npartitions=10>"
      ]
     },
     "execution_count": 89,
     "metadata": {},
     "output_type": "execute_result"
    }
   ],
   "source": [
    "import operator as op\n",
    "op.eq(dak.num(dak_zipped), 2)"
   ]
  },
  {
   "cell_type": "code",
   "execution_count": null,
   "id": "5c7c726e-3634-4f09-aee1-5885f3f812ab",
   "metadata": {},
   "outputs": [],
   "source": []
  },
  {
   "cell_type": "code",
   "execution_count": 2,
   "id": "6a9c0f7f-e567-4026-9653-1b54fdecfd24",
   "metadata": {},
   "outputs": [],
   "source": [
    "lepsel = PackedSelection()"
   ]
  },
  {
   "cell_type": "code",
   "execution_count": 3,
   "id": "f391ec73-ae3b-4bc9-946d-122ca1517e96",
   "metadata": {},
   "outputs": [
    {
     "data": {
      "text/plain": [
       "coffea.analysis_tools.PackedSelection"
      ]
     },
     "execution_count": 3,
     "metadata": {},
     "output_type": "execute_result"
    }
   ],
   "source": [
    "type(lepsel)"
   ]
  },
  {
   "cell_type": "code",
   "execution_count": null,
   "id": "b4430d69-8792-4e99-aa37-79e7aabf9082",
   "metadata": {},
   "outputs": [],
   "source": []
  }
 ],
 "metadata": {
  "kernelspec": {
   "display_name": "Python 3 (ipykernel)",
   "language": "python",
   "name": "python3"
  },
  "language_info": {
   "codemirror_mode": {
    "name": "ipython",
    "version": 3
   },
   "file_extension": ".py",
   "mimetype": "text/x-python",
   "name": "python",
   "nbconvert_exporter": "python",
   "pygments_lexer": "ipython3",
   "version": "3.9.10"
  }
 },
 "nbformat": 4,
 "nbformat_minor": 5
}
