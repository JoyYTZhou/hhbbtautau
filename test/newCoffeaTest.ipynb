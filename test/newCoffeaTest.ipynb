{
 "cells": [
  {
   "cell_type": "code",
   "execution_count": 6,
   "id": "0f5165a8",
   "metadata": {},
   "outputs": [],
   "source": [
    "from coffea.nanoevents import NanoEventsFactory\n",
    "from coffea.nanoevents.schemas import BaseSchema\n",
    "from config.selectionconfig import runsetting as rs"
   ]
  },
  {
   "cell_type": "code",
   "execution_count": 7,
   "id": "63e1ee09-4fa8-4460-a4de-944580c9cab2",
   "metadata": {},
   "outputs": [],
   "source": [
    "from config.selectionconfig import settings as cfg\n",
    "import time"
   ]
  },
  {
   "cell_type": "code",
   "execution_count": 8,
   "id": "cc9499a7-f07a-4ad2-922c-e5314c792b3a",
   "metadata": {},
   "outputs": [],
   "source": [
    "import dask_awkward as dak\n",
    "import awkward as ak"
   ]
  },
  {
   "cell_type": "code",
   "execution_count": 9,
   "id": "3e436d74-4447-4ddd-b212-8bfa1e34483f",
   "metadata": {},
   "outputs": [],
   "source": [
    "from coffea.analysis_tools import PackedSelection"
   ]
  },
  {
   "cell_type": "code",
   "execution_count": 10,
   "id": "fdb7d823-2972-4afc-b4d9-5c25a9b825c0",
   "metadata": {},
   "outputs": [
    {
     "name": "stdout",
     "output_type": "stream",
     "text": [
      "The autoreload extension is already loaded. To reload it, use:\n",
      "  %reload_ext autoreload\n"
     ]
    }
   ],
   "source": [
    "%load_ext autoreload\n",
    "%autoreload 2"
   ]
  },
  {
   "cell_type": "code",
   "execution_count": 11,
   "id": "6edc18e6-c02a-472e-9cb5-e4ef15f38ed8",
   "metadata": {},
   "outputs": [],
   "source": [
    "def measure_execution_time(func, *args, **kwargs):\n",
    "    start_time = time.perf_counter()  # Start timing\n",
    "\n",
    "    # Call the function with any provided arguments\n",
    "    result = func(*args, **kwargs)\n",
    "\n",
    "    end_time = time.perf_counter()  # End timing\n",
    "    execution_time = end_time - start_time\n",
    "\n",
    "    print(f\"The function '{func.__name__}' took {execution_time} seconds to execute.\")\n",
    "    return result"
   ]
  },
  {
   "cell_type": "code",
   "execution_count": 36,
   "id": "2a3582db",
   "metadata": {},
   "outputs": [
    {
     "name": "stdout",
     "output_type": "stream",
     "text": [
      "The function took 0.6647109169998657 seconds to execute.\n"
     ]
    }
   ],
   "source": [
    "start_time = time.perf_counter()\n",
    "events = NanoEventsFactory.from_root(\n",
    "        f\"{rs.SINGLE_PATH}:Events\",\n",
    "        entry_stop=None,\n",
    "        metadata={\"dataset\": \"DYJets\"},\n",
    "        uproot_options={\"timeout\": 100},\n",
    "        schemaclass=BaseSchema,\n",
    "    ).events()\n",
    "end_time = time.perf_counter()\n",
    "execution_time = end_time - start_time\n",
    "print(f\"The function took {execution_time} seconds to execute.\")"
   ]
  },
  {
   "cell_type": "code",
   "execution_count": 28,
   "id": "6e9e9f95-6780-47d6-bc79-7ff14a14c46b",
   "metadata": {},
   "outputs": [
    {
     "ename": "NameError",
     "evalue": "name 'uproot' is not defined",
     "output_type": "error",
     "traceback": [
      "\u001b[0;31m---------------------------------------------------------------------------\u001b[0m",
      "\u001b[0;31mNameError\u001b[0m                                 Traceback (most recent call last)",
      "Cell \u001b[0;32mIn[28], line 1\u001b[0m\n\u001b[0;32m----> 1\u001b[0m measure_execution_time(\u001b[43muproot\u001b[49m\u001b[38;5;241m.\u001b[39m_dask\u001b[38;5;241m.\u001b[39mdask, \u001b[38;5;124mf\u001b[39m\u001b[38;5;124m\"\u001b[39m\u001b[38;5;132;01m{\u001b[39;00mrs\u001b[38;5;241m.\u001b[39mSINGLE_PATH\u001b[38;5;132;01m}\u001b[39;00m\u001b[38;5;124m:Events\u001b[39m\u001b[38;5;124m\"\u001b[39m)\n",
      "\u001b[0;31mNameError\u001b[0m: name 'uproot' is not defined"
     ]
    }
   ],
   "source": [
    "measure_execution_time(uproot._dask.dask, f\"{rs.SINGLE_PATH}:Events\")"
   ]
  },
  {
   "cell_type": "code",
   "execution_count": 59,
   "id": "fcbce265-dc2e-4265-8eb6-a03e85a90f6f",
   "metadata": {},
   "outputs": [],
   "source": [
    "jetpt = events[\"Jet_pt\"].compute()\n",
    "jeteta = events[\"Jet_eta\"].compute()\n",
    "dak_zipped = dak.zip({\"pt\": dak.from_awkward(jetpt, npartitions=10),\n",
    "                      \"eta\": dak.from_awkward(jeteta, npartitions=10)})"
   ]
  },
  {
   "cell_type": "code",
   "execution_count": 16,
   "id": "8f0f7c9e-517f-4ba9-83e5-42094257f935",
   "metadata": {},
   "outputs": [
    {
     "name": "stdout",
     "output_type": "stream",
     "text": [
      "The function took 0.02522283299981609 seconds to execute.\n"
     ]
    }
   ],
   "source": [
    "start_time = time.perf_counter()  # Start timing\n",
    "(dak.num(dak_zipped)==2).compute()\n",
    "end_time = time.perf_counter()\n",
    "execution_time = end_time - start_time\n",
    "print(f\"The function took {execution_time} seconds to execute.\")"
   ]
  },
  {
   "cell_type": "code",
   "execution_count": 64,
   "id": "b2988337-69dd-4382-afce-36aab629fd38",
   "metadata": {},
   "outputs": [],
   "source": [
    "dak_zipped = dak_zipped[dak_zipped.pt>50]"
   ]
  },
  {
   "cell_type": "code",
   "execution_count": 65,
   "id": "263025d9-50f3-40e1-b242-4536fa330d83",
   "metadata": {},
   "outputs": [],
   "source": [
    "dak_mask = dak.num(dak_zipped)>2"
   ]
  },
  {
   "cell_type": "code",
   "execution_count": 66,
   "id": "391d4526-e27d-4c04-88a0-083554724b07",
   "metadata": {},
   "outputs": [
    {
     "data": {
      "text/html": [
       "<pre>[[{pt: 195, eta: -0.732}, {pt: 74.9, ...}, {...}, {pt: 65.6, eta: -1.42}],\n",
       " [{pt: 85.4, eta: 1.2}, {pt: 59.1, eta: 0.137}, {pt: 57.2, eta: 2.6}],\n",
       " [{pt: 104, eta: -0.19}, {pt: 94.9, ...}, {pt: 52.4, eta: 0.384}],\n",
       " [{pt: 108, eta: 1.57}, {pt: 84.4, eta: ..., ...}, {pt: 81.8, eta: 0.975}],\n",
       " [{pt: 201, eta: 1.38}, {pt: 90.1, eta: ..., ...}, {pt: 51.2, eta: -1.05}],\n",
       " [{pt: 156, eta: -0.0654}, {pt: 106, ...}, {...}, {pt: 51.6, eta: -0.384}],\n",
       " [{pt: 92.2, eta: -0.575}, {pt: 68.1, ...}, {pt: 51.4, eta: -0.853}],\n",
       " [{pt: 194, eta: 0.583}, {pt: 169, eta: ..., ...}, {pt: 59.2, eta: -1.46}],\n",
       " [{pt: 190, eta: 0.139}, {pt: 99.9, eta: ..., ...}, ..., {pt: 55, eta: -0.631}],\n",
       " [{pt: 214, eta: 2.48}, {pt: 82.4, eta: ..., ...}, {pt: 67.4, eta: 2.15}],\n",
       " ...,\n",
       " [{pt: 178, eta: -0.822}, {pt: 101, ...}, {pt: 53.1, eta: -1.99}],\n",
       " [{pt: 127, eta: -1.15}, {pt: 111, ...}, {pt: 92.5, eta: 0.0999}],\n",
       " [{pt: 226, eta: 0.564}, {pt: 86.9, ...}, {pt: 64.9, eta: -0.815}],\n",
       " [{pt: 214, eta: -0.415}, {pt: 190, eta: ..., ...}, {pt: 101, eta: 0.192}],\n",
       " [{pt: 149, eta: 0.943}, {pt: 81.2, eta: ..., ...}, ..., {pt: 52.2, eta: 1.94}],\n",
       " [{pt: 117, eta: -1.04}, {pt: 84.2, eta: -1.05}, {pt: 59, eta: 0.43}],\n",
       " [{pt: 132, eta: -1.54}, {pt: 125, eta: ..., ...}, {pt: 51.5, eta: 3.85}],\n",
       " [{pt: 131, eta: 1.14}, {pt: 108, eta: ..., ...}, {pt: 65.2, eta: -1.05}],\n",
       " [{pt: 311, eta: 1.35}, {pt: 305, eta: ..., ...}, {pt: 61.3, eta: 0.993}]]\n",
       "--------------------------------------------------------------------------------\n",
       "type: 8036 * var * {\n",
       "    pt: float32[parameters={&quot;__doc__&quot;: &quot;pt&quot;}],\n",
       "    eta: float32[parameters={&quot;__doc__&quot;: &quot;eta&quot;}]\n",
       "}</pre>"
      ],
      "text/plain": [
       "<Array [[{pt: 195, eta: ..., ...}, ...], ...] type='8036 * var * {pt: float...'>"
      ]
     },
     "execution_count": 66,
     "metadata": {},
     "output_type": "execute_result"
    }
   ],
   "source": [
    "dak_zipped[dak_mask].compute()"
   ]
  },
  {
   "cell_type": "code",
   "execution_count": 31,
   "id": "efd7baea-6d1c-4442-8166-69048ff74c0f",
   "metadata": {},
   "outputs": [],
   "source": [
    "# correct way to compute events\n",
    "events=events[dak_mask.compute()]"
   ]
  },
  {
   "cell_type": "code",
   "execution_count": 90,
   "id": "46ff20e2-56e9-4466-bf10-b4ed9cb34982",
   "metadata": {},
   "outputs": [
    {
     "name": "stdout",
     "output_type": "stream",
     "text": [
      "The function took 0.894880166000803 seconds to execute.\n"
     ]
    }
   ],
   "source": [
    "start_time = time.perf_counter()  # Start timing\n",
    "(dak.num(events[\"Jet_pt\"])==2).compute()\n",
    "end_time = time.perf_counter()\n",
    "execution_time = end_time - start_time\n",
    "print(f\"The function took {execution_time} seconds to execute.\")"
   ]
  },
  {
   "cell_type": "code",
   "execution_count": 89,
   "id": "31fb4b46-7522-496f-9514-cade55a7d21d",
   "metadata": {},
   "outputs": [
    {
     "data": {
      "text/plain": [
       "dask.awkward<equal, npartitions=10>"
      ]
     },
     "execution_count": 89,
     "metadata": {},
     "output_type": "execute_result"
    }
   ],
   "source": [
    "import operator as op\n",
    "op.eq(dak.num(dak_zipped), 2)"
   ]
  },
  {
   "cell_type": "code",
   "execution_count": null,
   "id": "5c7c726e-3634-4f09-aee1-5885f3f812ab",
   "metadata": {},
   "outputs": [],
   "source": []
  },
  {
   "cell_type": "code",
   "execution_count": 2,
   "id": "6a9c0f7f-e567-4026-9653-1b54fdecfd24",
   "metadata": {},
   "outputs": [],
   "source": [
    "lepsel = PackedSelection()"
   ]
  },
  {
   "cell_type": "code",
   "execution_count": 3,
   "id": "f391ec73-ae3b-4bc9-946d-122ca1517e96",
   "metadata": {},
   "outputs": [
    {
     "data": {
      "text/plain": [
       "coffea.analysis_tools.PackedSelection"
      ]
     },
     "execution_count": 3,
     "metadata": {},
     "output_type": "execute_result"
    }
   ],
   "source": [
    "type(lepsel)"
   ]
  },
  {
   "cell_type": "code",
   "execution_count": null,
   "id": "b4430d69-8792-4e99-aa37-79e7aabf9082",
   "metadata": {},
   "outputs": [],
   "source": []
  }
 ],
 "metadata": {
  "kernelspec": {
   "display_name": "Python 3 (ipykernel)",
   "language": "python",
   "name": "python3"
  },
  "language_info": {
   "codemirror_mode": {
    "name": "ipython",
    "version": 3
   },
   "file_extension": ".py",
   "mimetype": "text/x-python",
   "name": "python",
   "nbconvert_exporter": "python",
   "pygments_lexer": "ipython3",
   "version": "3.9.10"
  }
 },
 "nbformat": 4,
 "nbformat_minor": 5
}
