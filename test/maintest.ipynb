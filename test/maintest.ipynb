{
 "cells": [
  {
   "cell_type": "code",
   "execution_count": 72,
   "id": "e2ca7793",
   "metadata": {},
   "outputs": [],
   "source": [
    "import uproot\n",
    "from coffea.nanoevents import NanoEventsFactory, BaseSchema\n",
    "from analysis.processing import *\n",
    "from config.selectionconfig import runsetting as rs\n",
    "from config.selectionconfig import settings as cfg"
   ]
  },
  {
   "cell_type": "code",
   "execution_count": 47,
   "id": "b5ff62be",
   "metadata": {},
   "outputs": [
    {
     "name": "stdout",
     "output_type": "stream",
     "text": [
      "The autoreload extension is already loaded. To reload it, use:\n",
      "  %reload_ext autoreload\n"
     ]
    }
   ],
   "source": [
    "%load_ext autoreload\n",
    "%autoreload 2"
   ]
  },
  {
   "cell_type": "code",
   "execution_count": 48,
   "id": "bdb043ab",
   "metadata": {},
   "outputs": [],
   "source": [
    "filename = \"/Users/yuntongzhou/Desktop/Dihiggszztt/sample2.root\"\n",
    "file = uproot.open(filename)\n",
    "events = NanoEventsFactory.from_root(\n",
    "    file,\n",
    "    entry_stop=10000,\n",
    "    metadata={\"dataset\": \"sample2\"},\n",
    "    schemaclass=BaseSchema,\n",
    ").events()"
   ]
  },
  {
   "cell_type": "code",
   "execution_count": 49,
   "id": "465c2056",
   "metadata": {},
   "outputs": [],
   "source": [
    "p = hhbbtautauProcessor()"
   ]
  },
  {
   "cell_type": "code",
   "execution_count": 53,
   "id": "bbca22af",
   "metadata": {},
   "outputs": [],
   "source": [
    "out = p.process(events)"
   ]
  },
  {
   "cell_type": "code",
   "execution_count": 54,
   "id": "5839ed26",
   "metadata": {
    "collapsed": true
   },
   "outputs": [],
   "source": [
    "p.postprocess(out)"
   ]
  },
  {
   "cell_type": "code",
   "execution_count": 138,
   "id": "710184a2",
   "metadata": {},
   "outputs": [
    {
     "data": {
      "text/plain": [
       "defaultdict_accumulator(int,\n",
       "                        {'Total': 443,\n",
       "                         'TauSelection': 15,\n",
       "                         'Pair Selection': 15,\n",
       "                         'Jet selections': 14})"
      ]
     },
     "execution_count": 138,
     "metadata": {},
     "output_type": "execute_result"
    }
   ],
   "source": [
    "out['sample2']['tauhtauh']['Cutflow']"
   ]
  },
  {
   "cell_type": "markdown",
   "id": "c49e9ec8",
   "metadata": {},
   "source": [
    "### Debugging Code"
   ]
  },
  {
   "cell_type": "code",
   "execution_count": 21,
   "id": "fbf4abab",
   "metadata": {},
   "outputs": [],
   "source": [
    "from analysis.selutility import zip_lepproperties, LV_from_zipped"
   ]
  },
  {
   "cell_type": "code",
   "execution_count": 13,
   "id": "0e4fcccf",
   "metadata": {},
   "outputs": [],
   "source": [
    "import awkward as ak"
   ]
  },
  {
   "cell_type": "code",
   "execution_count": 14,
   "id": "9195890c",
   "metadata": {},
   "outputs": [],
   "source": [
    "events_dict, cutflow_dict, object_dict = lepton_selections(events, cfg)"
   ]
  },
  {
   "cell_type": "code",
   "execution_count": 15,
   "id": "3dae25c4",
   "metadata": {},
   "outputs": [],
   "source": [
    "pair_selections(events_dict, cutflow_dict, object_dict, cfg)"
   ]
  },
  {
   "cell_type": "code",
   "execution_count": 16,
   "id": "6c520411",
   "metadata": {},
   "outputs": [
    {
     "data": {
      "text/plain": [
       "{'Electron': <PtEtaPhiMLorentzVectorArray [[], [], [], []] type='4 * var * PtEtaPhiMLorentzVe...'>,\n",
       " 'Muon': <PtEtaPhiMLorentzVectorArray [[{pt: 111, ... tightid: True}]] type='4 * var * Pt...'>,\n",
       " 'Tau': <PtEtaPhiMLorentzVectorArray [[{pt: 49.2, eta: -0.99, ... idvse: 8}]] type='4 * ...'>}"
      ]
     },
     "execution_count": 16,
     "metadata": {},
     "output_type": "execute_result"
    }
   ],
   "source": [
    "object_dict['channel1']"
   ]
  },
  {
   "cell_type": "code",
   "execution_count": 18,
   "id": "697e8e64",
   "metadata": {},
   "outputs": [
    {
     "data": {
      "text/plain": [
       "{'Total': 459,\n",
       " 'ElectronSelection': 310,\n",
       " 'MuonSelection': 40,\n",
       " 'TauSelection': 4,\n",
       " 'Pair Selection': 4}"
      ]
     },
     "execution_count": 18,
     "metadata": {},
     "output_type": "execute_result"
    }
   ],
   "source": [
    "cutflow_dict['channel1']"
   ]
  },
  {
   "cell_type": "code",
   "execution_count": 19,
   "id": "f6407a58",
   "metadata": {},
   "outputs": [],
   "source": [
    "jet_selections(events_dict, cutflow_dict, object_dict, cfg)"
   ]
  },
  {
   "cell_type": "code",
   "execution_count": 20,
   "id": "0b87eb1c",
   "metadata": {},
   "outputs": [
    {
     "data": {
      "text/plain": [
       "{'channel1': {'Total': 459,\n",
       "  'ElectronSelection': 310,\n",
       "  'MuonSelection': 40,\n",
       "  'TauSelection': 4,\n",
       "  'Pair Selection': 4,\n",
       "  'Jet selections': 3},\n",
       " 'channel2': {'Total': 455,\n",
       "  'ElectronSelection': 59,\n",
       "  'MuonSelection': 50,\n",
       "  'TauSelection': 12,\n",
       "  'Pair Selection': 8,\n",
       "  'Jet selections': 8},\n",
       " 'channel3': {'Total': 443,\n",
       "  'TauSelection': 15,\n",
       "  'Pair Selection': 15,\n",
       "  'Jet selections': 14}}"
      ]
     },
     "execution_count": 20,
     "metadata": {},
     "output_type": "execute_result"
    }
   ],
   "source": [
    "cutflow_dict"
   ]
  },
  {
   "cell_type": "code",
   "execution_count": 21,
   "id": "710dd036",
   "metadata": {},
   "outputs": [
    {
     "data": {
      "text/plain": [
       "{'Electron': <PtEtaPhiMLorentzVectorArray [[{pt: 53.1, eta: 0.173, ... bdtid: 1}]] type='8 * ...'>,\n",
       " 'Muon': <PtEtaPhiMLorentzVectorArray [[], [], [], [], [], [], [], []] type='8 * var * Pt...'>,\n",
       " 'Tau': <PtEtaPhiMLorentzVectorArray [[{pt: 46.2, eta: 1, ... idvse: 8}]] type='8 * var ...'>,\n",
       " 'Jet': <Array [[{pt: 191, ... deepJetCvsB: 0.859}]] type='8 * var * PtEtaPhiMCandidate[...'>,\n",
       " 'FatJet': <Array [[{pt: 208, eta: 1.72, ... []] type='8 * var * PtEtaPhiMCandidate[\"pt\": f...'>}"
      ]
     },
     "execution_count": 21,
     "metadata": {},
     "output_type": "execute_result"
    }
   ],
   "source": [
    "object_dict['channel2']"
   ]
  },
  {
   "cell_type": "code",
   "execution_count": 10,
   "id": "b5738708",
   "metadata": {},
   "outputs": [],
   "source": [
    "pair_selections(events_dict, cutflow_dict, cfg)"
   ]
  },
  {
   "cell_type": "code",
   "execution_count": 11,
   "id": "c631fc72",
   "metadata": {
    "collapsed": true
   },
   "outputs": [
    {
     "data": {
      "text/plain": [
       "{'channel1': {'Total': 459,\n",
       "  'ElectronSelection': 310,\n",
       "  'MuonSelection': 40,\n",
       "  'TauSelection': 4,\n",
       "  'Pair Selection': 4},\n",
       " 'channel2': {'Total': 455,\n",
       "  'ElectronSelection': 59,\n",
       "  'MuonSelection': 50,\n",
       "  'TauSelection': 14,\n",
       "  'Pair Selection': 11},\n",
       " 'channel3': {'Total': 441, 'TauSelection': 14, 'Pair Selection': 11}}"
      ]
     },
     "execution_count": 11,
     "metadata": {},
     "output_type": "execute_result"
    }
   ],
   "source": [
    "cutflow_dict"
   ]
  },
  {
   "cell_type": "code",
   "execution_count": 12,
   "id": "e0101bb1",
   "metadata": {},
   "outputs": [
    {
     "data": {
      "text/plain": [
       "<Array [[-1], [1], [1], [1, 1]] type='4 * var * int32[parameters={\"__doc__\": \"el...'>"
      ]
     },
     "execution_count": 12,
     "metadata": {},
     "output_type": "execute_result"
    }
   ],
   "source": [
    "events_dict['channel1']['Muon_charge']"
   ]
  },
  {
   "cell_type": "code",
   "execution_count": 13,
   "id": "1d4d557a",
   "metadata": {},
   "outputs": [
    {
     "data": {
      "text/plain": [
       "<Array [[-1, 1], [-1, 1, ... -1, 1], [1, -1]] type='4 * var * int32[parameters={...'>"
      ]
     },
     "execution_count": 13,
     "metadata": {},
     "output_type": "execute_result"
    }
   ],
   "source": [
    "events_dict['channel1']['Tau_charge']"
   ]
  },
  {
   "cell_type": "code",
   "execution_count": 76,
   "id": "93e0954e",
   "metadata": {},
   "outputs": [],
   "source": [
    "jet_selections(events_dict, cutflow_dict, cfg)"
   ]
  },
  {
   "cell_type": "code",
   "execution_count": 78,
   "id": "7c2a526a",
   "metadata": {},
   "outputs": [
    {
     "data": {
      "text/plain": [
       "<MomentumArray4D [{rho: 111, phi: -2.68, ... tau: 0.106}] type='5 * Momentum4D[\"...'>"
      ]
     },
     "execution_count": 78,
     "metadata": {},
     "output_type": "execute_result"
    }
   ],
   "source": [
    "ak.flatten(LV(\"Muon\",events_dict['channel1']))"
   ]
  },
  {
   "cell_type": "code",
   "execution_count": 64,
   "id": "c06ae367",
   "metadata": {},
   "outputs": [
    {
     "data": {
      "text/plain": [
       "<MomentumArray4D [[{rho: 142, phi: -2.99, ... tau: 119}]] type='4 * var * Moment...'>"
      ]
     },
     "execution_count": 64,
     "metadata": {},
     "output_type": "execute_result"
    }
   ],
   "source": [
    "LV(\"Muon\",events_dict['channel1'])[:,0]+LV(\"Tau\",events_dict['channel1'])"
   ]
  },
  {
   "cell_type": "code",
   "execution_count": null,
   "id": "c210d9aa",
   "metadata": {},
   "outputs": [],
   "source": []
  }
 ],
 "metadata": {
  "kernelspec": {
   "display_name": "Python 3 (ipykernel)",
   "language": "python",
   "name": "python3"
  },
  "language_info": {
   "codemirror_mode": {
    "name": "ipython",
    "version": 3
   },
   "file_extension": ".py",
   "mimetype": "text/x-python",
   "name": "python",
   "nbconvert_exporter": "python",
   "pygments_lexer": "ipython3",
   "version": "3.9.16"
  }
 },
 "nbformat": 4,
 "nbformat_minor": 5
}
