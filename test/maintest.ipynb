{
 "cells": [
  {
   "cell_type": "code",
   "execution_count": 1,
   "id": "e2ca7793",
   "metadata": {},
   "outputs": [],
   "source": [
    "import uproot\n",
    "from coffea.nanoevents import NanoEventsFactory, BaseSchema\n",
    "from analysis.processing import *\n",
    "from config.selectionconfig import runsetting as rs\n",
    "from config.selectionconfig import settings as cfg\n",
    "from coffea.processor import dict_accumulator, column_accumulator, defaultdict_accumulator"
   ]
  },
  {
   "cell_type": "code",
   "execution_count": 2,
   "id": "b5ff62be",
   "metadata": {},
   "outputs": [],
   "source": [
    "%load_ext autoreload\n",
    "%autoreload 2"
   ]
  },
  {
   "cell_type": "code",
   "execution_count": 3,
   "id": "bdb043ab",
   "metadata": {},
   "outputs": [],
   "source": [
    "filename = \"/Users/yuntongzhou/Desktop/Dihiggszztt/sample1.root\"\n",
    "file = uproot.open(filename)\n",
    "events = NanoEventsFactory.from_root(\n",
    "    file,\n",
    "    entry_stop=10000,\n",
    "    metadata={\"dataset\": \"DYJets_0\"},\n",
    "    schemaclass=BaseSchema,\n",
    ").events()\n",
    "p = hhbbtautauProcessor()\n",
    "out_1 = p.process(events)\n",
    "p.postprocess(out_1)"
   ]
  },
  {
   "cell_type": "code",
   "execution_count": 7,
   "id": "aed532f6",
   "metadata": {},
   "outputs": [],
   "source": [
    "unwrap_col_acc(out_1)"
   ]
  },
  {
   "cell_type": "code",
   "execution_count": 12,
   "id": "bff16c90",
   "metadata": {},
   "outputs": [],
   "source": [
    "object_export(out_1, rs, output=True, suffix=None)"
   ]
  },
  {
   "cell_type": "code",
   "execution_count": 4,
   "id": "465c2056",
   "metadata": {},
   "outputs": [],
   "source": [
    "filename = \"/Users/yuntongzhou/Desktop/Dihiggszztt/sample2.root\"\n",
    "file = uproot.open(filename)\n",
    "events = NanoEventsFactory.from_root(\n",
    "    file,\n",
    "    entry_stop=10000,\n",
    "    metadata={\"dataset\": \"DYJets\"},\n",
    "    schemaclass=BaseSchema,\n",
    ").events()\n",
    "p = hhbbtautauProcessor()\n",
    "out_2 = p.process(events)\n",
    "p.postprocess(out_2)"
   ]
  },
  {
   "cell_type": "code",
   "execution_count": 36,
   "id": "29d9d667",
   "metadata": {
    "scrolled": false
   },
   "outputs": [
    {
     "data": {
      "text/html": [
       "<div>\n",
       "<style scoped>\n",
       "    .dataframe tbody tr th:only-of-type {\n",
       "        vertical-align: middle;\n",
       "    }\n",
       "\n",
       "    .dataframe tbody tr th {\n",
       "        vertical-align: top;\n",
       "    }\n",
       "\n",
       "    .dataframe thead th {\n",
       "        text-align: right;\n",
       "    }\n",
       "</style>\n",
       "<table border=\"1\" class=\"dataframe\">\n",
       "  <thead>\n",
       "    <tr style=\"text-align: right;\">\n",
       "      <th></th>\n",
       "      <th>DYJets</th>\n",
       "    </tr>\n",
       "  </thead>\n",
       "  <tbody>\n",
       "    <tr>\n",
       "      <th>Total</th>\n",
       "      <td>9826</td>\n",
       "    </tr>\n",
       "    <tr>\n",
       "      <th>ElectronSelection</th>\n",
       "      <td>1833</td>\n",
       "    </tr>\n",
       "    <tr>\n",
       "      <th>MuonSelection</th>\n",
       "      <td>1519</td>\n",
       "    </tr>\n",
       "    <tr>\n",
       "      <th>TauSelection</th>\n",
       "      <td>563</td>\n",
       "    </tr>\n",
       "    <tr>\n",
       "      <th>Pair Selection</th>\n",
       "      <td>223</td>\n",
       "    </tr>\n",
       "    <tr>\n",
       "      <th>Jet selections</th>\n",
       "      <td>177</td>\n",
       "    </tr>\n",
       "  </tbody>\n",
       "</table>\n",
       "</div>"
      ],
      "text/plain": [
       "                   DYJets\n",
       "Total                9826\n",
       "ElectronSelection    1833\n",
       "MuonSelection        1519\n",
       "TauSelection          563\n",
       "Pair Selection        223\n",
       "Jet selections        177"
      ]
     },
     "execution_count": 36,
     "metadata": {},
     "output_type": "execute_result"
    }
   ],
   "source": [
    "cutflow_export(out_1, rs)['tauetauh']"
   ]
  },
  {
   "cell_type": "code",
   "execution_count": 28,
   "id": "a7dd1828",
   "metadata": {},
   "outputs": [
    {
     "data": {
      "text/plain": [
       "coffea.processor.accumulator.dict_accumulator"
      ]
     },
     "execution_count": 28,
     "metadata": {},
     "output_type": "execute_result"
    }
   ],
   "source": [
    "type(out_1)"
   ]
  },
  {
   "cell_type": "code",
   "execution_count": 30,
   "id": "659c1fb1",
   "metadata": {},
   "outputs": [
    {
     "data": {
      "text/plain": [
       "coffea.processor.accumulator.dict_accumulator"
      ]
     },
     "execution_count": 30,
     "metadata": {},
     "output_type": "execute_result"
    }
   ],
   "source": [
    "type(out_1[\"DYJets\"])"
   ]
  },
  {
   "cell_type": "code",
   "execution_count": 44,
   "id": "bbca22af",
   "metadata": {},
   "outputs": [],
   "source": [
    "out_tot = dict_accumulator()\n",
    "out_tot.add(out_1)"
   ]
  },
  {
   "cell_type": "code",
   "execution_count": 45,
   "id": "baeb489f",
   "metadata": {},
   "outputs": [],
   "source": [
    "out_tot.add(out_2)"
   ]
  },
  {
   "cell_type": "code",
   "execution_count": 17,
   "id": "8f3240ce",
   "metadata": {},
   "outputs": [],
   "source": [
    "filename = \"/Users/yuntongzhou/Desktop/Dihiggszztt/sample2.root\"\n",
    "file = uproot.open(filename)\n",
    "events = NanoEventsFactory.from_root(\n",
    "    file,\n",
    "    entry_stop=10000,\n",
    "    metadata={\"dataset\": \"DYJets\"},\n",
    "    schemaclass=BaseSchema,\n",
    ").events()"
   ]
  },
  {
   "cell_type": "code",
   "execution_count": 18,
   "id": "6dbd4c2a",
   "metadata": {},
   "outputs": [],
   "source": [
    "out_2 = p.process(events)"
   ]
  },
  {
   "cell_type": "code",
   "execution_count": 19,
   "id": "ccfc520c",
   "metadata": {},
   "outputs": [
    {
     "data": {
      "text/plain": [
       "defaultdict_accumulator(int,\n",
       "                        {'Total': 447,\n",
       "                         'TauSelection': 15,\n",
       "                         'Pair Selection': 15,\n",
       "                         'Jet selections': 14})"
      ]
     },
     "execution_count": 19,
     "metadata": {},
     "output_type": "execute_result"
    }
   ],
   "source": [
    "out_2['DYJets']['tauhtauh']['Cutflow']"
   ]
  },
  {
   "cell_type": "code",
   "execution_count": 15,
   "id": "5839ed26",
   "metadata": {},
   "outputs": [],
   "source": [
    "p.postprocess(out)"
   ]
  },
  {
   "cell_type": "code",
   "execution_count": 16,
   "id": "710184a2",
   "metadata": {},
   "outputs": [
    {
     "data": {
      "text/plain": [
       "defaultdict_accumulator(int,\n",
       "                        {'Total': 9612,\n",
       "                         'TauSelection': 285,\n",
       "                         'Pair Selection': 285,\n",
       "                         'Jet selections': 235})"
      ]
     },
     "execution_count": 16,
     "metadata": {},
     "output_type": "execute_result"
    }
   ],
   "source": [
    "out['sample2']['tauhtauh']['Cutflow']"
   ]
  },
  {
   "cell_type": "code",
   "execution_count": 17,
   "id": "7dd9740a",
   "metadata": {},
   "outputs": [],
   "source": [
    "output_export(out, rs)"
   ]
  },
  {
   "cell_type": "markdown",
   "id": "c49e9ec8",
   "metadata": {},
   "source": [
    "### Debugging Code"
   ]
  },
  {
   "cell_type": "code",
   "execution_count": 21,
   "id": "fbf4abab",
   "metadata": {},
   "outputs": [],
   "source": [
    "from analysis.selutility import zip_lepproperties, LV_from_zipped"
   ]
  },
  {
   "cell_type": "code",
   "execution_count": 13,
   "id": "0e4fcccf",
   "metadata": {},
   "outputs": [],
   "source": [
    "import awkward as ak"
   ]
  },
  {
   "cell_type": "code",
   "execution_count": 14,
   "id": "9195890c",
   "metadata": {},
   "outputs": [],
   "source": [
    "events_dict, cutflow_dict, object_dict = lepton_selections(events, cfg)"
   ]
  },
  {
   "cell_type": "code",
   "execution_count": 15,
   "id": "3dae25c4",
   "metadata": {},
   "outputs": [],
   "source": [
    "pair_selections(events_dict, cutflow_dict, object_dict, cfg)"
   ]
  },
  {
   "cell_type": "code",
   "execution_count": 16,
   "id": "6c520411",
   "metadata": {},
   "outputs": [
    {
     "data": {
      "text/plain": [
       "{'Electron': <PtEtaPhiMLorentzVectorArray [[], [], [], []] type='4 * var * PtEtaPhiMLorentzVe...'>,\n",
       " 'Muon': <PtEtaPhiMLorentzVectorArray [[{pt: 111, ... tightid: True}]] type='4 * var * Pt...'>,\n",
       " 'Tau': <PtEtaPhiMLorentzVectorArray [[{pt: 49.2, eta: -0.99, ... idvse: 8}]] type='4 * ...'>}"
      ]
     },
     "execution_count": 16,
     "metadata": {},
     "output_type": "execute_result"
    }
   ],
   "source": [
    "object_dict['channel1']"
   ]
  },
  {
   "cell_type": "code",
   "execution_count": 18,
   "id": "697e8e64",
   "metadata": {},
   "outputs": [
    {
     "data": {
      "text/plain": [
       "{'Total': 459,\n",
       " 'ElectronSelection': 310,\n",
       " 'MuonSelection': 40,\n",
       " 'TauSelection': 4,\n",
       " 'Pair Selection': 4}"
      ]
     },
     "execution_count": 18,
     "metadata": {},
     "output_type": "execute_result"
    }
   ],
   "source": [
    "cutflow_dict['channel1']"
   ]
  },
  {
   "cell_type": "code",
   "execution_count": 19,
   "id": "f6407a58",
   "metadata": {},
   "outputs": [],
   "source": [
    "jet_selections(events_dict, cutflow_dict, object_dict, cfg)"
   ]
  },
  {
   "cell_type": "code",
   "execution_count": 20,
   "id": "0b87eb1c",
   "metadata": {},
   "outputs": [
    {
     "data": {
      "text/plain": [
       "{'channel1': {'Total': 459,\n",
       "  'ElectronSelection': 310,\n",
       "  'MuonSelection': 40,\n",
       "  'TauSelection': 4,\n",
       "  'Pair Selection': 4,\n",
       "  'Jet selections': 3},\n",
       " 'channel2': {'Total': 455,\n",
       "  'ElectronSelection': 59,\n",
       "  'MuonSelection': 50,\n",
       "  'TauSelection': 12,\n",
       "  'Pair Selection': 8,\n",
       "  'Jet selections': 8},\n",
       " 'channel3': {'Total': 443,\n",
       "  'TauSelection': 15,\n",
       "  'Pair Selection': 15,\n",
       "  'Jet selections': 14}}"
      ]
     },
     "execution_count": 20,
     "metadata": {},
     "output_type": "execute_result"
    }
   ],
   "source": [
    "cutflow_dict"
   ]
  },
  {
   "cell_type": "code",
   "execution_count": 21,
   "id": "710dd036",
   "metadata": {},
   "outputs": [
    {
     "data": {
      "text/plain": [
       "{'Electron': <PtEtaPhiMLorentzVectorArray [[{pt: 53.1, eta: 0.173, ... bdtid: 1}]] type='8 * ...'>,\n",
       " 'Muon': <PtEtaPhiMLorentzVectorArray [[], [], [], [], [], [], [], []] type='8 * var * Pt...'>,\n",
       " 'Tau': <PtEtaPhiMLorentzVectorArray [[{pt: 46.2, eta: 1, ... idvse: 8}]] type='8 * var ...'>,\n",
       " 'Jet': <Array [[{pt: 191, ... deepJetCvsB: 0.859}]] type='8 * var * PtEtaPhiMCandidate[...'>,\n",
       " 'FatJet': <Array [[{pt: 208, eta: 1.72, ... []] type='8 * var * PtEtaPhiMCandidate[\"pt\": f...'>}"
      ]
     },
     "execution_count": 21,
     "metadata": {},
     "output_type": "execute_result"
    }
   ],
   "source": [
    "object_dict['channel2']"
   ]
  },
  {
   "cell_type": "code",
   "execution_count": 10,
   "id": "b5738708",
   "metadata": {},
   "outputs": [],
   "source": [
    "pair_selections(events_dict, cutflow_dict, cfg)"
   ]
  },
  {
   "cell_type": "code",
   "execution_count": null,
   "id": "c210d9aa",
   "metadata": {},
   "outputs": [],
   "source": []
  }
 ],
 "metadata": {
  "kernelspec": {
   "display_name": "Python 3 (ipykernel)",
   "language": "python",
   "name": "python3"
  },
  "language_info": {
   "codemirror_mode": {
    "name": "ipython",
    "version": 3
   },
   "file_extension": ".py",
   "mimetype": "text/x-python",
   "name": "python",
   "nbconvert_exporter": "python",
   "pygments_lexer": "ipython3",
   "version": "3.9.16"
  }
 },
 "nbformat": 4,
 "nbformat_minor": 5
}
