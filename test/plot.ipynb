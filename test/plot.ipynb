{
 "cells": [
  {
   "cell_type": "code",
   "execution_count": 7,
   "id": "6e49a252",
   "metadata": {},
   "outputs": [],
   "source": [
    "from analysis.plotutility import *\n",
    "from config.selectionconfig import plotsetting as pltcfg"
   ]
  },
  {
   "cell_type": "code",
   "execution_count": 13,
   "id": "b67f1237",
   "metadata": {},
   "outputs": [],
   "source": [
    "import os"
   ]
  },
  {
   "cell_type": "code",
   "execution_count": 15,
   "id": "f845b39e",
   "metadata": {},
   "outputs": [],
   "source": [
    "srcdir = '/uscms/home/joyzhou/nobackup/output/ggF'"
   ]
  },
  {
   "cell_type": "code",
   "execution_count": 29,
   "id": "c5ce358c",
   "metadata": {},
   "outputs": [],
   "source": [
    "vis = Visualizer(pltcfg)"
   ]
  },
  {
   "cell_type": "code",
   "execution_count": 30,
   "id": "e93147f9",
   "metadata": {},
   "outputs": [],
   "source": [
    "combined = vis.combine_cf(srcdir)"
   ]
  },
  {
   "cell_type": "code",
   "execution_count": 19,
   "id": "ac8ace14",
   "metadata": {},
   "outputs": [
    {
     "data": {
      "text/html": [
       "<div>\n",
       "<style scoped>\n",
       "    .dataframe tbody tr th:only-of-type {\n",
       "        vertical-align: middle;\n",
       "    }\n",
       "\n",
       "    .dataframe tbody tr th {\n",
       "        vertical-align: top;\n",
       "    }\n",
       "\n",
       "    .dataframe thead th {\n",
       "        text-align: right;\n",
       "    }\n",
       "</style>\n",
       "<table border=\"1\" class=\"dataframe\">\n",
       "  <thead>\n",
       "    <tr style=\"text-align: right;\">\n",
       "      <th></th>\n",
       "      <th>taumtauh</th>\n",
       "      <th>tauetauh</th>\n",
       "      <th>tauhtauh</th>\n",
       "    </tr>\n",
       "  </thead>\n",
       "  <tbody>\n",
       "    <tr>\n",
       "      <th>ElectronSelection</th>\n",
       "      <td>21732</td>\n",
       "      <td>6277</td>\n",
       "      <td>19908</td>\n",
       "    </tr>\n",
       "    <tr>\n",
       "      <th>MuonSelection</th>\n",
       "      <td>3247</td>\n",
       "      <td>5160</td>\n",
       "      <td>16378</td>\n",
       "    </tr>\n",
       "    <tr>\n",
       "      <th>TauSelection</th>\n",
       "      <td>1824</td>\n",
       "      <td>3186</td>\n",
       "      <td>1684</td>\n",
       "    </tr>\n",
       "    <tr>\n",
       "      <th>initial</th>\n",
       "      <td>33048</td>\n",
       "      <td>31224</td>\n",
       "      <td>28038</td>\n",
       "    </tr>\n",
       "  </tbody>\n",
       "</table>\n",
       "</div>"
      ],
      "text/plain": [
       "                   taumtauh  tauetauh  tauhtauh\n",
       "ElectronSelection     21732      6277     19908\n",
       "MuonSelection          3247      5160     16378\n",
       "TauSelection           1824      3186      1684\n",
       "initial               33048     31224     28038"
      ]
     },
     "execution_count": 19,
     "metadata": {},
     "output_type": "execute_result"
    }
   ],
   "source": [
    "combined"
   ]
  },
  {
   "cell_type": "code",
   "execution_count": null,
   "id": "f5932ce1",
   "metadata": {},
   "outputs": [],
   "source": []
  }
 ],
 "metadata": {
  "kernelspec": {
   "display_name": "Python 3 (ipykernel)",
   "language": "python",
   "name": "python3"
  },
  "language_info": {
   "codemirror_mode": {
    "name": "ipython",
    "version": 3
   },
   "file_extension": ".py",
   "mimetype": "text/x-python",
   "name": "python",
   "nbconvert_exporter": "python",
   "pygments_lexer": "ipython3",
   "version": "3.9.12"
  }
 },
 "nbformat": 4,
 "nbformat_minor": 5
}
