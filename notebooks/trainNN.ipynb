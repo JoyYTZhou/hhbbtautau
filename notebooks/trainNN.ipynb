{
 "cells": [
  {
   "cell_type": "markdown",
   "metadata": {},
   "source": [
    "## Train a simple BDT reweighter"
   ]
  },
  {
   "cell_type": "code",
   "execution_count": 1,
   "metadata": {},
   "outputs": [],
   "source": [
    "from src.learning.reweight import *"
   ]
  },
  {
   "cell_type": "code",
   "execution_count": 3,
   "metadata": {},
   "outputs": [],
   "source": [
    "dl = PrelimLoader(file_path='/Users/yuntongzhou/Desktop/Dihiggszztt/output/hadded/prelim/datasource/processed.csv',\n",
    "                target_column=['LeadingTau_charge', 'SubleadingTau_charge'])"
   ]
  },
  {
   "cell_type": "code",
   "execution_count": 4,
   "metadata": {},
   "outputs": [],
   "source": [
    "dl.data['OS'] = (dl.data['LeadingTau_charge'] * dl.data['SubleadingTau_charge'] < 0).astype(int) "
   ]
  },
  {
   "cell_type": "code",
   "execution_count": 5,
   "metadata": {},
   "outputs": [
    {
     "data": {
      "text/plain": [
       "60083"
      ]
     },
     "execution_count": 5,
     "metadata": {},
     "output_type": "execute_result"
    }
   ],
   "source": [
    "len(dl.data[dl.data['OS'] == 1])"
   ]
  },
  {
   "cell_type": "code",
   "execution_count": 6,
   "metadata": {},
   "outputs": [],
   "source": [
    "kept = ['pt', 'eta', 'mass', 'phi', 'dxy', 'dz', 'OS', 'process']\n",
    "filtered = [col for col in dl.data.columns if any(k in col for k in kept)]\n",
    "dl.data = dl.data[filtered]"
   ]
  },
  {
   "cell_type": "code",
   "execution_count": 7,
   "metadata": {},
   "outputs": [],
   "source": [
    "signal = ['ZH', 'HH', 'ZZ']"
   ]
  },
  {
   "cell_type": "code",
   "execution_count": 8,
   "metadata": {},
   "outputs": [],
   "source": [
    "bkgonly = dl.data[~dl.data['process'].isin(signal)]"
   ]
  },
  {
   "cell_type": "code",
   "execution_count": 9,
   "metadata": {},
   "outputs": [],
   "source": [
    "dl.data = bkgonly\n",
    "dl.data.drop(columns=['process'], inplace=True)"
   ]
  },
  {
   "cell_type": "code",
   "execution_count": 10,
   "metadata": {},
   "outputs": [],
   "source": [
    "dl.target_column = 'OS'"
   ]
  },
  {
   "cell_type": "code",
   "execution_count": 11,
   "metadata": {},
   "outputs": [],
   "source": [
    "dl.preprocess_data()\n",
    "dl.split_data()"
   ]
  },
  {
   "cell_type": "code",
   "execution_count": 12,
   "metadata": {},
   "outputs": [],
   "source": [
    "class_counts = torch.bincount(dl.y_train)\n",
    "num_samples = len(dl.y_train)\n",
    "class_weights = num_samples / (2.0 * class_counts.float())"
   ]
  },
  {
   "cell_type": "code",
   "execution_count": 13,
   "metadata": {},
   "outputs": [
    {
     "name": "stderr",
     "output_type": "stream",
     "text": [
      "/Users/yuntongzhou/miniconda3/lib/python3.10/site-packages/torch/nn/modules/lazy.py:181: UserWarning: Lazy modules are a new feature under heavy development so changes to the API or functionality can happen at any moment.\n",
      "  warnings.warn('Lazy modules are a new feature under heavy development '\n"
     ]
    }
   ],
   "source": [
    "scl = SimpleClassifier()\n",
    "scl.criterion = nn.CrossEntropyLoss(weight=class_weights)"
   ]
  },
  {
   "cell_type": "code",
   "execution_count": 12,
   "metadata": {},
   "outputs": [],
   "source": [
    "%load_ext autoreload\n",
    "%autoreload 2"
   ]
  },
  {
   "cell_type": "code",
   "execution_count": 14,
   "metadata": {},
   "outputs": [
    {
     "name": "stdout",
     "output_type": "stream",
     "text": [
      "Epoch [1/50], Loss: 0.5733\n",
      "Epoch [2/50], Loss: 0.5044\n",
      "Epoch [3/50], Loss: 0.5325\n",
      "Epoch [4/50], Loss: 0.5623\n",
      "Epoch [5/50], Loss: 1.0000\n",
      "Epoch [6/50], Loss: 0.7415\n",
      "Epoch [7/50], Loss: 0.8590\n",
      "Epoch [8/50], Loss: 0.3934\n",
      "Epoch [9/50], Loss: 0.9191\n",
      "Epoch [10/50], Loss: 0.5143\n",
      "Epoch [11/50], Loss: 0.5260\n",
      "Epoch [12/50], Loss: 0.4855\n",
      "Epoch [13/50], Loss: 0.5788\n",
      "Epoch [14/50], Loss: 0.5362\n",
      "Epoch [15/50], Loss: 0.5285\n",
      "Epoch [16/50], Loss: 0.8987\n",
      "Epoch [17/50], Loss: 0.7060\n",
      "Epoch [18/50], Loss: 0.5805\n",
      "Epoch [19/50], Loss: 0.9762\n",
      "Epoch [20/50], Loss: 0.5717\n",
      "Epoch [21/50], Loss: 0.4470\n",
      "Epoch [22/50], Loss: 0.5250\n",
      "Epoch [23/50], Loss: 0.5807\n",
      "Epoch [24/50], Loss: 0.9094\n",
      "Epoch [25/50], Loss: 0.5552\n",
      "Epoch [26/50], Loss: 0.6267\n",
      "Epoch [27/50], Loss: 0.3694\n",
      "Epoch [28/50], Loss: 0.6604\n",
      "Epoch [29/50], Loss: 0.8097\n",
      "Epoch [30/50], Loss: 0.6790\n",
      "Epoch [31/50], Loss: 0.5432\n",
      "Epoch [32/50], Loss: 0.5504\n",
      "Epoch [33/50], Loss: 0.3856\n",
      "Epoch [34/50], Loss: 0.3333\n",
      "Epoch [35/50], Loss: 0.6268\n",
      "Epoch [36/50], Loss: 0.3313\n",
      "Epoch [37/50], Loss: 0.8986\n",
      "Epoch [38/50], Loss: 0.6472\n",
      "Epoch [39/50], Loss: 0.3538\n",
      "Epoch [40/50], Loss: 0.4969\n",
      "Epoch [41/50], Loss: 0.9364\n",
      "Epoch [42/50], Loss: 0.4101\n",
      "Epoch [43/50], Loss: 0.5865\n",
      "Epoch [44/50], Loss: 0.6124\n",
      "Epoch [45/50], Loss: 0.3229\n",
      "Epoch [46/50], Loss: 0.5551\n",
      "Epoch [47/50], Loss: 0.3765\n",
      "Epoch [48/50], Loss: 0.4345\n",
      "Epoch [49/50], Loss: 0.5251\n",
      "Epoch [50/50], Loss: 0.3144\n",
      "Training finished!\n"
     ]
    }
   ],
   "source": [
    "scl.fit(dl.X_train, dl.y_train)"
   ]
  },
  {
   "cell_type": "code",
   "execution_count": 16,
   "metadata": {},
   "outputs": [
    {
     "name": "stdout",
     "output_type": "stream",
     "text": [
      "Test Accuracy: 0.8240\n"
     ]
    },
    {
     "name": "stderr",
     "output_type": "stream",
     "text": [
      "/Users/yuntongzhou/Desktop/Dihiggszztt/HHtobbtautau/src/learning/classifier.py:78: UserWarning: To copy construct from a tensor, it is recommended to use sourceTensor.clone().detach() or sourceTensor.clone().detach().requires_grad_(True), rather than torch.tensor(sourceTensor).\n",
      "  X_test_tensor = torch.tensor(X_test, dtype=torch.float32)\n"
     ]
    }
   ],
   "source": [
    "scl.evaluate(dl.X_test, dl.y_test.numpy())"
   ]
  },
  {
   "cell_type": "code",
   "execution_count": 17,
   "metadata": {},
   "outputs": [
    {
     "data": {
      "text/plain": [
       "18004"
      ]
     },
     "execution_count": 17,
     "metadata": {},
     "output_type": "execute_result"
    }
   ],
   "source": [
    "len(dl.y_test)"
   ]
  },
  {
   "cell_type": "code",
   "execution_count": null,
   "metadata": {},
   "outputs": [],
   "source": [
    "dl.X_test[0]"
   ]
  }
 ],
 "metadata": {
  "kernelspec": {
   "display_name": "Python 3 (ipykernel)",
   "language": "python",
   "name": "python3"
  },
  "language_info": {
   "codemirror_mode": {
    "name": "ipython",
    "version": 3
   },
   "file_extension": ".py",
   "mimetype": "text/x-python",
   "name": "python",
   "nbconvert_exporter": "python",
   "pygments_lexer": "ipython3",
   "version": "3.10.12"
  }
 },
 "nbformat": 4,
 "nbformat_minor": 4
}
