{
 "cells": [
  {
   "cell_type": "code",
   "execution_count": 1,
   "metadata": {},
   "outputs": [],
   "source": [
    "import sys\n",
    "sys.path.append('/Users/yuntongzhou/Desktop/Dihiggszztt/HHtobbtautau/src')"
   ]
  },
  {
   "cell_type": "code",
   "execution_count": 2,
   "metadata": {},
   "outputs": [],
   "source": [
    "from learning.classifier import PrelimLoader, SimpleClassifier"
   ]
  },
  {
   "cell_type": "code",
   "execution_count": 3,
   "metadata": {},
   "outputs": [],
   "source": [
    "dl = PrelimLoader(file_path='/Users/yuntongzhou/Desktop/Dihiggszztt/output/hadded/prelim/datasource/processed.csv',\n",
    "                target_column=['LeadingTau_charge', 'SubleadingTau_charge'])"
   ]
  },
  {
   "cell_type": "code",
   "execution_count": 4,
   "metadata": {},
   "outputs": [],
   "source": [
    "dl.data['OS'] = (dl.data['LeadingTau_charge'] * dl.data['SubleadingTau_charge'] < 0).astype(int) "
   ]
  },
  {
   "cell_type": "code",
   "execution_count": 8,
   "metadata": {},
   "outputs": [
    {
     "data": {
      "text/plain": [
       "2824"
      ]
     },
     "execution_count": 8,
     "metadata": {},
     "output_type": "execute_result"
    }
   ],
   "source": [
    "len(dl.data[dl.data['OS'] == 0])"
   ]
  },
  {
   "cell_type": "code",
   "execution_count": 10,
   "metadata": {},
   "outputs": [
    {
     "data": {
      "text/plain": [
       "0.04700164772065309"
      ]
     },
     "execution_count": 10,
     "metadata": {},
     "output_type": "execute_result"
    }
   ],
   "source": [
    "2824/60083"
   ]
  },
  {
   "cell_type": "code",
   "execution_count": 5,
   "metadata": {},
   "outputs": [],
   "source": [
    "kept = ['pt', 'eta', 'mass', 'phi', 'dxy', 'dz', 'OS', 'process']\n",
    "filtered = [col for col in dl.data.columns if any(k in col for k in kept)]\n",
    "dl.data = dl.data[filtered]"
   ]
  },
  {
   "cell_type": "code",
   "execution_count": 6,
   "metadata": {},
   "outputs": [],
   "source": [
    "signal = ['ZH', 'HH', 'ZZ']"
   ]
  },
  {
   "cell_type": "code",
   "execution_count": 8,
   "metadata": {},
   "outputs": [],
   "source": [
    "bkgonly = dl.data[~dl.data['process'].isin(signal)]"
   ]
  },
  {
   "cell_type": "code",
   "execution_count": 9,
   "metadata": {},
   "outputs": [],
   "source": [
    "dl.data = bkgonly\n",
    "dl.data.drop(columns=['process'], inplace=True)"
   ]
  },
  {
   "cell_type": "code",
   "execution_count": 10,
   "metadata": {},
   "outputs": [],
   "source": [
    "dl.target_column = 'OS'"
   ]
  },
  {
   "cell_type": "code",
   "execution_count": 17,
   "metadata": {},
   "outputs": [],
   "source": [
    "dl.preprocess_data()\n",
    "dl.split_data()"
   ]
  },
  {
   "cell_type": "code",
   "execution_count": 18,
   "metadata": {},
   "outputs": [
    {
     "name": "stderr",
     "output_type": "stream",
     "text": [
      "/Users/yuntongzhou/miniconda3/lib/python3.10/site-packages/torch/nn/modules/lazy.py:181: UserWarning: Lazy modules are a new feature under heavy development so changes to the API or functionality can happen at any moment.\n",
      "  warnings.warn('Lazy modules are a new feature under heavy development '\n"
     ]
    }
   ],
   "source": [
    "scl = SimpleClassifier()"
   ]
  },
  {
   "cell_type": "code",
   "execution_count": 19,
   "metadata": {},
   "outputs": [
    {
     "name": "stdout",
     "output_type": "stream",
     "text": [
      "The autoreload extension is already loaded. To reload it, use:\n",
      "  %reload_ext autoreload\n"
     ]
    }
   ],
   "source": [
    "%load_ext autoreload\n",
    "%autoreload 2"
   ]
  },
  {
   "cell_type": "code",
   "execution_count": 20,
   "metadata": {},
   "outputs": [
    {
     "name": "stdout",
     "output_type": "stream",
     "text": [
      "Epoch [1/50], Loss: 0.0613\n",
      "Epoch [2/50], Loss: 0.0441\n",
      "Epoch [3/50], Loss: 0.3429\n",
      "Epoch [4/50], Loss: 0.5635\n",
      "Epoch [5/50], Loss: 0.1898\n",
      "Epoch [6/50], Loss: 0.1884\n",
      "Epoch [7/50], Loss: 0.1924\n",
      "Epoch [8/50], Loss: 0.3185\n",
      "Epoch [9/50], Loss: 0.1918\n",
      "Epoch [10/50], Loss: 0.0579\n",
      "Epoch [11/50], Loss: 0.1761\n",
      "Epoch [12/50], Loss: 0.2589\n",
      "Epoch [13/50], Loss: 0.1595\n",
      "Epoch [14/50], Loss: 0.1641\n",
      "Epoch [15/50], Loss: 0.3144\n",
      "Epoch [16/50], Loss: 0.0415\n",
      "Epoch [17/50], Loss: 0.1203\n",
      "Epoch [18/50], Loss: 0.2950\n",
      "Epoch [19/50], Loss: 0.1976\n",
      "Epoch [20/50], Loss: 0.1508\n",
      "Epoch [21/50], Loss: 0.1782\n",
      "Epoch [22/50], Loss: 0.0351\n",
      "Epoch [23/50], Loss: 0.4485\n",
      "Epoch [24/50], Loss: 0.1628\n",
      "Epoch [25/50], Loss: 0.0439\n",
      "Epoch [26/50], Loss: 0.0442\n",
      "Epoch [27/50], Loss: 0.0423\n",
      "Epoch [28/50], Loss: 0.5993\n",
      "Epoch [29/50], Loss: 0.1647\n",
      "Epoch [30/50], Loss: 0.1929\n",
      "Epoch [31/50], Loss: 0.1279\n",
      "Epoch [32/50], Loss: 0.1015\n",
      "Epoch [33/50], Loss: 0.1352\n",
      "Epoch [34/50], Loss: 0.0303\n",
      "Epoch [35/50], Loss: 0.5180\n",
      "Epoch [36/50], Loss: 0.0454\n",
      "Epoch [37/50], Loss: 0.0351\n",
      "Epoch [38/50], Loss: 0.1821\n",
      "Epoch [39/50], Loss: 0.0897\n",
      "Epoch [40/50], Loss: 0.1339\n",
      "Epoch [41/50], Loss: 0.0260\n",
      "Epoch [42/50], Loss: 0.0235\n",
      "Epoch [43/50], Loss: 0.1011\n",
      "Epoch [44/50], Loss: 0.1443\n",
      "Epoch [45/50], Loss: 0.0501\n",
      "Epoch [46/50], Loss: 0.1395\n",
      "Epoch [47/50], Loss: 0.1312\n",
      "Epoch [48/50], Loss: 0.3414\n",
      "Epoch [49/50], Loss: 0.0572\n",
      "Epoch [50/50], Loss: 0.2144\n",
      "Training finished!\n"
     ]
    }
   ],
   "source": [
    "scl.fit(dl.X_train, dl.y_train)"
   ]
  },
  {
   "cell_type": "code",
   "execution_count": 21,
   "metadata": {},
   "outputs": [
    {
     "name": "stdout",
     "output_type": "stream",
     "text": [
      "Test Accuracy: 0.9532\n"
     ]
    }
   ],
   "source": [
    "scl.evaluate(dl.X_test, dl.y_test)"
   ]
  },
  {
   "cell_type": "code",
   "execution_count": 31,
   "metadata": {},
   "outputs": [
    {
     "data": {
      "text/plain": [
       "18004"
      ]
     },
     "execution_count": 31,
     "metadata": {},
     "output_type": "execute_result"
    }
   ],
   "source": [
    "len(dl.y_test)"
   ]
  },
  {
   "cell_type": "code",
   "execution_count": 22,
   "metadata": {},
   "outputs": [
    {
     "data": {
      "text/plain": [
       "array([-0.78880923,  1.17879103, -0.84845687, -0.46936979, -1.95033246,\n",
       "        2.29101572, -0.46340426,  0.4255006 , -0.17537876,  0.07351665,\n",
       "        0.097406  , -0.05043032, -0.51599315,  2.38137468,  1.21537694,\n",
       "       -0.81912303,  0.7155123 ,  0.85613599,  1.20738257,  0.60608411])"
      ]
     },
     "execution_count": 22,
     "metadata": {},
     "output_type": "execute_result"
    }
   ],
   "source": [
    "dl.X_test[0]"
   ]
  }
 ],
 "metadata": {
  "kernelspec": {
   "display_name": "Python 3 (ipykernel)",
   "language": "python",
   "name": "python3"
  },
  "language_info": {
   "codemirror_mode": {
    "name": "ipython",
    "version": 3
   },
   "file_extension": ".py",
   "mimetype": "text/x-python",
   "name": "python",
   "nbconvert_exporter": "python",
   "pygments_lexer": "ipython3",
   "version": "3.10.12"
  }
 },
 "nbformat": 4,
 "nbformat_minor": 4
}
