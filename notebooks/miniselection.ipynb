{
 "cells": [
  {
   "cell_type": "code",
   "execution_count": 1,
   "id": "88a5aa9c",
   "metadata": {},
   "outputs": [],
   "source": [
    "%load_ext autoreload\n",
    "%autoreload 2"
   ]
  },
  {
   "cell_type": "code",
   "execution_count": 2,
   "id": "a5d184a9",
   "metadata": {},
   "outputs": [],
   "source": [
    "from analysis.processor import Processor"
   ]
  },
  {
   "cell_type": "code",
   "execution_count": 3,
   "id": "21ddbe1f",
   "metadata": {},
   "outputs": [],
   "source": [
    "from analysis.selutility import *"
   ]
  },
  {
   "cell_type": "code",
   "execution_count": 4,
   "id": "7d3d4682",
   "metadata": {},
   "outputs": [],
   "source": [
    "from analysis.helper import *"
   ]
  },
  {
   "cell_type": "code",
   "execution_count": 5,
   "id": "8f479b6a",
   "metadata": {},
   "outputs": [],
   "source": [
    "from analysis.custom import mockskimEvtSel"
   ]
  },
  {
   "cell_type": "code",
   "execution_count": 6,
   "id": "0b2d9818",
   "metadata": {},
   "outputs": [],
   "source": [
    "from config.selectionconfig import runsetting as rs"
   ]
  },
  {
   "cell_type": "code",
   "execution_count": 7,
   "id": "385cc7b7",
   "metadata": {},
   "outputs": [],
   "source": [
    "import random\n",
    "import json\n",
    "import os"
   ]
  },
  {
   "cell_type": "markdown",
   "id": "d1f46f1f",
   "metadata": {},
   "source": [
    "## Inspect a skimmed file"
   ]
  },
  {
   "cell_type": "code",
   "execution_count": 8,
   "id": "332ff9dc",
   "metadata": {},
   "outputs": [],
   "source": [
    "filename = 'GluGlutoHHto2B2Tau_kl-1p00_kt-1p00_c2-0p00_1-part0.root'\n",
    "dirname = '/uscms/home/joyzhou/nobackup/output/ggF'\n",
    "proc = Processor(rs, 'ggF')"
   ]
  },
  {
   "cell_type": "code",
   "execution_count": 9,
   "id": "9ccc2e30",
   "metadata": {},
   "outputs": [
    {
     "ename": "KeyInFileError",
     "evalue": "not found: 'Events' (with any cycle number)\n\n    Available keys: 'tree;1'\n\nin file /uscms/home/joyzhou/nobackup/temp/ggF_0.root",
     "output_type": "error",
     "traceback": [
      "\u001b[0;31m---------------------------------------------------------------------------\u001b[0m",
      "\u001b[0;31mKeyInFileError\u001b[0m                            Traceback (most recent call last)",
      "\u001b[0;32m/tmp/ipykernel_30389/2128540716.py\u001b[0m in \u001b[0;36m<module>\u001b[0;34m\u001b[0m\n\u001b[0;32m----> 1\u001b[0;31m \u001b[0mevts\u001b[0m \u001b[0;34m=\u001b[0m \u001b[0mproc\u001b[0m\u001b[0;34m.\u001b[0m\u001b[0mloadfile\u001b[0m\u001b[0;34m(\u001b[0m\u001b[0mpjoin\u001b[0m\u001b[0;34m(\u001b[0m\u001b[0mdirname\u001b[0m\u001b[0;34m,\u001b[0m \u001b[0mfilename\u001b[0m\u001b[0;34m)\u001b[0m\u001b[0;34m,\u001b[0m \u001b[0;36m0\u001b[0m\u001b[0;34m)\u001b[0m\u001b[0;34m\u001b[0m\u001b[0;34m\u001b[0m\u001b[0m\n\u001b[0m",
      "\u001b[0;32m~/work/hhbbtautau/src/analysis/processor.py\u001b[0m in \u001b[0;36mloadfile\u001b[0;34m(self, filename, suffix)\u001b[0m\n\u001b[1;32m     36\u001b[0m             \u001b[0mcproot\u001b[0m\u001b[0;34m(\u001b[0m\u001b[0mfilename\u001b[0m\u001b[0;34m,\u001b[0m \u001b[0mdestpath\u001b[0m\u001b[0;34m)\u001b[0m\u001b[0;34m\u001b[0m\u001b[0;34m\u001b[0m\u001b[0m\n\u001b[1;32m     37\u001b[0m             \u001b[0;32mtry\u001b[0m\u001b[0;34m:\u001b[0m\u001b[0;34m\u001b[0m\u001b[0;34m\u001b[0m\u001b[0m\n\u001b[0;32m---> 38\u001b[0;31m                 events = uproot.dask(\n\u001b[0m\u001b[1;32m     39\u001b[0m                     \u001b[0mfiles\u001b[0m\u001b[0;34m=\u001b[0m\u001b[0;34m{\u001b[0m\u001b[0mdestpath\u001b[0m\u001b[0;34m:\u001b[0m \u001b[0mself\u001b[0m\u001b[0;34m.\u001b[0m\u001b[0mtreename\u001b[0m\u001b[0;34m}\u001b[0m\u001b[0;34m,\u001b[0m\u001b[0;34m\u001b[0m\u001b[0;34m\u001b[0m\u001b[0m\n\u001b[1;32m     40\u001b[0m                     \u001b[0mstep_size\u001b[0m\u001b[0;34m=\u001b[0m\u001b[0muser_step_size\u001b[0m\u001b[0;34m\u001b[0m\u001b[0;34m\u001b[0m\u001b[0m\n",
      "\u001b[0;32m~/nobackup/coffeajup/lib/python3.9/site-packages/uproot/_dask.py\u001b[0m in \u001b[0;36mdask\u001b[0;34m(files, filter_name, filter_typename, filter_branch, recursive, full_paths, step_size, steps_per_file, library, ak_add_doc, custom_classes, allow_missing, open_files, form_mapping, allow_read_errors_with_report, known_base_form, decompression_executor, interpretation_executor, **options)\u001b[0m\n\u001b[1;32m    272\u001b[0m     \u001b[0;32melif\u001b[0m \u001b[0mlibrary\u001b[0m\u001b[0;34m.\u001b[0m\u001b[0mname\u001b[0m \u001b[0;34m==\u001b[0m \u001b[0;34m\"ak\"\u001b[0m\u001b[0;34m:\u001b[0m\u001b[0;34m\u001b[0m\u001b[0;34m\u001b[0m\u001b[0m\n\u001b[1;32m    273\u001b[0m         \u001b[0;32mif\u001b[0m \u001b[0mopen_files\u001b[0m\u001b[0;34m:\u001b[0m\u001b[0;34m\u001b[0m\u001b[0;34m\u001b[0m\u001b[0m\n\u001b[0;32m--> 274\u001b[0;31m             return _get_dak_array(\n\u001b[0m\u001b[1;32m    275\u001b[0m                 \u001b[0mfiles\u001b[0m\u001b[0;34m,\u001b[0m\u001b[0;34m\u001b[0m\u001b[0;34m\u001b[0m\u001b[0m\n\u001b[1;32m    276\u001b[0m                 \u001b[0mfilter_name\u001b[0m\u001b[0;34m,\u001b[0m\u001b[0;34m\u001b[0m\u001b[0;34m\u001b[0m\u001b[0m\n",
      "\u001b[0;32m~/nobackup/coffeajup/lib/python3.9/site-packages/uproot/_dask.py\u001b[0m in \u001b[0;36m_get_dak_array\u001b[0;34m(files, filter_name, filter_typename, filter_branch, recursive, full_paths, step_size, custom_classes, allow_missing, real_options, interp_options, form_mapping, steps_per_file, allow_read_errors_with_report, decompression_executor, interpretation_executor)\u001b[0m\n\u001b[1;32m   1403\u001b[0m         \u001b[0mfile_path\u001b[0m\u001b[0;34m,\u001b[0m \u001b[0mobject_path\u001b[0m \u001b[0;34m=\u001b[0m \u001b[0mfile_object_maybechunks\u001b[0m\u001b[0;34m[\u001b[0m\u001b[0;36m0\u001b[0m\u001b[0;34m:\u001b[0m\u001b[0;36m2\u001b[0m\u001b[0;34m]\u001b[0m\u001b[0;34m\u001b[0m\u001b[0;34m\u001b[0m\u001b[0m\n\u001b[1;32m   1404\u001b[0m \u001b[0;34m\u001b[0m\u001b[0m\n\u001b[0;32m-> 1405\u001b[0;31m         obj = uproot._util.regularize_object_path(\n\u001b[0m\u001b[1;32m   1406\u001b[0m             \u001b[0mfile_path\u001b[0m\u001b[0;34m,\u001b[0m \u001b[0mobject_path\u001b[0m\u001b[0;34m,\u001b[0m \u001b[0mcustom_classes\u001b[0m\u001b[0;34m,\u001b[0m \u001b[0mallow_missing\u001b[0m\u001b[0;34m,\u001b[0m \u001b[0mreal_options\u001b[0m\u001b[0;34m\u001b[0m\u001b[0;34m\u001b[0m\u001b[0m\n\u001b[1;32m   1407\u001b[0m         )\n",
      "\u001b[0;32m~/nobackup/coffeajup/lib/python3.9/site-packages/uproot/_util.py\u001b[0m in \u001b[0;36mregularize_object_path\u001b[0;34m(file_path, object_path, custom_classes, allow_missing, options)\u001b[0m\n\u001b[1;32m    991\u001b[0m             \u001b[0;32mif\u001b[0m \u001b[0mallow_missing\u001b[0m \u001b[0;32mand\u001b[0m \u001b[0mobject_path\u001b[0m \u001b[0;32mnot\u001b[0m \u001b[0;32min\u001b[0m \u001b[0mfile\u001b[0m\u001b[0;34m:\u001b[0m\u001b[0;34m\u001b[0m\u001b[0;34m\u001b[0m\u001b[0m\n\u001b[1;32m    992\u001b[0m                 \u001b[0;32mreturn\u001b[0m \u001b[0;32mNone\u001b[0m\u001b[0;34m\u001b[0m\u001b[0;34m\u001b[0m\u001b[0m\n\u001b[0;32m--> 993\u001b[0;31m             \u001b[0;32mreturn\u001b[0m \u001b[0mfile\u001b[0m\u001b[0;34m[\u001b[0m\u001b[0mobject_path\u001b[0m\u001b[0;34m]\u001b[0m\u001b[0;34m\u001b[0m\u001b[0;34m\u001b[0m\u001b[0m\n\u001b[0m\u001b[1;32m    994\u001b[0m \u001b[0;34m\u001b[0m\u001b[0m\n\u001b[1;32m    995\u001b[0m \u001b[0;34m\u001b[0m\u001b[0m\n",
      "\u001b[0;32m~/nobackup/coffeajup/lib/python3.9/site-packages/uproot/reading.py\u001b[0m in \u001b[0;36m__getitem__\u001b[0;34m(self, where)\u001b[0m\n\u001b[1;32m   2082\u001b[0m \u001b[0;34m\u001b[0m\u001b[0m\n\u001b[1;32m   2083\u001b[0m         \u001b[0;32melse\u001b[0m\u001b[0;34m:\u001b[0m\u001b[0;34m\u001b[0m\u001b[0;34m\u001b[0m\u001b[0m\n\u001b[0;32m-> 2084\u001b[0;31m             \u001b[0;32mreturn\u001b[0m \u001b[0mself\u001b[0m\u001b[0;34m.\u001b[0m\u001b[0mkey\u001b[0m\u001b[0;34m(\u001b[0m\u001b[0mwhere\u001b[0m\u001b[0;34m)\u001b[0m\u001b[0;34m.\u001b[0m\u001b[0mget\u001b[0m\u001b[0;34m(\u001b[0m\u001b[0;34m)\u001b[0m\u001b[0;34m\u001b[0m\u001b[0;34m\u001b[0m\u001b[0m\n\u001b[0m\u001b[1;32m   2085\u001b[0m \u001b[0;34m\u001b[0m\u001b[0m\n\u001b[1;32m   2086\u001b[0m     \u001b[0;34m@\u001b[0m\u001b[0mproperty\u001b[0m\u001b[0;34m\u001b[0m\u001b[0;34m\u001b[0m\u001b[0m\n",
      "\u001b[0;32m~/nobackup/coffeajup/lib/python3.9/site-packages/uproot/reading.py\u001b[0m in \u001b[0;36mkey\u001b[0;34m(self, where)\u001b[0m\n\u001b[1;32m   2030\u001b[0m             \u001b[0;32mreturn\u001b[0m \u001b[0mlast\u001b[0m\u001b[0;34m\u001b[0m\u001b[0;34m\u001b[0m\u001b[0m\n\u001b[1;32m   2031\u001b[0m         \u001b[0;32melif\u001b[0m \u001b[0mcycle\u001b[0m \u001b[0;32mis\u001b[0m \u001b[0;32mNone\u001b[0m\u001b[0;34m:\u001b[0m\u001b[0;34m\u001b[0m\u001b[0;34m\u001b[0m\u001b[0m\n\u001b[0;32m-> 2032\u001b[0;31m             raise uproot.KeyInFileError(\n\u001b[0m\u001b[1;32m   2033\u001b[0m                 \u001b[0mitem\u001b[0m\u001b[0;34m,\u001b[0m \u001b[0mcycle\u001b[0m\u001b[0;34m=\u001b[0m\u001b[0;34m\"any\"\u001b[0m\u001b[0;34m,\u001b[0m \u001b[0mkeys\u001b[0m\u001b[0;34m=\u001b[0m\u001b[0mself\u001b[0m\u001b[0;34m.\u001b[0m\u001b[0mkeys\u001b[0m\u001b[0;34m(\u001b[0m\u001b[0;34m)\u001b[0m\u001b[0;34m,\u001b[0m \u001b[0mfile_path\u001b[0m\u001b[0;34m=\u001b[0m\u001b[0mself\u001b[0m\u001b[0;34m.\u001b[0m\u001b[0m_file\u001b[0m\u001b[0;34m.\u001b[0m\u001b[0mfile_path\u001b[0m\u001b[0;34m\u001b[0m\u001b[0;34m\u001b[0m\u001b[0m\n\u001b[1;32m   2034\u001b[0m             )\n",
      "\u001b[0;31mKeyInFileError\u001b[0m: not found: 'Events' (with any cycle number)\n\n    Available keys: 'tree;1'\n\nin file /uscms/home/joyzhou/nobackup/temp/ggF_0.root"
     ]
    }
   ],
   "source": [
    "evts = proc.loadfile(pjoin(dirname, filename), 0)"
   ]
  },
  {
   "cell_type": "markdown",
   "id": "8692f1de",
   "metadata": {},
   "source": [
    "## Run over example files"
   ]
  },
  {
   "cell_type": "code",
   "execution_count": 8,
   "id": "d7cecc17",
   "metadata": {},
   "outputs": [],
   "source": [
    "# custom-define datasets to process \n",
    "process_names = [\"TTbar\", \"ggF\", \"SingleH\"]\n",
    "data_src = 'src/data/preprocessed'"
   ]
  },
  {
   "cell_type": "code",
   "execution_count": 9,
   "id": "324d9917",
   "metadata": {},
   "outputs": [],
   "source": [
    "# Quick hack\n",
    "ds_names = [\"DYJets\", \"TTbar\", \"ggF\"]\n",
    "filelist = [\"root://cmsxrootd.fnal.gov//store/mc/Run3Winter22NanoAOD/DYJetsToLL_M-10to50_TuneCP5_13p6TeV-madgraphMLM-pythia8/NANOAODSIM/122X_mcRun3_2021_realistic_v9-v1/30000/10e16df1-d8bb-4b32-bb90-32c4fd57f429.root\",\n",
    "           \"root://cmsxrootd.fnal.gov//store/mc/Run3Winter22NanoAOD/TTToSemiLeptonic_TuneCP5_13p6TeV-powheg-pythia8/NANOAODSIM/FlatPU0to70_pilot_122X_mcRun3_2021_realistic_v9-v1/30000/1fa8ebbc-f09a-4244-b41f-5125c5ed9f48.root\",\n",
    "           \"root://cmsxrootd.fnal.gov//store/mc/Run3Summer22EENanoAODv12/GluGlutoHHto2B2Tau_kl-1p00_kt-1p00_c2-0p00_TuneCP5_13p6TeV_powheg-pythia8/NANOAODSIM/130X_mcRun3_2022_realistic_postEE_v6-v3/80000/5998ad11-ab82-41bf-a740-7a2c38b85a14.root\"]"
   ]
  },
  {
   "cell_type": "code",
   "execution_count": 10,
   "id": "76749b5a",
   "metadata": {},
   "outputs": [],
   "source": [
    "finame = filelist[1]\n",
    "proc = Processor(rs, 'TTbar')"
   ]
  },
  {
   "cell_type": "code",
   "execution_count": 11,
   "id": "2846818f",
   "metadata": {},
   "outputs": [],
   "source": [
    "events = proc.loadfile(finame, 0)"
   ]
  },
  {
   "cell_type": "code",
   "execution_count": 13,
   "id": "17ca644d",
   "metadata": {},
   "outputs": [],
   "source": [
    "keys = [item for item in events.fields if item.startswith(\"Electron\")]"
   ]
  },
  {
   "cell_type": "code",
   "execution_count": 14,
   "id": "90d39d90",
   "metadata": {},
   "outputs": [
    {
     "data": {
      "text/plain": [
       "['Electron_deltaEtaSC',\n",
       " 'Electron_dr03EcalRecHitSumEt',\n",
       " 'Electron_dr03HcalDepth1TowerSumEt',\n",
       " 'Electron_dr03TkSumPt',\n",
       " 'Electron_dr03TkSumPtHEEP',\n",
       " 'Electron_dxy',\n",
       " 'Electron_dxyErr',\n",
       " 'Electron_dz',\n",
       " 'Electron_dzErr',\n",
       " 'Electron_eInvMinusPInv',\n",
       " 'Electron_energyErr',\n",
       " 'Electron_eta',\n",
       " 'Electron_hoe',\n",
       " 'Electron_ip3d',\n",
       " 'Electron_jetPtRelv2',\n",
       " 'Electron_jetRelIso',\n",
       " 'Electron_mass',\n",
       " 'Electron_miniPFRelIso_all',\n",
       " 'Electron_miniPFRelIso_chg',\n",
       " 'Electron_pfRelIso03_all',\n",
       " 'Electron_pfRelIso03_chg',\n",
       " 'Electron_phi',\n",
       " 'Electron_pt',\n",
       " 'Electron_r9',\n",
       " 'Electron_scEtOverPt',\n",
       " 'Electron_sieie',\n",
       " 'Electron_sip3d',\n",
       " 'Electron_charge',\n",
       " 'Electron_jetIdx',\n",
       " 'Electron_pdgId',\n",
       " 'Electron_photonIdx',\n",
       " 'Electron_tightCharge',\n",
       " 'Electron_convVeto',\n",
       " 'Electron_isPFcand',\n",
       " 'Electron_jetNDauCharged',\n",
       " 'Electron_lostHits',\n",
       " 'Electron_seedGain',\n",
       " 'Electron_genPartIdx',\n",
       " 'Electron_genPartFlav',\n",
       " 'Electron_cleanmask']"
      ]
     },
     "execution_count": 14,
     "metadata": {},
     "output_type": "execute_result"
    }
   ],
   "source": [
    "keys"
   ]
  },
  {
   "cell_type": "code",
   "execution_count": 10,
   "id": "e1999605",
   "metadata": {},
   "outputs": [
    {
     "data": {
      "text/plain": [
       "'file root://cmsxrootd.fnal.gov//store/mc/Run3Summer22EENanoAODv12/GluGlutoHHto2B2Tau_kl-1p00_kt-1p00_c2-0p00_TuneCP5_13p6TeV_powheg-pythia8/NANOAODSIM/130X_mcRun3_2022_realistic_postEE_v6-v3/80000/5998ad11-ab82-41bf-a740-7a2c38b85a14.root processed successfully!'"
      ]
     },
     "execution_count": 10,
     "metadata": {},
     "output_type": "execute_result"
    }
   ],
   "source": [
    "finame = filelist[2]\n",
    "proc = Processor(rs, 'ggF', mockskimEvtSel)\n",
    "proc.runfile(finame, 'test')"
   ]
  },
  {
   "cell_type": "code",
   "execution_count": null,
   "id": "14058759",
   "metadata": {},
   "outputs": [],
   "source": [
    "# examine the file later\n"
   ]
  },
  {
   "cell_type": "code",
   "execution_count": 17,
   "id": "c1e53769",
   "metadata": {},
   "outputs": [],
   "source": [
    "# create an object mask\n",
    "tau_mask = (events['Tau_pt'] > 25) & (abs(events['Tau_eta']) < 3.0)"
   ]
  },
  {
   "cell_type": "code",
   "execution_count": 27,
   "id": "6bd80652",
   "metadata": {},
   "outputs": [
    {
     "data": {
      "text/html": [
       "<pre>[1,\n",
       " 2,\n",
       " 1,\n",
       " 2,\n",
       " 1,\n",
       " 2,\n",
       " 3,\n",
       " 1,\n",
       " 3,\n",
       " 2,\n",
       " ...,\n",
       " 1,\n",
       " 1,\n",
       " 1,\n",
       " 1,\n",
       " 1,\n",
       " 1,\n",
       " 2,\n",
       " 1,\n",
       " 1]\n",
       "-------------------\n",
       "type: 80104 * int64</pre>"
      ],
      "text/plain": [
       "<Array [1, 2, 1, 2, 1, 2, 3, 1, ..., 1, 1, 1, 1, 2, 1, 1] type='80104 * int64'>"
      ]
     },
     "execution_count": 27,
     "metadata": {},
     "output_type": "execute_result"
    }
   ],
   "source": [
    "dak.sum(tau_mask, axis=1).compute()"
   ]
  },
  {
   "cell_type": "code",
   "execution_count": 24,
   "id": "f841e681",
   "metadata": {},
   "outputs": [],
   "source": [
    "computed_mask = tau_mask.compute()\n",
    "num_mask = ak.sum(computed_mask, axis=1)"
   ]
  },
  {
   "cell_type": "code",
   "execution_count": 25,
   "id": "9727ab34",
   "metadata": {},
   "outputs": [
    {
     "data": {
      "text/html": [
       "<pre>[[True],\n",
       " [True, True],\n",
       " [True, False],\n",
       " [True, True],\n",
       " [True],\n",
       " [True, True],\n",
       " [True, True, True],\n",
       " [True],\n",
       " [True, True, True],\n",
       " [True, True],\n",
       " ...,\n",
       " [True],\n",
       " [True],\n",
       " [True, False],\n",
       " [True],\n",
       " [True, False],\n",
       " [True],\n",
       " [True, True, False],\n",
       " [True, False],\n",
       " [True]]\n",
       "------------------------\n",
       "type: 80104 * var * bool</pre>"
      ],
      "text/plain": [
       "<Array [[True], [True, True], ..., [...], [True]] type='80104 * var * bool'>"
      ]
     },
     "execution_count": 25,
     "metadata": {},
     "output_type": "execute_result"
    }
   ],
   "source": [
    "computed_mask"
   ]
  },
  {
   "cell_type": "code",
   "execution_count": 26,
   "id": "fb4bc9bb",
   "metadata": {},
   "outputs": [
    {
     "data": {
      "text/html": [
       "<pre>[1,\n",
       " 2,\n",
       " 1,\n",
       " 2,\n",
       " 1,\n",
       " 2,\n",
       " 3,\n",
       " 1,\n",
       " 3,\n",
       " 2,\n",
       " ...,\n",
       " 1,\n",
       " 1,\n",
       " 1,\n",
       " 1,\n",
       " 1,\n",
       " 1,\n",
       " 2,\n",
       " 1,\n",
       " 1]\n",
       "-------------------\n",
       "type: 80104 * int64</pre>"
      ],
      "text/plain": [
       "<Array [1, 2, 1, 2, 1, 2, 3, 1, ..., 1, 1, 1, 1, 2, 1, 1] type='80104 * int64'>"
      ]
     },
     "execution_count": 26,
     "metadata": {},
     "output_type": "execute_result"
    }
   ],
   "source": [
    "num_mask"
   ]
  },
  {
   "cell_type": "code",
   "execution_count": 9,
   "id": "3c09577c",
   "metadata": {},
   "outputs": [],
   "source": [
    "for i, ds in enumerate(ds_names):\n",
    "    proc = Processor(rs, ds)\n",
    "    proc.runfile(filelist[i], 0, None)"
   ]
  },
  {
   "cell_type": "code",
   "execution_count": 15,
   "id": "f48d8a0b",
   "metadata": {},
   "outputs": [],
   "source": [
    "output_fi = os.listdir(rs.OUTPUTDIR_PATH)"
   ]
  },
  {
   "cell_type": "code",
   "execution_count": 21,
   "id": "e760d113",
   "metadata": {},
   "outputs": [],
   "source": [
    "dfs = []\n",
    "for file_name in output_fi:\n",
    "    df = pd.read_csv(pjoin(rs.OUTPUTDIR_PATH, file_name), index_col=0, header=0)\n",
    "    df.columns = [file_name]\n",
    "    dfs.append(df)"
   ]
  },
  {
   "cell_type": "code",
   "execution_count": 22,
   "id": "586ef359",
   "metadata": {},
   "outputs": [],
   "source": [
    "raw_df = pd.concat(dfs, axis=1)"
   ]
  },
  {
   "cell_type": "code",
   "execution_count": 23,
   "id": "1b87db7e",
   "metadata": {},
   "outputs": [
    {
     "data": {
      "text/html": [
       "<div>\n",
       "<style scoped>\n",
       "    .dataframe tbody tr th:only-of-type {\n",
       "        vertical-align: middle;\n",
       "    }\n",
       "\n",
       "    .dataframe tbody tr th {\n",
       "        vertical-align: top;\n",
       "    }\n",
       "\n",
       "    .dataframe thead th {\n",
       "        text-align: right;\n",
       "    }\n",
       "</style>\n",
       "<table border=\"1\" class=\"dataframe\">\n",
       "  <thead>\n",
       "    <tr style=\"text-align: right;\">\n",
       "      <th></th>\n",
       "      <th>DYJets_cutflow_0.csv</th>\n",
       "      <th>TTbar_cutflow_0.csv</th>\n",
       "      <th>ggF_cutflow_0.csv</th>\n",
       "    </tr>\n",
       "  </thead>\n",
       "  <tbody>\n",
       "    <tr>\n",
       "      <th>initial</th>\n",
       "      <td>506334</td>\n",
       "      <td>927960</td>\n",
       "      <td>80104</td>\n",
       "    </tr>\n",
       "    <tr>\n",
       "      <th>ElectronSelection</th>\n",
       "      <td>500522</td>\n",
       "      <td>525938</td>\n",
       "      <td>45205</td>\n",
       "    </tr>\n",
       "    <tr>\n",
       "      <th>MuonSelection</th>\n",
       "      <td>488033</td>\n",
       "      <td>289438</td>\n",
       "      <td>31124</td>\n",
       "    </tr>\n",
       "    <tr>\n",
       "      <th>TauSelection</th>\n",
       "      <td>361</td>\n",
       "      <td>32286</td>\n",
       "      <td>14806</td>\n",
       "    </tr>\n",
       "  </tbody>\n",
       "</table>\n",
       "</div>"
      ],
      "text/plain": [
       "                   DYJets_cutflow_0.csv  TTbar_cutflow_0.csv  \\\n",
       "initial                          506334               927960   \n",
       "ElectronSelection                500522               525938   \n",
       "MuonSelection                    488033               289438   \n",
       "TauSelection                        361                32286   \n",
       "\n",
       "                   ggF_cutflow_0.csv  \n",
       "initial                        80104  \n",
       "ElectronSelection              45205  \n",
       "MuonSelection                  31124  \n",
       "TauSelection                   14806  "
      ]
     },
     "execution_count": 23,
     "metadata": {},
     "output_type": "execute_result"
    }
   ],
   "source": [
    "raw_df"
   ]
  },
  {
   "cell_type": "code",
   "execution_count": 24,
   "id": "20355fa2",
   "metadata": {},
   "outputs": [],
   "source": [
    "efficiency_df = raw_df.div(raw_df.shift(1)).fillna(1)"
   ]
  },
  {
   "cell_type": "code",
   "execution_count": 25,
   "id": "6067cae1",
   "metadata": {},
   "outputs": [
    {
     "data": {
      "text/html": [
       "<div>\n",
       "<style scoped>\n",
       "    .dataframe tbody tr th:only-of-type {\n",
       "        vertical-align: middle;\n",
       "    }\n",
       "\n",
       "    .dataframe tbody tr th {\n",
       "        vertical-align: top;\n",
       "    }\n",
       "\n",
       "    .dataframe thead th {\n",
       "        text-align: right;\n",
       "    }\n",
       "</style>\n",
       "<table border=\"1\" class=\"dataframe\">\n",
       "  <thead>\n",
       "    <tr style=\"text-align: right;\">\n",
       "      <th></th>\n",
       "      <th>DYJets_cutflow_0.csv</th>\n",
       "      <th>TTbar_cutflow_0.csv</th>\n",
       "      <th>ggF_cutflow_0.csv</th>\n",
       "    </tr>\n",
       "  </thead>\n",
       "  <tbody>\n",
       "    <tr>\n",
       "      <th>initial</th>\n",
       "      <td>1.000000</td>\n",
       "      <td>1.000000</td>\n",
       "      <td>1.000000</td>\n",
       "    </tr>\n",
       "    <tr>\n",
       "      <th>ElectronSelection</th>\n",
       "      <td>0.988521</td>\n",
       "      <td>0.566768</td>\n",
       "      <td>0.564329</td>\n",
       "    </tr>\n",
       "    <tr>\n",
       "      <th>MuonSelection</th>\n",
       "      <td>0.975048</td>\n",
       "      <td>0.550327</td>\n",
       "      <td>0.688508</td>\n",
       "    </tr>\n",
       "    <tr>\n",
       "      <th>TauSelection</th>\n",
       "      <td>0.000740</td>\n",
       "      <td>0.111547</td>\n",
       "      <td>0.475710</td>\n",
       "    </tr>\n",
       "  </tbody>\n",
       "</table>\n",
       "</div>"
      ],
      "text/plain": [
       "                   DYJets_cutflow_0.csv  TTbar_cutflow_0.csv  \\\n",
       "initial                        1.000000             1.000000   \n",
       "ElectronSelection              0.988521             0.566768   \n",
       "MuonSelection                  0.975048             0.550327   \n",
       "TauSelection                   0.000740             0.111547   \n",
       "\n",
       "                   ggF_cutflow_0.csv  \n",
       "initial                     1.000000  \n",
       "ElectronSelection           0.564329  \n",
       "MuonSelection               0.688508  \n",
       "TauSelection                0.475710  "
      ]
     },
     "execution_count": 25,
     "metadata": {},
     "output_type": "execute_result"
    }
   ],
   "source": [
    "# incremental\n",
    "efficiency_df"
   ]
  },
  {
   "cell_type": "code",
   "execution_count": 26,
   "id": "2ec3141f",
   "metadata": {},
   "outputs": [],
   "source": [
    "overall_eff = raw_df.div(raw_df.iloc[0]).fillna(1)"
   ]
  },
  {
   "cell_type": "code",
   "execution_count": 27,
   "id": "a1429718",
   "metadata": {},
   "outputs": [
    {
     "data": {
      "text/html": [
       "<div>\n",
       "<style scoped>\n",
       "    .dataframe tbody tr th:only-of-type {\n",
       "        vertical-align: middle;\n",
       "    }\n",
       "\n",
       "    .dataframe tbody tr th {\n",
       "        vertical-align: top;\n",
       "    }\n",
       "\n",
       "    .dataframe thead th {\n",
       "        text-align: right;\n",
       "    }\n",
       "</style>\n",
       "<table border=\"1\" class=\"dataframe\">\n",
       "  <thead>\n",
       "    <tr style=\"text-align: right;\">\n",
       "      <th></th>\n",
       "      <th>DYJets_cutflow_0.csv</th>\n",
       "      <th>TTbar_cutflow_0.csv</th>\n",
       "      <th>ggF_cutflow_0.csv</th>\n",
       "    </tr>\n",
       "  </thead>\n",
       "  <tbody>\n",
       "    <tr>\n",
       "      <th>initial</th>\n",
       "      <td>1.000000</td>\n",
       "      <td>1.000000</td>\n",
       "      <td>1.000000</td>\n",
       "    </tr>\n",
       "    <tr>\n",
       "      <th>ElectronSelection</th>\n",
       "      <td>0.988521</td>\n",
       "      <td>0.566768</td>\n",
       "      <td>0.564329</td>\n",
       "    </tr>\n",
       "    <tr>\n",
       "      <th>MuonSelection</th>\n",
       "      <td>0.963856</td>\n",
       "      <td>0.311908</td>\n",
       "      <td>0.388545</td>\n",
       "    </tr>\n",
       "    <tr>\n",
       "      <th>TauSelection</th>\n",
       "      <td>0.000713</td>\n",
       "      <td>0.034792</td>\n",
       "      <td>0.184835</td>\n",
       "    </tr>\n",
       "  </tbody>\n",
       "</table>\n",
       "</div>"
      ],
      "text/plain": [
       "                   DYJets_cutflow_0.csv  TTbar_cutflow_0.csv  \\\n",
       "initial                        1.000000             1.000000   \n",
       "ElectronSelection              0.988521             0.566768   \n",
       "MuonSelection                  0.963856             0.311908   \n",
       "TauSelection                   0.000713             0.034792   \n",
       "\n",
       "                   ggF_cutflow_0.csv  \n",
       "initial                     1.000000  \n",
       "ElectronSelection           0.564329  \n",
       "MuonSelection               0.388545  \n",
       "TauSelection                0.184835  "
      ]
     },
     "execution_count": 27,
     "metadata": {},
     "output_type": "execute_result"
    }
   ],
   "source": [
    "# wrt to total\n",
    "overall_eff"
   ]
  },
  {
   "cell_type": "code",
   "execution_count": null,
   "id": "868e09a8",
   "metadata": {},
   "outputs": [],
   "source": [
    "# Run small scale selections on one file for each process\n",
    "def runsample(dsnames, datasrc):\n",
    "    samplefl = []\n",
    "    for name in dsnames:\n",
    "        with open(pjoin(datasrc, f'{name}.json'), 'r') as file:\n",
    "            meta = json.load(file)\n",
    "            samplefl.append(meta)"
   ]
  }
 ],
 "metadata": {
  "kernelspec": {
   "display_name": "Python 3 (ipykernel)",
   "language": "python",
   "name": "python3"
  },
  "language_info": {
   "codemirror_mode": {
    "name": "ipython",
    "version": 3
   },
   "file_extension": ".py",
   "mimetype": "text/x-python",
   "name": "python",
   "nbconvert_exporter": "python",
   "pygments_lexer": "ipython3",
   "version": "3.9.12"
  }
 },
 "nbformat": 4,
 "nbformat_minor": 5
}
