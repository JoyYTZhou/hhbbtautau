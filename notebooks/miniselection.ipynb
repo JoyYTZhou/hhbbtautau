{
 "cells": [
  {
   "cell_type": "code",
   "execution_count": 1,
   "id": "88a5aa9c",
   "metadata": {},
   "outputs": [],
   "source": [
    "%load_ext autoreload\n",
    "%autoreload 2"
   ]
  },
  {
   "cell_type": "code",
   "execution_count": 2,
   "id": "a5d184a9",
   "metadata": {},
   "outputs": [],
   "source": [
    "from analysis.processor import Processor"
   ]
  },
  {
   "cell_type": "code",
   "execution_count": 3,
   "id": "7d3d4682",
   "metadata": {},
   "outputs": [],
   "source": [
    "from utils.filesysutil import *"
   ]
  },
  {
   "cell_type": "code",
   "execution_count": 14,
   "id": "8f479b6a",
   "metadata": {},
   "outputs": [],
   "source": [
    "from analysis.custom import *"
   ]
  },
  {
   "cell_type": "code",
   "execution_count": 5,
   "id": "0b2d9818",
   "metadata": {},
   "outputs": [],
   "source": [
    "from config.selectionconfig import runsetting as rs"
   ]
  },
  {
   "cell_type": "code",
   "execution_count": 6,
   "id": "385cc7b7",
   "metadata": {},
   "outputs": [],
   "source": [
    "import random\n",
    "import json\n",
    "import os"
   ]
  },
  {
   "cell_type": "code",
   "execution_count": 7,
   "id": "7f57551b",
   "metadata": {},
   "outputs": [],
   "source": [
    "import awkward as ak"
   ]
  },
  {
   "cell_type": "markdown",
   "id": "cbd3cbd7",
   "metadata": {},
   "source": [
    "## Inspect a skimmed file and run custom selections"
   ]
  },
  {
   "cell_type": "code",
   "execution_count": 50,
   "id": "f8b5238a",
   "metadata": {},
   "outputs": [],
   "source": [
    "filename = 'GluGlutoHHto2B2Tau_kl-1p00_kt-1p00_c2-0p00_1-part0.root'\n",
    "dirname = '/uscms/home/joyzhou/nobackup/output/ggF'\n",
    "proc = Processor(rs, 'ggF', prelimEvtSel)"
   ]
  },
  {
   "cell_type": "code",
   "execution_count": 51,
   "id": "09cfe543",
   "metadata": {},
   "outputs": [],
   "source": [
    "evts = proc.loadfile(pjoin(dirname, filename), 0)\n",
    "# Do something after this cell to conduct inspection"
   ]
  },
  {
   "cell_type": "code",
   "execution_count": 52,
   "id": "fe9c4792",
   "metadata": {},
   "outputs": [
    {
     "data": {
      "text/html": [
       "<pre>[[115, 20.6, 24.4],\n",
       " [44.9, 27.9, 21.1],\n",
       " [69.2, 21.2],\n",
       " [31.3, 41.7],\n",
       " [27.6, 23.8],\n",
       " [23.2, 32],\n",
       " [35.8, 21.4],\n",
       " [31.3, 27.1],\n",
       " [28.2, 25.2],\n",
       " [45.6, 41.5],\n",
       " ...,\n",
       " [97.6, 22.5],\n",
       " [50.6, 70.7],\n",
       " [66.4, 24.4],\n",
       " [87.9, 25.5],\n",
       " [94.3, 22.8],\n",
       " [130, 27.3],\n",
       " [127, 25.8],\n",
       " [83.4, 44.1],\n",
       " [123, 22.9]]\n",
       "---------------------------\n",
       "type: 33954 * var * float32</pre>"
      ],
      "text/plain": [
       "<Array [[115, 20.6, 24.4], ..., [123, 22.9]] type='33954 * var * float32'>"
      ]
     },
     "execution_count": 52,
     "metadata": {},
     "output_type": "execute_result"
    }
   ],
   "source": [
    "evts['Tau_pt'].compute()"
   ]
  },
  {
   "cell_type": "code",
   "execution_count": 53,
   "id": "c8570ac3",
   "metadata": {},
   "outputs": [
    {
     "data": {
      "text/plain": [
       "'file /uscms/home/joyzhou/nobackup/output/ggF/GluGlutoHHto2B2Tau_kl-1p00_kt-1p00_c2-0p00_1-part0.root processed successfully!'"
      ]
     },
     "execution_count": 53,
     "metadata": {},
     "output_type": "execute_result"
    }
   ],
   "source": [
    "proc.runfile(pjoin(dirname, filename), 0)"
   ]
  },
  {
   "cell_type": "code",
   "execution_count": 54,
   "id": "ab66fdbc",
   "metadata": {},
   "outputs": [],
   "source": [
    "result = pjoin('/uscms/home/joyzhou/nobackup/tests', 'ggF_0-part0.root')\n",
    "fit_evts = proc.loadfile(result, 'test')"
   ]
  },
  {
   "cell_type": "markdown",
   "id": "baba6c59",
   "metadata": {},
   "source": [
    "## Run over example files"
   ]
  },
  {
   "cell_type": "code",
   "execution_count": 9,
   "id": "d7cecc17",
   "metadata": {},
   "outputs": [],
   "source": [
    "# custom-define datasets to process \n",
    "process_names = [\"TTbar\", \"ggF\", \"SingleH\"]\n",
    "data_src = 'src/data/preprocessed'"
   ]
  },
  {
   "cell_type": "code",
   "execution_count": 9,
   "id": "324d9917",
   "metadata": {},
   "outputs": [],
   "source": [
    "# Quick hack\n",
    "ds_names = [\"DYJets\", \"TTbar\", \"ggF\"]\n",
    "filelist = [\"root://cmsxrootd.fnal.gov//store/mc/Run3Winter22NanoAOD/DYJetsToLL_M-10to50_TuneCP5_13p6TeV-madgraphMLM-pythia8/NANOAODSIM/122X_mcRun3_2021_realistic_v9-v1/30000/10e16df1-d8bb-4b32-bb90-32c4fd57f429.root\",\n",
    "           \"root://cmsxrootd.fnal.gov//store/mc/Run3Summer22EENanoAODv12/TTto2L2Nu_TuneCP5_13p6TeV_powheg-pythia8/NANOAODSIM/130X_mcRun3_2022_realistic_postEE_v6-v2/2540000/62aea484-cae5-4c41-8803-08969f44c116.root\",\n",
    "           \"root://cmsxrootd.fnal.gov//store/mc/Run3Summer22EENanoAODv12/GluGlutoHHto2B2Tau_kl-1p00_kt-1p00_c2-0p00_TuneCP5_13p6TeV_powheg-pythia8/NANOAODSIM/130X_mcRun3_2022_realistic_postEE_v6-v3/80000/5998ad11-ab82-41bf-a740-7a2c38b85a14.root\"]"
   ]
  },
  {
   "cell_type": "code",
   "execution_count": 10,
   "id": "76749b5a",
   "metadata": {},
   "outputs": [],
   "source": [
    "finame = filelist[1]\n",
    "proc = Processor(rs, 'TTbar')"
   ]
  },
  {
   "cell_type": "code",
   "execution_count": 18,
   "id": "2846818f",
   "metadata": {},
   "outputs": [],
   "source": [
    "events = proc.loadfile(finame, 'test')"
   ]
  },
  {
   "cell_type": "code",
   "execution_count": 36,
   "id": "8d2227c5",
   "metadata": {},
   "outputs": [
    {
     "data": {
      "text/plain": [
       "'/uscms/home/joyzhou/nobackup/tests'"
      ]
     },
     "execution_count": 36,
     "metadata": {},
     "output_type": "execute_result"
    }
   ],
   "source": [
    "proc.outdir"
   ]
  },
  {
   "cell_type": "code",
   "execution_count": 37,
   "id": "e1999605",
   "metadata": {},
   "outputs": [],
   "source": [
    "proc = Processor(rs, 'TTbar', mockskimEvtSel)"
   ]
  },
  {
   "cell_type": "code",
   "execution_count": null,
   "id": "14058759",
   "metadata": {},
   "outputs": [],
   "source": [
    "# examine the file later\n",
    "proc.runfile()"
   ]
  },
  {
   "cell_type": "code",
   "execution_count": 17,
   "id": "c1e53769",
   "metadata": {},
   "outputs": [],
   "source": [
    "# create an object mask\n",
    "tau_mask = (events['Tau_pt'] > 25) & (abs(events['Tau_eta']) < 3.0)"
   ]
  },
  {
   "cell_type": "code",
   "execution_count": 9,
   "id": "3c09577c",
   "metadata": {},
   "outputs": [],
   "source": [
    "for i, ds in enumerate(ds_names):\n",
    "    proc = Processor(rs, ds)\n",
    "    proc.runfile(filelist[i], 0, None)"
   ]
  },
  {
   "cell_type": "code",
   "execution_count": 15,
   "id": "f48d8a0b",
   "metadata": {},
   "outputs": [],
   "source": [
    "output_fi = os.listdir(rs.OUTPUTDIR_PATH)"
   ]
  },
  {
   "cell_type": "code",
   "execution_count": 21,
   "id": "e760d113",
   "metadata": {},
   "outputs": [],
   "source": [
    "dfs = []\n",
    "for file_name in output_fi:\n",
    "    df = pd.read_csv(pjoin(rs.OUTPUTDIR_PATH, file_name), index_col=0, header=0)\n",
    "    df.columns = [file_name]\n",
    "    dfs.append(df)"
   ]
  },
  {
   "cell_type": "code",
   "execution_count": 22,
   "id": "586ef359",
   "metadata": {},
   "outputs": [],
   "source": [
    "raw_df = pd.concat(dfs, axis=1)"
   ]
  },
  {
   "cell_type": "code",
   "execution_count": 23,
   "id": "1b87db7e",
   "metadata": {},
   "outputs": [
    {
     "data": {
      "text/html": [
       "<div>\n",
       "<style scoped>\n",
       "    .dataframe tbody tr th:only-of-type {\n",
       "        vertical-align: middle;\n",
       "    }\n",
       "\n",
       "    .dataframe tbody tr th {\n",
       "        vertical-align: top;\n",
       "    }\n",
       "\n",
       "    .dataframe thead th {\n",
       "        text-align: right;\n",
       "    }\n",
       "</style>\n",
       "<table border=\"1\" class=\"dataframe\">\n",
       "  <thead>\n",
       "    <tr style=\"text-align: right;\">\n",
       "      <th></th>\n",
       "      <th>DYJets_cutflow_0.csv</th>\n",
       "      <th>TTbar_cutflow_0.csv</th>\n",
       "      <th>ggF_cutflow_0.csv</th>\n",
       "    </tr>\n",
       "  </thead>\n",
       "  <tbody>\n",
       "    <tr>\n",
       "      <th>initial</th>\n",
       "      <td>506334</td>\n",
       "      <td>927960</td>\n",
       "      <td>80104</td>\n",
       "    </tr>\n",
       "    <tr>\n",
       "      <th>ElectronSelection</th>\n",
       "      <td>500522</td>\n",
       "      <td>525938</td>\n",
       "      <td>45205</td>\n",
       "    </tr>\n",
       "    <tr>\n",
       "      <th>MuonSelection</th>\n",
       "      <td>488033</td>\n",
       "      <td>289438</td>\n",
       "      <td>31124</td>\n",
       "    </tr>\n",
       "    <tr>\n",
       "      <th>TauSelection</th>\n",
       "      <td>361</td>\n",
       "      <td>32286</td>\n",
       "      <td>14806</td>\n",
       "    </tr>\n",
       "  </tbody>\n",
       "</table>\n",
       "</div>"
      ],
      "text/plain": [
       "                   DYJets_cutflow_0.csv  TTbar_cutflow_0.csv  \\\n",
       "initial                          506334               927960   \n",
       "ElectronSelection                500522               525938   \n",
       "MuonSelection                    488033               289438   \n",
       "TauSelection                        361                32286   \n",
       "\n",
       "                   ggF_cutflow_0.csv  \n",
       "initial                        80104  \n",
       "ElectronSelection              45205  \n",
       "MuonSelection                  31124  \n",
       "TauSelection                   14806  "
      ]
     },
     "execution_count": 23,
     "metadata": {},
     "output_type": "execute_result"
    }
   ],
   "source": [
    "raw_df"
   ]
  },
  {
   "cell_type": "code",
   "execution_count": 24,
   "id": "20355fa2",
   "metadata": {},
   "outputs": [],
   "source": [
    "efficiency_df = raw_df.div(raw_df.shift(1)).fillna(1)"
   ]
  },
  {
   "cell_type": "code",
   "execution_count": 25,
   "id": "6067cae1",
   "metadata": {},
   "outputs": [
    {
     "data": {
      "text/html": [
       "<div>\n",
       "<style scoped>\n",
       "    .dataframe tbody tr th:only-of-type {\n",
       "        vertical-align: middle;\n",
       "    }\n",
       "\n",
       "    .dataframe tbody tr th {\n",
       "        vertical-align: top;\n",
       "    }\n",
       "\n",
       "    .dataframe thead th {\n",
       "        text-align: right;\n",
       "    }\n",
       "</style>\n",
       "<table border=\"1\" class=\"dataframe\">\n",
       "  <thead>\n",
       "    <tr style=\"text-align: right;\">\n",
       "      <th></th>\n",
       "      <th>DYJets_cutflow_0.csv</th>\n",
       "      <th>TTbar_cutflow_0.csv</th>\n",
       "      <th>ggF_cutflow_0.csv</th>\n",
       "    </tr>\n",
       "  </thead>\n",
       "  <tbody>\n",
       "    <tr>\n",
       "      <th>initial</th>\n",
       "      <td>1.000000</td>\n",
       "      <td>1.000000</td>\n",
       "      <td>1.000000</td>\n",
       "    </tr>\n",
       "    <tr>\n",
       "      <th>ElectronSelection</th>\n",
       "      <td>0.988521</td>\n",
       "      <td>0.566768</td>\n",
       "      <td>0.564329</td>\n",
       "    </tr>\n",
       "    <tr>\n",
       "      <th>MuonSelection</th>\n",
       "      <td>0.975048</td>\n",
       "      <td>0.550327</td>\n",
       "      <td>0.688508</td>\n",
       "    </tr>\n",
       "    <tr>\n",
       "      <th>TauSelection</th>\n",
       "      <td>0.000740</td>\n",
       "      <td>0.111547</td>\n",
       "      <td>0.475710</td>\n",
       "    </tr>\n",
       "  </tbody>\n",
       "</table>\n",
       "</div>"
      ],
      "text/plain": [
       "                   DYJets_cutflow_0.csv  TTbar_cutflow_0.csv  \\\n",
       "initial                        1.000000             1.000000   \n",
       "ElectronSelection              0.988521             0.566768   \n",
       "MuonSelection                  0.975048             0.550327   \n",
       "TauSelection                   0.000740             0.111547   \n",
       "\n",
       "                   ggF_cutflow_0.csv  \n",
       "initial                     1.000000  \n",
       "ElectronSelection           0.564329  \n",
       "MuonSelection               0.688508  \n",
       "TauSelection                0.475710  "
      ]
     },
     "execution_count": 25,
     "metadata": {},
     "output_type": "execute_result"
    }
   ],
   "source": [
    "# incremental\n",
    "efficiency_df"
   ]
  },
  {
   "cell_type": "code",
   "execution_count": 26,
   "id": "2ec3141f",
   "metadata": {},
   "outputs": [],
   "source": [
    "overall_eff = raw_df.div(raw_df.iloc[0]).fillna(1)"
   ]
  },
  {
   "cell_type": "code",
   "execution_count": 27,
   "id": "a1429718",
   "metadata": {},
   "outputs": [
    {
     "data": {
      "text/html": [
       "<div>\n",
       "<style scoped>\n",
       "    .dataframe tbody tr th:only-of-type {\n",
       "        vertical-align: middle;\n",
       "    }\n",
       "\n",
       "    .dataframe tbody tr th {\n",
       "        vertical-align: top;\n",
       "    }\n",
       "\n",
       "    .dataframe thead th {\n",
       "        text-align: right;\n",
       "    }\n",
       "</style>\n",
       "<table border=\"1\" class=\"dataframe\">\n",
       "  <thead>\n",
       "    <tr style=\"text-align: right;\">\n",
       "      <th></th>\n",
       "      <th>DYJets_cutflow_0.csv</th>\n",
       "      <th>TTbar_cutflow_0.csv</th>\n",
       "      <th>ggF_cutflow_0.csv</th>\n",
       "    </tr>\n",
       "  </thead>\n",
       "  <tbody>\n",
       "    <tr>\n",
       "      <th>initial</th>\n",
       "      <td>1.000000</td>\n",
       "      <td>1.000000</td>\n",
       "      <td>1.000000</td>\n",
       "    </tr>\n",
       "    <tr>\n",
       "      <th>ElectronSelection</th>\n",
       "      <td>0.988521</td>\n",
       "      <td>0.566768</td>\n",
       "      <td>0.564329</td>\n",
       "    </tr>\n",
       "    <tr>\n",
       "      <th>MuonSelection</th>\n",
       "      <td>0.963856</td>\n",
       "      <td>0.311908</td>\n",
       "      <td>0.388545</td>\n",
       "    </tr>\n",
       "    <tr>\n",
       "      <th>TauSelection</th>\n",
       "      <td>0.000713</td>\n",
       "      <td>0.034792</td>\n",
       "      <td>0.184835</td>\n",
       "    </tr>\n",
       "  </tbody>\n",
       "</table>\n",
       "</div>"
      ],
      "text/plain": [
       "                   DYJets_cutflow_0.csv  TTbar_cutflow_0.csv  \\\n",
       "initial                        1.000000             1.000000   \n",
       "ElectronSelection              0.988521             0.566768   \n",
       "MuonSelection                  0.963856             0.311908   \n",
       "TauSelection                   0.000713             0.034792   \n",
       "\n",
       "                   ggF_cutflow_0.csv  \n",
       "initial                     1.000000  \n",
       "ElectronSelection           0.564329  \n",
       "MuonSelection               0.388545  \n",
       "TauSelection                0.184835  "
      ]
     },
     "execution_count": 27,
     "metadata": {},
     "output_type": "execute_result"
    }
   ],
   "source": [
    "# wrt to total\n",
    "overall_eff"
   ]
  },
  {
   "cell_type": "code",
   "execution_count": null,
   "id": "868e09a8",
   "metadata": {},
   "outputs": [],
   "source": [
    "# Run small scale selections on one file for each process\n",
    "def runsample(dsnames, datasrc):\n",
    "    samplefl = []\n",
    "    for name in dsnames:\n",
    "        with open(pjoin(datasrc, f'{name}.json'), 'r') as file:\n",
    "            meta = json.load(file)\n",
    "            samplefl.append(meta)"
   ]
  }
 ],
 "metadata": {
  "kernelspec": {
   "display_name": "Python 3 (ipykernel)",
   "language": "python",
   "name": "python3"
  },
  "language_info": {
   "codemirror_mode": {
    "name": "ipython",
    "version": 3
   },
   "file_extension": ".py",
   "mimetype": "text/x-python",
   "name": "python",
   "nbconvert_exporter": "python",
   "pygments_lexer": "ipython3",
   "version": "3.9.12"
  }
 },
 "nbformat": 4,
 "nbformat_minor": 5
}
