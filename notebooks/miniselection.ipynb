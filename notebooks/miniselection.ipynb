{
 "cells": [
  {
   "cell_type": "code",
   "execution_count": 3,
   "id": "88a5aa9c",
   "metadata": {},
   "outputs": [
    {
     "name": "stdout",
     "output_type": "stream",
     "text": [
      "The autoreload extension is already loaded. To reload it, use:\n",
      "  %reload_ext autoreload\n"
     ]
    }
   ],
   "source": [
    "%load_ext autoreload\n",
    "%autoreload 2"
   ]
  },
  {
   "cell_type": "code",
   "execution_count": 4,
   "id": "a5d184a9",
   "metadata": {},
   "outputs": [],
   "source": [
    "from analysis.processor import Processor"
   ]
  },
  {
   "cell_type": "code",
   "execution_count": 13,
   "id": "21ddbe1f",
   "metadata": {},
   "outputs": [],
   "source": [
    "from analysis.selutility import Object"
   ]
  },
  {
   "cell_type": "code",
   "execution_count": 15,
   "id": "783e52e1",
   "metadata": {},
   "outputs": [],
   "source": [
    "from config.selectionconfig import settings as sel_cfg"
   ]
  },
  {
   "cell_type": "code",
   "execution_count": 5,
   "id": "7d3d4682",
   "metadata": {},
   "outputs": [],
   "source": [
    "from analysis.helper import *"
   ]
  },
  {
   "cell_type": "code",
   "execution_count": 6,
   "id": "0b2d9818",
   "metadata": {},
   "outputs": [],
   "source": [
    "from config.selectionconfig import runsetting as rs"
   ]
  },
  {
   "cell_type": "code",
   "execution_count": 7,
   "id": "385cc7b7",
   "metadata": {},
   "outputs": [],
   "source": [
    "import random\n",
    "import json\n",
    "import os"
   ]
  },
  {
   "cell_type": "code",
   "execution_count": 8,
   "id": "d7cecc17",
   "metadata": {},
   "outputs": [],
   "source": [
    "# custom-define datasets to process \n",
    "process_names = [\"TTbar\", \"ggF\", \"SingleH\"]\n",
    "data_src = 'src/data/preprocessed'"
   ]
  },
  {
   "cell_type": "code",
   "execution_count": 10,
   "id": "324d9917",
   "metadata": {},
   "outputs": [],
   "source": [
    "# Quick hack\n",
    "ds_names = [\"DYJets\", \"TTbar\", \"ggF\"]\n",
    "filelist = [\"root://cmsxrootd.fnal.gov//store/mc/Run3Winter22NanoAOD/DYJetsToLL_M-10to50_TuneCP5_13p6TeV-madgraphMLM-pythia8/NANOAODSIM/122X_mcRun3_2021_realistic_v9-v1/30000/10e16df1-d8bb-4b32-bb90-32c4fd57f429.root\",\n",
    "           \"root://cmsxrootd.fnal.gov//store/mc/Run3Winter22NanoAOD/TTToSemiLeptonic_TuneCP5_13p6TeV-powheg-pythia8/NANOAODSIM/FlatPU0to70_pilot_122X_mcRun3_2021_realistic_v9-v1/30000/1fa8ebbc-f09a-4244-b41f-5125c5ed9f48.root\",\n",
    "           \"root://cmsxrootd.fnal.gov//store/mc/Run3Summer22EENanoAODv12/GluGlutoHHto2B2Tau_kl-1p00_kt-1p00_c2-0p00_TuneCP5_13p6TeV_powheg-pythia8/NANOAODSIM/130X_mcRun3_2022_realistic_postEE_v6-v3/80000/5998ad11-ab82-41bf-a740-7a2c38b85a14.root\"]"
   ]
  },
  {
   "cell_type": "code",
   "execution_count": 11,
   "id": "e1999605",
   "metadata": {},
   "outputs": [],
   "source": [
    "finame = filelist[2]\n",
    "proc = Processor(rs, 'ggF')\n",
    "events = proc.loadfile(finame, 'test')"
   ]
  },
  {
   "cell_type": "code",
   "execution_count": 14,
   "id": "3acf1190",
   "metadata": {},
   "outputs": [
    {
     "ename": "AttributeError",
     "evalue": "'Processor' object has no attribute 'output_cfg'",
     "output_type": "error",
     "traceback": [
      "\u001b[0;31m---------------------------------------------------------------------------\u001b[0m",
      "\u001b[0;31mAttributeError\u001b[0m                            Traceback (most recent call last)",
      "\u001b[0;32m/tmp/ipykernel_17349/26755651.py\u001b[0m in \u001b[0;36m<module>\u001b[0;34m\u001b[0m\n\u001b[1;32m      1\u001b[0m \u001b[0;31m# Create test object: Tau\u001b[0m\u001b[0;34m\u001b[0m\u001b[0;34m\u001b[0m\u001b[0m\n\u001b[0;32m----> 2\u001b[0;31m \u001b[0mtau\u001b[0m \u001b[0;34m=\u001b[0m \u001b[0mObject\u001b[0m\u001b[0;34m(\u001b[0m\u001b[0;34m\"Tau\"\u001b[0m\u001b[0;34m,\u001b[0m \u001b[0mevents\u001b[0m\u001b[0;34m,\u001b[0m \u001b[0mproc\u001b[0m\u001b[0;34m.\u001b[0m\u001b[0moutput_cfg\u001b[0m\u001b[0;34m.\u001b[0m\u001b[0mElectron\u001b[0m\u001b[0;34m,\u001b[0m \u001b[0mproc\u001b[0m\u001b[0;34m.\u001b[0m\u001b[0mlepselcfg\u001b[0m\u001b[0;34m.\u001b[0m\u001b[0melectron\u001b[0m\u001b[0;34m)\u001b[0m\u001b[0;34m\u001b[0m\u001b[0;34m\u001b[0m\u001b[0m\n\u001b[0m",
      "\u001b[0;31mAttributeError\u001b[0m: 'Processor' object has no attribute 'output_cfg'"
     ]
    }
   ],
   "source": [
    "# Create test object: Tau\n",
    "objcfg = sel_cfg.signal.outputs.Tau\n",
    "tau = Object(\"Tau\", events, sel_cfg.signal.outputs.Tau, )"
   ]
  },
  {
   "cell_type": "code",
   "execution_count": null,
   "id": "f841e681",
   "metadata": {},
   "outputs": [],
   "source": []
  },
  {
   "cell_type": "code",
   "execution_count": 9,
   "id": "3c09577c",
   "metadata": {},
   "outputs": [],
   "source": [
    "for i, ds in enumerate(ds_names):\n",
    "    proc = Processor(rs, ds)\n",
    "    proc.runfile(filelist[i], 0, None)"
   ]
  },
  {
   "cell_type": "code",
   "execution_count": 15,
   "id": "f48d8a0b",
   "metadata": {},
   "outputs": [],
   "source": [
    "output_fi = os.listdir(rs.OUTPUTDIR_PATH)"
   ]
  },
  {
   "cell_type": "code",
   "execution_count": 21,
   "id": "e760d113",
   "metadata": {},
   "outputs": [],
   "source": [
    "dfs = []\n",
    "for file_name in output_fi:\n",
    "    df = pd.read_csv(pjoin(rs.OUTPUTDIR_PATH, file_name), index_col=0, header=0)\n",
    "    df.columns = [file_name]\n",
    "    dfs.append(df)"
   ]
  },
  {
   "cell_type": "code",
   "execution_count": 22,
   "id": "586ef359",
   "metadata": {},
   "outputs": [],
   "source": [
    "raw_df = pd.concat(dfs, axis=1)"
   ]
  },
  {
   "cell_type": "code",
   "execution_count": 23,
   "id": "1b87db7e",
   "metadata": {},
   "outputs": [
    {
     "data": {
      "text/html": [
       "<div>\n",
       "<style scoped>\n",
       "    .dataframe tbody tr th:only-of-type {\n",
       "        vertical-align: middle;\n",
       "    }\n",
       "\n",
       "    .dataframe tbody tr th {\n",
       "        vertical-align: top;\n",
       "    }\n",
       "\n",
       "    .dataframe thead th {\n",
       "        text-align: right;\n",
       "    }\n",
       "</style>\n",
       "<table border=\"1\" class=\"dataframe\">\n",
       "  <thead>\n",
       "    <tr style=\"text-align: right;\">\n",
       "      <th></th>\n",
       "      <th>DYJets_cutflow_0.csv</th>\n",
       "      <th>TTbar_cutflow_0.csv</th>\n",
       "      <th>ggF_cutflow_0.csv</th>\n",
       "    </tr>\n",
       "  </thead>\n",
       "  <tbody>\n",
       "    <tr>\n",
       "      <th>initial</th>\n",
       "      <td>506334</td>\n",
       "      <td>927960</td>\n",
       "      <td>80104</td>\n",
       "    </tr>\n",
       "    <tr>\n",
       "      <th>ElectronSelection</th>\n",
       "      <td>500522</td>\n",
       "      <td>525938</td>\n",
       "      <td>45205</td>\n",
       "    </tr>\n",
       "    <tr>\n",
       "      <th>MuonSelection</th>\n",
       "      <td>488033</td>\n",
       "      <td>289438</td>\n",
       "      <td>31124</td>\n",
       "    </tr>\n",
       "    <tr>\n",
       "      <th>TauSelection</th>\n",
       "      <td>361</td>\n",
       "      <td>32286</td>\n",
       "      <td>14806</td>\n",
       "    </tr>\n",
       "  </tbody>\n",
       "</table>\n",
       "</div>"
      ],
      "text/plain": [
       "                   DYJets_cutflow_0.csv  TTbar_cutflow_0.csv  \\\n",
       "initial                          506334               927960   \n",
       "ElectronSelection                500522               525938   \n",
       "MuonSelection                    488033               289438   \n",
       "TauSelection                        361                32286   \n",
       "\n",
       "                   ggF_cutflow_0.csv  \n",
       "initial                        80104  \n",
       "ElectronSelection              45205  \n",
       "MuonSelection                  31124  \n",
       "TauSelection                   14806  "
      ]
     },
     "execution_count": 23,
     "metadata": {},
     "output_type": "execute_result"
    }
   ],
   "source": [
    "raw_df"
   ]
  },
  {
   "cell_type": "code",
   "execution_count": 24,
   "id": "20355fa2",
   "metadata": {},
   "outputs": [],
   "source": [
    "efficiency_df = raw_df.div(raw_df.shift(1)).fillna(1)"
   ]
  },
  {
   "cell_type": "code",
   "execution_count": 25,
   "id": "6067cae1",
   "metadata": {},
   "outputs": [
    {
     "data": {
      "text/html": [
       "<div>\n",
       "<style scoped>\n",
       "    .dataframe tbody tr th:only-of-type {\n",
       "        vertical-align: middle;\n",
       "    }\n",
       "\n",
       "    .dataframe tbody tr th {\n",
       "        vertical-align: top;\n",
       "    }\n",
       "\n",
       "    .dataframe thead th {\n",
       "        text-align: right;\n",
       "    }\n",
       "</style>\n",
       "<table border=\"1\" class=\"dataframe\">\n",
       "  <thead>\n",
       "    <tr style=\"text-align: right;\">\n",
       "      <th></th>\n",
       "      <th>DYJets_cutflow_0.csv</th>\n",
       "      <th>TTbar_cutflow_0.csv</th>\n",
       "      <th>ggF_cutflow_0.csv</th>\n",
       "    </tr>\n",
       "  </thead>\n",
       "  <tbody>\n",
       "    <tr>\n",
       "      <th>initial</th>\n",
       "      <td>1.000000</td>\n",
       "      <td>1.000000</td>\n",
       "      <td>1.000000</td>\n",
       "    </tr>\n",
       "    <tr>\n",
       "      <th>ElectronSelection</th>\n",
       "      <td>0.988521</td>\n",
       "      <td>0.566768</td>\n",
       "      <td>0.564329</td>\n",
       "    </tr>\n",
       "    <tr>\n",
       "      <th>MuonSelection</th>\n",
       "      <td>0.975048</td>\n",
       "      <td>0.550327</td>\n",
       "      <td>0.688508</td>\n",
       "    </tr>\n",
       "    <tr>\n",
       "      <th>TauSelection</th>\n",
       "      <td>0.000740</td>\n",
       "      <td>0.111547</td>\n",
       "      <td>0.475710</td>\n",
       "    </tr>\n",
       "  </tbody>\n",
       "</table>\n",
       "</div>"
      ],
      "text/plain": [
       "                   DYJets_cutflow_0.csv  TTbar_cutflow_0.csv  \\\n",
       "initial                        1.000000             1.000000   \n",
       "ElectronSelection              0.988521             0.566768   \n",
       "MuonSelection                  0.975048             0.550327   \n",
       "TauSelection                   0.000740             0.111547   \n",
       "\n",
       "                   ggF_cutflow_0.csv  \n",
       "initial                     1.000000  \n",
       "ElectronSelection           0.564329  \n",
       "MuonSelection               0.688508  \n",
       "TauSelection                0.475710  "
      ]
     },
     "execution_count": 25,
     "metadata": {},
     "output_type": "execute_result"
    }
   ],
   "source": [
    "# incremental\n",
    "efficiency_df"
   ]
  },
  {
   "cell_type": "code",
   "execution_count": 26,
   "id": "2ec3141f",
   "metadata": {},
   "outputs": [],
   "source": [
    "overall_eff = raw_df.div(raw_df.iloc[0]).fillna(1)"
   ]
  },
  {
   "cell_type": "code",
   "execution_count": 27,
   "id": "a1429718",
   "metadata": {},
   "outputs": [
    {
     "data": {
      "text/html": [
       "<div>\n",
       "<style scoped>\n",
       "    .dataframe tbody tr th:only-of-type {\n",
       "        vertical-align: middle;\n",
       "    }\n",
       "\n",
       "    .dataframe tbody tr th {\n",
       "        vertical-align: top;\n",
       "    }\n",
       "\n",
       "    .dataframe thead th {\n",
       "        text-align: right;\n",
       "    }\n",
       "</style>\n",
       "<table border=\"1\" class=\"dataframe\">\n",
       "  <thead>\n",
       "    <tr style=\"text-align: right;\">\n",
       "      <th></th>\n",
       "      <th>DYJets_cutflow_0.csv</th>\n",
       "      <th>TTbar_cutflow_0.csv</th>\n",
       "      <th>ggF_cutflow_0.csv</th>\n",
       "    </tr>\n",
       "  </thead>\n",
       "  <tbody>\n",
       "    <tr>\n",
       "      <th>initial</th>\n",
       "      <td>1.000000</td>\n",
       "      <td>1.000000</td>\n",
       "      <td>1.000000</td>\n",
       "    </tr>\n",
       "    <tr>\n",
       "      <th>ElectronSelection</th>\n",
       "      <td>0.988521</td>\n",
       "      <td>0.566768</td>\n",
       "      <td>0.564329</td>\n",
       "    </tr>\n",
       "    <tr>\n",
       "      <th>MuonSelection</th>\n",
       "      <td>0.963856</td>\n",
       "      <td>0.311908</td>\n",
       "      <td>0.388545</td>\n",
       "    </tr>\n",
       "    <tr>\n",
       "      <th>TauSelection</th>\n",
       "      <td>0.000713</td>\n",
       "      <td>0.034792</td>\n",
       "      <td>0.184835</td>\n",
       "    </tr>\n",
       "  </tbody>\n",
       "</table>\n",
       "</div>"
      ],
      "text/plain": [
       "                   DYJets_cutflow_0.csv  TTbar_cutflow_0.csv  \\\n",
       "initial                        1.000000             1.000000   \n",
       "ElectronSelection              0.988521             0.566768   \n",
       "MuonSelection                  0.963856             0.311908   \n",
       "TauSelection                   0.000713             0.034792   \n",
       "\n",
       "                   ggF_cutflow_0.csv  \n",
       "initial                     1.000000  \n",
       "ElectronSelection           0.564329  \n",
       "MuonSelection               0.388545  \n",
       "TauSelection                0.184835  "
      ]
     },
     "execution_count": 27,
     "metadata": {},
     "output_type": "execute_result"
    }
   ],
   "source": [
    "# wrt to total\n",
    "overall_eff"
   ]
  },
  {
   "cell_type": "code",
   "execution_count": null,
   "id": "868e09a8",
   "metadata": {},
   "outputs": [],
   "source": [
    "# Run small scale selections on one file for each process\n",
    "def runsample(dsnames, datasrc):\n",
    "    samplefl = []\n",
    "    for name in dsnames:\n",
    "        with open(pjoin(datasrc, f'{name}.json'), 'r') as file:\n",
    "            meta = json.load(file)\n",
    "            samplefl.append(meta)"
   ]
  }
 ],
 "metadata": {
  "kernelspec": {
   "display_name": "Python 3 (ipykernel)",
   "language": "python",
   "name": "python3"
  },
  "language_info": {
   "codemirror_mode": {
    "name": "ipython",
    "version": 3
   },
   "file_extension": ".py",
   "mimetype": "text/x-python",
   "name": "python",
   "nbconvert_exporter": "python",
   "pygments_lexer": "ipython3",
   "version": "3.9.12"
  }
 },
 "nbformat": 4,
 "nbformat_minor": 5
}
