{
 "cells": [
  {
   "cell_type": "code",
   "execution_count": 10,
   "id": "0103ba1c",
   "metadata": {},
   "outputs": [
    {
     "name": "stdout",
     "output_type": "stream",
     "text": [
      "The autoreload extension is already loaded. To reload it, use:\n",
      "  %reload_ext autoreload\n"
     ]
    }
   ],
   "source": [
    "%load_ext autoreload\n",
    "%autoreload 2"
   ]
  },
  {
   "cell_type": "code",
   "execution_count": 11,
   "id": "6e49a252",
   "metadata": {},
   "outputs": [],
   "source": [
    "from analysis.plotutility import *\n",
    "from config.selectionconfig import plotsetting as pltcfg"
   ]
  },
  {
   "cell_type": "code",
   "execution_count": 12,
   "id": "b67f1237",
   "metadata": {},
   "outputs": [],
   "source": [
    "import os"
   ]
  },
  {
   "cell_type": "code",
   "execution_count": 13,
   "id": "c5ce358c",
   "metadata": {},
   "outputs": [],
   "source": [
    "vis = Visualizer(pltcfg)"
   ]
  },
  {
   "cell_type": "code",
   "execution_count": 14,
   "id": "bc681993",
   "metadata": {},
   "outputs": [],
   "source": [
    "raw_df, wgt_df = vis.load_allcf()"
   ]
  },
  {
   "cell_type": "code",
   "execution_count": 20,
   "id": "8d97c0a5",
   "metadata": {},
   "outputs": [
    {
     "data": {
      "text/html": [
       "<div>\n",
       "<style scoped>\n",
       "    .dataframe tbody tr th:only-of-type {\n",
       "        vertical-align: middle;\n",
       "    }\n",
       "\n",
       "    .dataframe tbody tr th {\n",
       "        vertical-align: top;\n",
       "    }\n",
       "\n",
       "    .dataframe thead th {\n",
       "        text-align: right;\n",
       "    }\n",
       "</style>\n",
       "<table border=\"1\" class=\"dataframe\">\n",
       "  <thead>\n",
       "    <tr style=\"text-align: right;\">\n",
       "      <th></th>\n",
       "      <th>DYJetsToLL_M-10to50</th>\n",
       "      <th>DYJetsToLL_M-50</th>\n",
       "      <th>ZH_HToBB_ZToLL_M-125</th>\n",
       "      <th>ZH_HToBB_ZToQQ_M-125</th>\n",
       "      <th>ttHto2B_M-125</th>\n",
       "      <th>VBFHToTauTau_M125</th>\n",
       "      <th>GluGluHToTauTau_M-125</th>\n",
       "    </tr>\n",
       "  </thead>\n",
       "  <tbody>\n",
       "    <tr>\n",
       "      <th>initial</th>\n",
       "      <td>22445405</td>\n",
       "      <td>92312235</td>\n",
       "      <td>2062940</td>\n",
       "      <td>4092774</td>\n",
       "      <td>4107465</td>\n",
       "      <td>298000</td>\n",
       "      <td>291000</td>\n",
       "    </tr>\n",
       "    <tr>\n",
       "      <th>ElectronSelection</th>\n",
       "      <td>22314144</td>\n",
       "      <td>68892058</td>\n",
       "      <td>1236115</td>\n",
       "      <td>3577235</td>\n",
       "      <td>2431611</td>\n",
       "      <td>221865</td>\n",
       "      <td>242886</td>\n",
       "    </tr>\n",
       "    <tr>\n",
       "      <th>MuonSelection</th>\n",
       "      <td>21925141</td>\n",
       "      <td>47130535</td>\n",
       "      <td>609499</td>\n",
       "      <td>3373217</td>\n",
       "      <td>1683102</td>\n",
       "      <td>187064</td>\n",
       "      <td>213728</td>\n",
       "    </tr>\n",
       "    <tr>\n",
       "      <th>TauSelection</th>\n",
       "      <td>277</td>\n",
       "      <td>72801</td>\n",
       "      <td>11019</td>\n",
       "      <td>9159</td>\n",
       "      <td>26490</td>\n",
       "      <td>9067</td>\n",
       "      <td>5214</td>\n",
       "    </tr>\n",
       "  </tbody>\n",
       "</table>\n",
       "</div>"
      ],
      "text/plain": [
       "                   DYJetsToLL_M-10to50  DYJetsToLL_M-50  ZH_HToBB_ZToLL_M-125  \\\n",
       "initial                       22445405         92312235               2062940   \n",
       "ElectronSelection             22314144         68892058               1236115   \n",
       "MuonSelection                 21925141         47130535                609499   \n",
       "TauSelection                       277            72801                 11019   \n",
       "\n",
       "                   ZH_HToBB_ZToQQ_M-125  ttHto2B_M-125  VBFHToTauTau_M125  \\\n",
       "initial                         4092774        4107465             298000   \n",
       "ElectronSelection               3577235        2431611             221865   \n",
       "MuonSelection                   3373217        1683102             187064   \n",
       "TauSelection                       9159          26490               9067   \n",
       "\n",
       "                   GluGluHToTauTau_M-125  \n",
       "initial                           291000  \n",
       "ElectronSelection                 242886  \n",
       "MuonSelection                     213728  \n",
       "TauSelection                        5214  "
      ]
     },
     "execution_count": 20,
     "metadata": {},
     "output_type": "execute_result"
    }
   ],
   "source": [
    "raw_df"
   ]
  },
  {
   "cell_type": "code",
   "execution_count": 15,
   "id": "f0940d43",
   "metadata": {},
   "outputs": [
    {
     "data": {
      "text/html": [
       "<div>\n",
       "<style scoped>\n",
       "    .dataframe tbody tr th:only-of-type {\n",
       "        vertical-align: middle;\n",
       "    }\n",
       "\n",
       "    .dataframe tbody tr th {\n",
       "        vertical-align: top;\n",
       "    }\n",
       "\n",
       "    .dataframe thead th {\n",
       "        text-align: right;\n",
       "    }\n",
       "</style>\n",
       "<table border=\"1\" class=\"dataframe\">\n",
       "  <thead>\n",
       "    <tr style=\"text-align: right;\">\n",
       "      <th></th>\n",
       "      <th>DYJetsToLL_M-10to50</th>\n",
       "      <th>DYJetsToLL_M-50</th>\n",
       "      <th>ZH_HToBB_ZToLL_M-125</th>\n",
       "      <th>ZH_HToBB_ZToQQ_M-125</th>\n",
       "      <th>ttHto2B_M-125</th>\n",
       "      <th>VBFHToTauTau_M125</th>\n",
       "      <th>GluGluHToTauTau_M-125</th>\n",
       "    </tr>\n",
       "  </thead>\n",
       "  <tbody>\n",
       "    <tr>\n",
       "      <th>initial</th>\n",
       "      <td>654524.197717</td>\n",
       "      <td>301299.553562</td>\n",
       "      <td>15.371238</td>\n",
       "      <td>14.371148</td>\n",
       "      <td>11.154468</td>\n",
       "      <td>50.013422</td>\n",
       "      <td>50.001625</td>\n",
       "    </tr>\n",
       "    <tr>\n",
       "      <th>ElectronSelection</th>\n",
       "      <td>650696.532290</td>\n",
       "      <td>224858.019301</td>\n",
       "      <td>9.210456</td>\n",
       "      <td>12.560912</td>\n",
       "      <td>6.603423</td>\n",
       "      <td>37.235664</td>\n",
       "      <td>41.734346</td>\n",
       "    </tr>\n",
       "    <tr>\n",
       "      <th>MuonSelection</th>\n",
       "      <td>639352.924256</td>\n",
       "      <td>153830.195473</td>\n",
       "      <td>4.541458</td>\n",
       "      <td>11.844534</td>\n",
       "      <td>4.570729</td>\n",
       "      <td>31.395003</td>\n",
       "      <td>36.724218</td>\n",
       "    </tr>\n",
       "    <tr>\n",
       "      <th>TauSelection</th>\n",
       "      <td>8.077520</td>\n",
       "      <td>237.616485</td>\n",
       "      <td>0.082104</td>\n",
       "      <td>0.032160</td>\n",
       "      <td>0.071938</td>\n",
       "      <td>1.521717</td>\n",
       "      <td>0.895905</td>\n",
       "    </tr>\n",
       "  </tbody>\n",
       "</table>\n",
       "</div>"
      ],
      "text/plain": [
       "                   DYJetsToLL_M-10to50  DYJetsToLL_M-50  ZH_HToBB_ZToLL_M-125  \\\n",
       "initial                  654524.197717    301299.553562             15.371238   \n",
       "ElectronSelection        650696.532290    224858.019301              9.210456   \n",
       "MuonSelection            639352.924256    153830.195473              4.541458   \n",
       "TauSelection                  8.077520       237.616485              0.082104   \n",
       "\n",
       "                   ZH_HToBB_ZToQQ_M-125  ttHto2B_M-125  VBFHToTauTau_M125  \\\n",
       "initial                       14.371148      11.154468          50.013422   \n",
       "ElectronSelection             12.560912       6.603423          37.235664   \n",
       "MuonSelection                 11.844534       4.570729          31.395003   \n",
       "TauSelection                   0.032160       0.071938           1.521717   \n",
       "\n",
       "                   GluGluHToTauTau_M-125  \n",
       "initial                        50.001625  \n",
       "ElectronSelection              41.734346  \n",
       "MuonSelection                  36.724218  \n",
       "TauSelection                    0.895905  "
      ]
     },
     "execution_count": 15,
     "metadata": {},
     "output_type": "execute_result"
    }
   ],
   "source": [
    "wgt_df"
   ]
  },
  {
   "cell_type": "code",
   "execution_count": 18,
   "id": "d47b1039",
   "metadata": {},
   "outputs": [],
   "source": [
    "eff_df = vis.efficiency(wgt_df, overall=False, append=False, save=False)"
   ]
  },
  {
   "cell_type": "code",
   "execution_count": 19,
   "id": "0bddf0e8",
   "metadata": {},
   "outputs": [
    {
     "data": {
      "text/html": [
       "<div>\n",
       "<style scoped>\n",
       "    .dataframe tbody tr th:only-of-type {\n",
       "        vertical-align: middle;\n",
       "    }\n",
       "\n",
       "    .dataframe tbody tr th {\n",
       "        vertical-align: top;\n",
       "    }\n",
       "\n",
       "    .dataframe thead th {\n",
       "        text-align: right;\n",
       "    }\n",
       "</style>\n",
       "<table border=\"1\" class=\"dataframe\">\n",
       "  <thead>\n",
       "    <tr style=\"text-align: right;\">\n",
       "      <th></th>\n",
       "      <th>DYJetsToLL_M-10to50_eff</th>\n",
       "      <th>DYJetsToLL_M-50_eff</th>\n",
       "      <th>ZH_HToBB_ZToLL_M-125_eff</th>\n",
       "      <th>ZH_HToBB_ZToQQ_M-125_eff</th>\n",
       "      <th>ttHto2B_M-125_eff</th>\n",
       "      <th>VBFHToTauTau_M125_eff</th>\n",
       "      <th>GluGluHToTauTau_M-125_eff</th>\n",
       "    </tr>\n",
       "  </thead>\n",
       "  <tbody>\n",
       "    <tr>\n",
       "      <th>initial</th>\n",
       "      <td>100.000000</td>\n",
       "      <td>100.000000</td>\n",
       "      <td>100.000000</td>\n",
       "      <td>100.000000</td>\n",
       "      <td>100.000000</td>\n",
       "      <td>100.000000</td>\n",
       "      <td>100.000000</td>\n",
       "    </tr>\n",
       "    <tr>\n",
       "      <th>ElectronSelection</th>\n",
       "      <td>99.415199</td>\n",
       "      <td>74.629390</td>\n",
       "      <td>59.920066</td>\n",
       "      <td>87.403678</td>\n",
       "      <td>59.199798</td>\n",
       "      <td>74.451342</td>\n",
       "      <td>83.465979</td>\n",
       "    </tr>\n",
       "    <tr>\n",
       "      <th>MuonSelection</th>\n",
       "      <td>98.256698</td>\n",
       "      <td>68.412146</td>\n",
       "      <td>49.307629</td>\n",
       "      <td>94.296768</td>\n",
       "      <td>69.217568</td>\n",
       "      <td>84.314335</td>\n",
       "      <td>87.995191</td>\n",
       "    </tr>\n",
       "    <tr>\n",
       "      <th>TauSelection</th>\n",
       "      <td>0.001263</td>\n",
       "      <td>0.154467</td>\n",
       "      <td>1.807878</td>\n",
       "      <td>0.271521</td>\n",
       "      <td>1.573880</td>\n",
       "      <td>4.847004</td>\n",
       "      <td>2.439549</td>\n",
       "    </tr>\n",
       "  </tbody>\n",
       "</table>\n",
       "</div>"
      ],
      "text/plain": [
       "                   DYJetsToLL_M-10to50_eff  DYJetsToLL_M-50_eff  \\\n",
       "initial                         100.000000           100.000000   \n",
       "ElectronSelection                99.415199            74.629390   \n",
       "MuonSelection                    98.256698            68.412146   \n",
       "TauSelection                      0.001263             0.154467   \n",
       "\n",
       "                   ZH_HToBB_ZToLL_M-125_eff  ZH_HToBB_ZToQQ_M-125_eff  \\\n",
       "initial                          100.000000                100.000000   \n",
       "ElectronSelection                 59.920066                 87.403678   \n",
       "MuonSelection                     49.307629                 94.296768   \n",
       "TauSelection                       1.807878                  0.271521   \n",
       "\n",
       "                   ttHto2B_M-125_eff  VBFHToTauTau_M125_eff  \\\n",
       "initial                   100.000000             100.000000   \n",
       "ElectronSelection          59.199798              74.451342   \n",
       "MuonSelection              69.217568              84.314335   \n",
       "TauSelection                1.573880               4.847004   \n",
       "\n",
       "                   GluGluHToTauTau_M-125_eff  \n",
       "initial                           100.000000  \n",
       "ElectronSelection                  83.465979  \n",
       "MuonSelection                      87.995191  \n",
       "TauSelection                        2.439549  "
      ]
     },
     "execution_count": 19,
     "metadata": {},
     "output_type": "execute_result"
    }
   ],
   "source": [
    "eff_df"
   ]
  },
  {
   "cell_type": "code",
   "execution_count": 5,
   "id": "4e85785a",
   "metadata": {},
   "outputs": [],
   "source": [
    "vis.grepweights(output=True)"
   ]
  },
  {
   "cell_type": "code",
   "execution_count": 6,
   "id": "c2243b07",
   "metadata": {},
   "outputs": [
    {
     "data": {
      "text/plain": [
       "'/uscms/home/joyzhou/nobackup/output'"
      ]
     },
     "execution_count": 6,
     "metadata": {},
     "output_type": "execute_result"
    }
   ],
   "source": [
    "vis.indir"
   ]
  },
  {
   "cell_type": "code",
   "execution_count": 8,
   "id": "1d5fc039",
   "metadata": {},
   "outputs": [
    {
     "data": {
      "text/html": [
       "<div>\n",
       "<style scoped>\n",
       "    .dataframe tbody tr th:only-of-type {\n",
       "        vertical-align: middle;\n",
       "    }\n",
       "\n",
       "    .dataframe tbody tr th {\n",
       "        vertical-align: top;\n",
       "    }\n",
       "\n",
       "    .dataframe thead th {\n",
       "        text-align: right;\n",
       "    }\n",
       "</style>\n",
       "<table border=\"1\" class=\"dataframe\">\n",
       "  <thead>\n",
       "    <tr style=\"text-align: right;\">\n",
       "      <th></th>\n",
       "      <th>DYJetsToLL_M-10to50</th>\n",
       "    </tr>\n",
       "  </thead>\n",
       "  <tbody>\n",
       "    <tr>\n",
       "      <th>initial</th>\n",
       "      <td>22445405</td>\n",
       "    </tr>\n",
       "    <tr>\n",
       "      <th>ElectronSelection</th>\n",
       "      <td>22314144</td>\n",
       "    </tr>\n",
       "    <tr>\n",
       "      <th>MuonSelection</th>\n",
       "      <td>21925141</td>\n",
       "    </tr>\n",
       "    <tr>\n",
       "      <th>TauSelection</th>\n",
       "      <td>277</td>\n",
       "    </tr>\n",
       "  </tbody>\n",
       "</table>\n",
       "</div>"
      ],
      "text/plain": [
       "                   DYJetsToLL_M-10to50\n",
       "initial                       22445405\n",
       "ElectronSelection             22314144\n",
       "MuonSelection                 21925141\n",
       "TauSelection                       277"
      ]
     },
     "execution_count": 8,
     "metadata": {},
     "output_type": "execute_result"
    }
   ],
   "source": [
    "# test combine_cf()\n",
    "dirname = pjoin(vis.indir, 'DYJets')\n",
    "raw_cutflow = vis.combine_cf(dirname, 'DYJetsToLL_M-10to50', output=True)\n",
    "raw_cutflow"
   ]
  },
  {
   "cell_type": "code",
   "execution_count": 7,
   "id": "b47908d3",
   "metadata": {},
   "outputs": [],
   "source": [
    "# test compute_allcf()\n",
    "raw_df, wgt_df = vis.compute_allcf()"
   ]
  },
  {
   "cell_type": "code",
   "execution_count": 8,
   "id": "e8350f13",
   "metadata": {},
   "outputs": [
    {
     "data": {
      "text/html": [
       "<div>\n",
       "<style scoped>\n",
       "    .dataframe tbody tr th:only-of-type {\n",
       "        vertical-align: middle;\n",
       "    }\n",
       "\n",
       "    .dataframe tbody tr th {\n",
       "        vertical-align: top;\n",
       "    }\n",
       "\n",
       "    .dataframe thead th {\n",
       "        text-align: right;\n",
       "    }\n",
       "</style>\n",
       "<table border=\"1\" class=\"dataframe\">\n",
       "  <thead>\n",
       "    <tr style=\"text-align: right;\">\n",
       "      <th></th>\n",
       "      <th>DYJetsToLL_M-10to50</th>\n",
       "      <th>DYJetsToLL_M-50</th>\n",
       "      <th>ZH_HToBB_ZToLL_M-125</th>\n",
       "      <th>ZH_HToBB_ZToQQ_M-125</th>\n",
       "      <th>ttHto2B_M-125</th>\n",
       "      <th>VBFHToTauTau_M125</th>\n",
       "      <th>GluGluHToTauTau_M-125</th>\n",
       "    </tr>\n",
       "  </thead>\n",
       "  <tbody>\n",
       "    <tr>\n",
       "      <th>initial</th>\n",
       "      <td>22445405</td>\n",
       "      <td>92312235</td>\n",
       "      <td>2062940</td>\n",
       "      <td>4092774</td>\n",
       "      <td>4107465</td>\n",
       "      <td>298000</td>\n",
       "      <td>291000</td>\n",
       "    </tr>\n",
       "    <tr>\n",
       "      <th>ElectronSelection</th>\n",
       "      <td>22314144</td>\n",
       "      <td>68892058</td>\n",
       "      <td>1236115</td>\n",
       "      <td>3577235</td>\n",
       "      <td>2431611</td>\n",
       "      <td>221865</td>\n",
       "      <td>242886</td>\n",
       "    </tr>\n",
       "    <tr>\n",
       "      <th>MuonSelection</th>\n",
       "      <td>21925141</td>\n",
       "      <td>47130535</td>\n",
       "      <td>609499</td>\n",
       "      <td>3373217</td>\n",
       "      <td>1683102</td>\n",
       "      <td>187064</td>\n",
       "      <td>213728</td>\n",
       "    </tr>\n",
       "    <tr>\n",
       "      <th>TauSelection</th>\n",
       "      <td>277</td>\n",
       "      <td>72801</td>\n",
       "      <td>11019</td>\n",
       "      <td>9159</td>\n",
       "      <td>26490</td>\n",
       "      <td>9067</td>\n",
       "      <td>5214</td>\n",
       "    </tr>\n",
       "  </tbody>\n",
       "</table>\n",
       "</div>"
      ],
      "text/plain": [
       "                   DYJetsToLL_M-10to50  DYJetsToLL_M-50  ZH_HToBB_ZToLL_M-125  \\\n",
       "initial                       22445405         92312235               2062940   \n",
       "ElectronSelection             22314144         68892058               1236115   \n",
       "MuonSelection                 21925141         47130535                609499   \n",
       "TauSelection                       277            72801                 11019   \n",
       "\n",
       "                   ZH_HToBB_ZToQQ_M-125  ttHto2B_M-125  VBFHToTauTau_M125  \\\n",
       "initial                         4092774        4107465             298000   \n",
       "ElectronSelection               3577235        2431611             221865   \n",
       "MuonSelection                   3373217        1683102             187064   \n",
       "TauSelection                       9159          26490               9067   \n",
       "\n",
       "                   GluGluHToTauTau_M-125  \n",
       "initial                           291000  \n",
       "ElectronSelection                 242886  \n",
       "MuonSelection                     213728  \n",
       "TauSelection                        5214  "
      ]
     },
     "execution_count": 8,
     "metadata": {},
     "output_type": "execute_result"
    }
   ],
   "source": []
  },
  {
   "cell_type": "code",
   "execution_count": null,
   "id": "28f40c75",
   "metadata": {},
   "outputs": [],
   "source": []
  },
  {
   "cell_type": "code",
   "execution_count": 21,
   "id": "e3a5e98e",
   "metadata": {},
   "outputs": [
    {
     "name": "stdout",
     "output_type": "stream",
     "text": [
      "Deleted /uscms/home/joyzhou/nobackup/output/DYJets/DYJetsToLL_M-50_tauhtauh_101-part0.root\n",
      "Deleted /uscms/home/joyzhou/nobackup/output/DYJets/DYJetsToLL_M-50_tauhtauh_101-part1.root\n"
     ]
    }
   ],
   "source": [
    "df = load_roots('/uscms/home/joyzhou/nobackup/output/DYJets', 'DYJetsToLL_M-50_*.root', ['Electron_pt'], 'tree', clean=True)"
   ]
  },
  {
   "cell_type": "code",
   "execution_count": null,
   "id": "11191485",
   "metadata": {},
   "outputs": [],
   "source": []
  }
 ],
 "metadata": {
  "kernelspec": {
   "display_name": "Python 3 (ipykernel)",
   "language": "python",
   "name": "python3"
  },
  "language_info": {
   "codemirror_mode": {
    "name": "ipython",
    "version": 3
   },
   "file_extension": ".py",
   "mimetype": "text/x-python",
   "name": "python",
   "nbconvert_exporter": "python",
   "pygments_lexer": "ipython3",
   "version": "3.9.12"
  }
 },
 "nbformat": 4,
 "nbformat_minor": 5
}
