{
 "cells": [
  {
   "cell_type": "code",
   "execution_count": 10,
   "id": "0103ba1c",
   "metadata": {},
   "outputs": [
    {
     "name": "stdout",
     "output_type": "stream",
     "text": [
      "The autoreload extension is already loaded. To reload it, use:\n",
      "  %reload_ext autoreload\n"
     ]
    }
   ],
   "source": [
    "%load_ext autoreload\n",
    "%autoreload 2"
   ]
  },
  {
   "cell_type": "code",
   "execution_count": 2,
   "id": "6e49a252",
   "metadata": {},
   "outputs": [],
   "source": [
    "from analysis.plotutility import *\n",
    "from config.selectionconfig import plotsetting as pltcfg"
   ]
  },
  {
   "cell_type": "code",
   "execution_count": 3,
   "id": "b67f1237",
   "metadata": {},
   "outputs": [],
   "source": [
    "import os"
   ]
  },
  {
   "cell_type": "code",
   "execution_count": 4,
   "id": "f845b39e",
   "metadata": {},
   "outputs": [],
   "source": [
    "srcdir = '/uscms/home/joyzhou/nobackup/output'"
   ]
  },
  {
   "cell_type": "code",
   "execution_count": 11,
   "id": "c5ce358c",
   "metadata": {},
   "outputs": [],
   "source": [
    "vis = Visualizer(pltcfg)"
   ]
  },
  {
   "cell_type": "code",
   "execution_count": 12,
   "id": "e93147f9",
   "metadata": {},
   "outputs": [],
   "source": [
    "combined = vis.sort_cf(srcdir, ['ggF', 'DYJets'])"
   ]
  },
  {
   "cell_type": "code",
   "execution_count": 13,
   "id": "ac8ace14",
   "metadata": {},
   "outputs": [
    {
     "data": {
      "text/html": [
       "<div>\n",
       "<style scoped>\n",
       "    .dataframe tbody tr th:only-of-type {\n",
       "        vertical-align: middle;\n",
       "    }\n",
       "\n",
       "    .dataframe tbody tr th {\n",
       "        vertical-align: top;\n",
       "    }\n",
       "\n",
       "    .dataframe thead th {\n",
       "        text-align: right;\n",
       "    }\n",
       "</style>\n",
       "<table border=\"1\" class=\"dataframe\">\n",
       "  <thead>\n",
       "    <tr style=\"text-align: right;\">\n",
       "      <th></th>\n",
       "      <th></th>\n",
       "      <th>taumtauh</th>\n",
       "      <th>tauetauh</th>\n",
       "      <th>tauhtauh</th>\n",
       "      <th>taumtauh_eff</th>\n",
       "      <th>tauetauh_eff</th>\n",
       "      <th>tauhtauh_eff</th>\n",
       "    </tr>\n",
       "    <tr>\n",
       "      <th>Process</th>\n",
       "      <th>Selection</th>\n",
       "      <th></th>\n",
       "      <th></th>\n",
       "      <th></th>\n",
       "      <th></th>\n",
       "      <th></th>\n",
       "      <th></th>\n",
       "    </tr>\n",
       "  </thead>\n",
       "  <tbody>\n",
       "    <tr>\n",
       "      <th rowspan=\"4\" valign=\"top\">ggF</th>\n",
       "      <th>initial</th>\n",
       "      <td>33048</td>\n",
       "      <td>31224</td>\n",
       "      <td>28038</td>\n",
       "      <td>1.000000</td>\n",
       "      <td>1.000000</td>\n",
       "      <td>1.000000</td>\n",
       "    </tr>\n",
       "    <tr>\n",
       "      <th>ElectronSelection</th>\n",
       "      <td>21732</td>\n",
       "      <td>6277</td>\n",
       "      <td>19908</td>\n",
       "      <td>0.657589</td>\n",
       "      <td>0.201031</td>\n",
       "      <td>0.710036</td>\n",
       "    </tr>\n",
       "    <tr>\n",
       "      <th>MuonSelection</th>\n",
       "      <td>3247</td>\n",
       "      <td>5160</td>\n",
       "      <td>16378</td>\n",
       "      <td>0.149411</td>\n",
       "      <td>0.822049</td>\n",
       "      <td>0.822684</td>\n",
       "    </tr>\n",
       "    <tr>\n",
       "      <th>TauSelection</th>\n",
       "      <td>1824</td>\n",
       "      <td>3186</td>\n",
       "      <td>1684</td>\n",
       "      <td>0.561749</td>\n",
       "      <td>0.617442</td>\n",
       "      <td>0.102821</td>\n",
       "    </tr>\n",
       "    <tr>\n",
       "      <th rowspan=\"4\" valign=\"top\">DYJets</th>\n",
       "      <th>initial</th>\n",
       "      <td>10709900</td>\n",
       "      <td>10198134</td>\n",
       "      <td>9509443</td>\n",
       "      <td>1.000000</td>\n",
       "      <td>1.000000</td>\n",
       "      <td>1.000000</td>\n",
       "    </tr>\n",
       "    <tr>\n",
       "      <th>ElectronSelection</th>\n",
       "      <td>7991827</td>\n",
       "      <td>954300</td>\n",
       "      <td>7480061</td>\n",
       "      <td>0.746209</td>\n",
       "      <td>0.093576</td>\n",
       "      <td>0.786593</td>\n",
       "    </tr>\n",
       "    <tr>\n",
       "      <th>MuonSelection</th>\n",
       "      <td>1138291</td>\n",
       "      <td>933203</td>\n",
       "      <td>5465067</td>\n",
       "      <td>0.142432</td>\n",
       "      <td>0.977893</td>\n",
       "      <td>0.730618</td>\n",
       "    </tr>\n",
       "    <tr>\n",
       "      <th>TauSelection</th>\n",
       "      <td>511766</td>\n",
       "      <td>688691</td>\n",
       "      <td>5790</td>\n",
       "      <td>0.449592</td>\n",
       "      <td>0.737986</td>\n",
       "      <td>0.001059</td>\n",
       "    </tr>\n",
       "  </tbody>\n",
       "</table>\n",
       "</div>"
      ],
      "text/plain": [
       "                           taumtauh  tauetauh  tauhtauh  taumtauh_eff  \\\n",
       "Process Selection                                                       \n",
       "ggF     initial               33048     31224     28038      1.000000   \n",
       "        ElectronSelection     21732      6277     19908      0.657589   \n",
       "        MuonSelection          3247      5160     16378      0.149411   \n",
       "        TauSelection           1824      3186      1684      0.561749   \n",
       "DYJets  initial            10709900  10198134   9509443      1.000000   \n",
       "        ElectronSelection   7991827    954300   7480061      0.746209   \n",
       "        MuonSelection       1138291    933203   5465067      0.142432   \n",
       "        TauSelection         511766    688691      5790      0.449592   \n",
       "\n",
       "                           tauetauh_eff  tauhtauh_eff  \n",
       "Process Selection                                      \n",
       "ggF     initial                1.000000      1.000000  \n",
       "        ElectronSelection      0.201031      0.710036  \n",
       "        MuonSelection          0.822049      0.822684  \n",
       "        TauSelection           0.617442      0.102821  \n",
       "DYJets  initial                1.000000      1.000000  \n",
       "        ElectronSelection      0.093576      0.786593  \n",
       "        MuonSelection          0.977893      0.730618  \n",
       "        TauSelection           0.737986      0.001059  "
      ]
     },
     "execution_count": 13,
     "metadata": {},
     "output_type": "execute_result"
    }
   ],
   "source": [
    "combined"
   ]
  },
  {
   "cell_type": "code",
   "execution_count": null,
   "id": "f5932ce1",
   "metadata": {},
   "outputs": [],
   "source": []
  }
 ],
 "metadata": {
  "kernelspec": {
   "display_name": "Python 3 (ipykernel)",
   "language": "python",
   "name": "python3"
  },
  "language_info": {
   "codemirror_mode": {
    "name": "ipython",
    "version": 3
   },
   "file_extension": ".py",
   "mimetype": "text/x-python",
   "name": "python",
   "nbconvert_exporter": "python",
   "pygments_lexer": "ipython3",
   "version": "3.9.12"
  }
 },
 "nbformat": 4,
 "nbformat_minor": 5
}
