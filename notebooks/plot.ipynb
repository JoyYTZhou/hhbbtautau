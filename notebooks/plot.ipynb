{
 "cells": [
  {
   "cell_type": "code",
   "execution_count": 1,
   "id": "0103ba1c",
   "metadata": {},
   "outputs": [],
   "source": [
    "%load_ext autoreload\n",
    "%autoreload 2"
   ]
  },
  {
   "cell_type": "code",
   "execution_count": 2,
   "id": "6e49a252",
   "metadata": {},
   "outputs": [],
   "source": [
    "from analysis.plotutility import *\n",
    "from config.selectionconfig import plotsetting as pltcfg"
   ]
  },
  {
   "cell_type": "code",
   "execution_count": 3,
   "id": "b67f1237",
   "metadata": {},
   "outputs": [],
   "source": [
    "import os"
   ]
  },
  {
   "cell_type": "code",
   "execution_count": 4,
   "id": "c5ce358c",
   "metadata": {},
   "outputs": [],
   "source": [
    "vis = Visualizer(pltcfg)"
   ]
  },
  {
   "cell_type": "code",
   "execution_count": 5,
   "id": "4e85785a",
   "metadata": {},
   "outputs": [],
   "source": [
    "vis.grepweights(output=True)"
   ]
  },
  {
   "cell_type": "code",
   "execution_count": 6,
   "id": "c2243b07",
   "metadata": {},
   "outputs": [
    {
     "data": {
      "text/plain": [
       "'/uscms/home/joyzhou/nobackup/output'"
      ]
     },
     "execution_count": 6,
     "metadata": {},
     "output_type": "execute_result"
    }
   ],
   "source": [
    "vis.indir"
   ]
  },
  {
   "cell_type": "code",
   "execution_count": 8,
   "id": "1d5fc039",
   "metadata": {},
   "outputs": [
    {
     "data": {
      "text/html": [
       "<div>\n",
       "<style scoped>\n",
       "    .dataframe tbody tr th:only-of-type {\n",
       "        vertical-align: middle;\n",
       "    }\n",
       "\n",
       "    .dataframe tbody tr th {\n",
       "        vertical-align: top;\n",
       "    }\n",
       "\n",
       "    .dataframe thead th {\n",
       "        text-align: right;\n",
       "    }\n",
       "</style>\n",
       "<table border=\"1\" class=\"dataframe\">\n",
       "  <thead>\n",
       "    <tr style=\"text-align: right;\">\n",
       "      <th></th>\n",
       "      <th>DYJetsToLL_M-10to50</th>\n",
       "    </tr>\n",
       "  </thead>\n",
       "  <tbody>\n",
       "    <tr>\n",
       "      <th>initial</th>\n",
       "      <td>22445405</td>\n",
       "    </tr>\n",
       "    <tr>\n",
       "      <th>ElectronSelection</th>\n",
       "      <td>22314144</td>\n",
       "    </tr>\n",
       "    <tr>\n",
       "      <th>MuonSelection</th>\n",
       "      <td>21925141</td>\n",
       "    </tr>\n",
       "    <tr>\n",
       "      <th>TauSelection</th>\n",
       "      <td>277</td>\n",
       "    </tr>\n",
       "  </tbody>\n",
       "</table>\n",
       "</div>"
      ],
      "text/plain": [
       "                   DYJetsToLL_M-10to50\n",
       "initial                       22445405\n",
       "ElectronSelection             22314144\n",
       "MuonSelection                 21925141\n",
       "TauSelection                       277"
      ]
     },
     "execution_count": 8,
     "metadata": {},
     "output_type": "execute_result"
    }
   ],
   "source": [
    "# test combine_cf()\n",
    "dirname = pjoin(vis.indir, 'DYJets')\n",
    "raw_cutflow = vis.combine_cf(dirname, 'DYJetsToLL_M-10to50', output=True)\n",
    "raw_cutflow"
   ]
  },
  {
   "cell_type": "code",
   "execution_count": 7,
   "id": "b47908d3",
   "metadata": {},
   "outputs": [],
   "source": [
    "# test compute_allcf()\n",
    "raw_df, wgt_df = vis.compute_allcf()"
   ]
  },
  {
   "cell_type": "code",
   "execution_count": 8,
   "id": "e8350f13",
   "metadata": {},
   "outputs": [
    {
     "data": {
      "text/html": [
       "<div>\n",
       "<style scoped>\n",
       "    .dataframe tbody tr th:only-of-type {\n",
       "        vertical-align: middle;\n",
       "    }\n",
       "\n",
       "    .dataframe tbody tr th {\n",
       "        vertical-align: top;\n",
       "    }\n",
       "\n",
       "    .dataframe thead th {\n",
       "        text-align: right;\n",
       "    }\n",
       "</style>\n",
       "<table border=\"1\" class=\"dataframe\">\n",
       "  <thead>\n",
       "    <tr style=\"text-align: right;\">\n",
       "      <th></th>\n",
       "      <th>DYJetsToLL_M-10to50</th>\n",
       "      <th>DYJetsToLL_M-50</th>\n",
       "      <th>ZH_HToBB_ZToLL_M-125</th>\n",
       "      <th>ZH_HToBB_ZToQQ_M-125</th>\n",
       "      <th>ttHto2B_M-125</th>\n",
       "      <th>VBFHToTauTau_M125</th>\n",
       "      <th>GluGluHToTauTau_M-125</th>\n",
       "    </tr>\n",
       "  </thead>\n",
       "  <tbody>\n",
       "    <tr>\n",
       "      <th>initial</th>\n",
       "      <td>22445405</td>\n",
       "      <td>92312235</td>\n",
       "      <td>2062940</td>\n",
       "      <td>4092774</td>\n",
       "      <td>4107465</td>\n",
       "      <td>298000</td>\n",
       "      <td>291000</td>\n",
       "    </tr>\n",
       "    <tr>\n",
       "      <th>ElectronSelection</th>\n",
       "      <td>22314144</td>\n",
       "      <td>68892058</td>\n",
       "      <td>1236115</td>\n",
       "      <td>3577235</td>\n",
       "      <td>2431611</td>\n",
       "      <td>221865</td>\n",
       "      <td>242886</td>\n",
       "    </tr>\n",
       "    <tr>\n",
       "      <th>MuonSelection</th>\n",
       "      <td>21925141</td>\n",
       "      <td>47130535</td>\n",
       "      <td>609499</td>\n",
       "      <td>3373217</td>\n",
       "      <td>1683102</td>\n",
       "      <td>187064</td>\n",
       "      <td>213728</td>\n",
       "    </tr>\n",
       "    <tr>\n",
       "      <th>TauSelection</th>\n",
       "      <td>277</td>\n",
       "      <td>72801</td>\n",
       "      <td>11019</td>\n",
       "      <td>9159</td>\n",
       "      <td>26490</td>\n",
       "      <td>9067</td>\n",
       "      <td>5214</td>\n",
       "    </tr>\n",
       "  </tbody>\n",
       "</table>\n",
       "</div>"
      ],
      "text/plain": [
       "                   DYJetsToLL_M-10to50  DYJetsToLL_M-50  ZH_HToBB_ZToLL_M-125  \\\n",
       "initial                       22445405         92312235               2062940   \n",
       "ElectronSelection             22314144         68892058               1236115   \n",
       "MuonSelection                 21925141         47130535                609499   \n",
       "TauSelection                       277            72801                 11019   \n",
       "\n",
       "                   ZH_HToBB_ZToQQ_M-125  ttHto2B_M-125  VBFHToTauTau_M125  \\\n",
       "initial                         4092774        4107465             298000   \n",
       "ElectronSelection               3577235        2431611             221865   \n",
       "MuonSelection                   3373217        1683102             187064   \n",
       "TauSelection                       9159          26490               9067   \n",
       "\n",
       "                   GluGluHToTauTau_M-125  \n",
       "initial                           291000  \n",
       "ElectronSelection                 242886  \n",
       "MuonSelection                     213728  \n",
       "TauSelection                        5214  "
      ]
     },
     "execution_count": 8,
     "metadata": {},
     "output_type": "execute_result"
    }
   ],
   "source": [
    "raw_df"
   ]
  },
  {
   "cell_type": "code",
   "execution_count": null,
   "id": "28f40c75",
   "metadata": {},
   "outputs": [],
   "source": []
  },
  {
   "cell_type": "code",
   "execution_count": 21,
   "id": "e3a5e98e",
   "metadata": {},
   "outputs": [
    {
     "name": "stdout",
     "output_type": "stream",
     "text": [
      "Deleted /uscms/home/joyzhou/nobackup/output/DYJets/DYJetsToLL_M-50_tauhtauh_101-part0.root\n",
      "Deleted /uscms/home/joyzhou/nobackup/output/DYJets/DYJetsToLL_M-50_tauhtauh_101-part1.root\n"
     ]
    }
   ],
   "source": [
    "df = load_roots('/uscms/home/joyzhou/nobackup/output/DYJets', 'DYJetsToLL_M-50_*.root', ['Electron_pt'], 'tree', clean=True)"
   ]
  },
  {
   "cell_type": "code",
   "execution_count": null,
   "id": "11191485",
   "metadata": {},
   "outputs": [],
   "source": []
  }
 ],
 "metadata": {
  "kernelspec": {
   "display_name": "Python 3 (ipykernel)",
   "language": "python",
   "name": "python3"
  },
  "language_info": {
   "codemirror_mode": {
    "name": "ipython",
    "version": 3
   },
   "file_extension": ".py",
   "mimetype": "text/x-python",
   "name": "python",
   "nbconvert_exporter": "python",
   "pygments_lexer": "ipython3",
   "version": "3.9.12"
  }
 },
 "nbformat": 4,
 "nbformat_minor": 5
}
