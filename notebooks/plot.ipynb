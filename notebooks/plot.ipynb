{
 "cells": [
  {
   "cell_type": "code",
   "execution_count": 1,
   "id": "0103ba1c",
   "metadata": {},
   "outputs": [],
   "source": [
    "%load_ext autoreload\n",
    "%autoreload 2"
   ]
  },
  {
   "cell_type": "code",
   "execution_count": 2,
   "id": "6e49a252",
   "metadata": {},
   "outputs": [],
   "source": [
    "from analysis.plotutility import *\n",
    "from config.selectionconfig import plotsetting as pltcfg"
   ]
  },
  {
   "cell_type": "code",
   "execution_count": 3,
   "id": "b67f1237",
   "metadata": {},
   "outputs": [],
   "source": [
    "import os\n",
    "import awkward_pandas as akpd"
   ]
  },
  {
   "cell_type": "code",
   "execution_count": 4,
   "id": "aad09ef7",
   "metadata": {},
   "outputs": [],
   "source": [
    "import pandas as pd"
   ]
  },
  {
   "cell_type": "code",
   "execution_count": 5,
   "id": "275c90f1",
   "metadata": {},
   "outputs": [],
   "source": [
    "import awkward as ak"
   ]
  },
  {
   "cell_type": "code",
   "execution_count": 6,
   "id": "c5ce358c",
   "metadata": {},
   "outputs": [],
   "source": [
    "vis = Visualizer(pltcfg)"
   ]
  },
  {
   "cell_type": "markdown",
   "id": "0fd4e541",
   "metadata": {},
   "source": [
    "## Load signal process and inspect"
   ]
  },
  {
   "cell_type": "code",
   "execution_count": 36,
   "id": "a21c6149",
   "metadata": {},
   "outputs": [],
   "source": [
    "# Load one signal output\n",
    "fi = '/uscms/home/joyzhou/nobackup/output/ggF/GluGlutoHHto2B2Tau_kl-1p00_kt-1p00_c2-0p00_249-part0.root'"
   ]
  },
  {
   "cell_type": "code",
   "execution_count": 48,
   "id": "5589b945",
   "metadata": {},
   "outputs": [],
   "source": [
    "branch_names = find_branches(fi, ['Tau', 'Jet', 'FatJet'], 'tree')"
   ]
  },
  {
   "cell_type": "code",
   "execution_count": 49,
   "id": "9e8bb906",
   "metadata": {},
   "outputs": [],
   "source": [
    "extra_names = ['Generator_weight', 'nLHEReweightingWeight', 'LHEReweightingWeight']"
   ]
  },
  {
   "cell_type": "code",
   "execution_count": 50,
   "id": "481afdd7",
   "metadata": {},
   "outputs": [],
   "source": [
    "branch_names.extend(extra_names)"
   ]
  },
  {
   "cell_type": "code",
   "execution_count": 51,
   "id": "4469770e",
   "metadata": {},
   "outputs": [
    {
     "data": {
      "text/plain": [
       "['Tau_decayMode',\n",
       " 'Tau_idAntiEleDeadECal',\n",
       " 'Tau_idAntiMu',\n",
       " 'Tau_idDecayModeNewDMs',\n",
       " 'Tau_idDecayModeOldDMs',\n",
       " 'Tau_idDeepTau2017v2p1VSe',\n",
       " 'Tau_idDeepTau2017v2p1VSjet',\n",
       " 'Tau_idDeepTau2017v2p1VSmu',\n",
       " 'Tau_idDeepTau2018v2p5VSe',\n",
       " 'Tau_idDeepTau2018v2p5VSjet',\n",
       " 'Tau_idDeepTau2018v2p5VSmu',\n",
       " 'Tau_nSVs',\n",
       " 'Tau_charge',\n",
       " 'Tau_decayModePNet',\n",
       " 'Tau_eleIdx',\n",
       " 'Tau_jetIdx',\n",
       " 'Tau_muIdx',\n",
       " 'Tau_svIdx1',\n",
       " 'Tau_svIdx2',\n",
       " 'Tau_chargedIso',\n",
       " 'Tau_dxy',\n",
       " 'Tau_dz',\n",
       " 'Tau_eta',\n",
       " 'Tau_leadTkDeltaEta',\n",
       " 'Tau_leadTkDeltaPhi',\n",
       " 'Tau_leadTkPtOverTauPt',\n",
       " 'Tau_mass',\n",
       " 'Tau_neutralIso',\n",
       " 'Tau_phi',\n",
       " 'Tau_photonsOutsideSignalCone',\n",
       " 'Tau_probDM0PNet',\n",
       " 'Tau_probDM10PNet',\n",
       " 'Tau_probDM11PNet',\n",
       " 'Tau_probDM1PNet',\n",
       " 'Tau_probDM2PNet',\n",
       " 'Tau_pt',\n",
       " 'Tau_ptCorrPNet',\n",
       " 'Tau_puCorr',\n",
       " 'Tau_qConfPNet',\n",
       " 'Tau_rawDeepTau2017v2p1VSe',\n",
       " 'Tau_rawDeepTau2017v2p1VSjet',\n",
       " 'Tau_rawDeepTau2017v2p1VSmu',\n",
       " 'Tau_rawDeepTau2018v2p5VSe',\n",
       " 'Tau_rawDeepTau2018v2p5VSjet',\n",
       " 'Tau_rawDeepTau2018v2p5VSmu',\n",
       " 'Tau_rawIso',\n",
       " 'Tau_rawIsodR03',\n",
       " 'Tau_rawPNetVSe',\n",
       " 'Tau_rawPNetVSjet',\n",
       " 'Tau_rawPNetVSmu',\n",
       " 'Tau_genPartFlav',\n",
       " 'Tau_genPartIdx',\n",
       " 'Jet_jetId',\n",
       " 'Jet_nConstituents',\n",
       " 'Jet_nElectrons',\n",
       " 'Jet_nMuons',\n",
       " 'Jet_nSVs',\n",
       " 'Jet_electronIdx1',\n",
       " 'Jet_electronIdx2',\n",
       " 'Jet_muonIdx1',\n",
       " 'Jet_muonIdx2',\n",
       " 'Jet_svIdx1',\n",
       " 'Jet_svIdx2',\n",
       " 'Jet_hfadjacentEtaStripsSize',\n",
       " 'Jet_hfcentralEtaStripSize',\n",
       " 'Jet_PNetRegPtRawCorr',\n",
       " 'Jet_PNetRegPtRawCorrNeutrino',\n",
       " 'Jet_PNetRegPtRawRes',\n",
       " 'Jet_area',\n",
       " 'Jet_btagDeepFlavB',\n",
       " 'Jet_btagDeepFlavCvB',\n",
       " 'Jet_btagDeepFlavCvL',\n",
       " 'Jet_btagDeepFlavQG',\n",
       " 'Jet_btagPNetB',\n",
       " 'Jet_btagPNetCvB',\n",
       " 'Jet_btagPNetCvL',\n",
       " 'Jet_btagPNetQvG',\n",
       " 'Jet_btagPNetTauVJet',\n",
       " 'Jet_btagRobustParTAK4B',\n",
       " 'Jet_btagRobustParTAK4CvB',\n",
       " 'Jet_btagRobustParTAK4CvL',\n",
       " 'Jet_btagRobustParTAK4QG',\n",
       " 'Jet_chEmEF',\n",
       " 'Jet_chHEF',\n",
       " 'Jet_eta',\n",
       " 'Jet_hfsigmaEtaEta',\n",
       " 'Jet_hfsigmaPhiPhi',\n",
       " 'Jet_mass',\n",
       " 'Jet_muEF',\n",
       " 'Jet_muonSubtrFactor',\n",
       " 'Jet_neEmEF',\n",
       " 'Jet_neHEF',\n",
       " 'Jet_phi',\n",
       " 'Jet_pt',\n",
       " 'Jet_rawFactor',\n",
       " 'Jet_hadronFlavour',\n",
       " 'Jet_genJetIdx',\n",
       " 'Jet_partonFlavour',\n",
       " 'FatJet_jetId',\n",
       " 'FatJet_nConstituents',\n",
       " 'FatJet_subJetIdx1',\n",
       " 'FatJet_subJetIdx2',\n",
       " 'FatJet_electronIdx3SJ',\n",
       " 'FatJet_muonIdx3SJ',\n",
       " 'FatJet_area',\n",
       " 'FatJet_btagDDBvLV2',\n",
       " 'FatJet_btagDDCvBV2',\n",
       " 'FatJet_btagDDCvLV2',\n",
       " 'FatJet_btagDeepB',\n",
       " 'FatJet_btagHbb',\n",
       " 'FatJet_eta',\n",
       " 'FatJet_mass',\n",
       " 'FatJet_msoftdrop',\n",
       " 'FatJet_n2b1',\n",
       " 'FatJet_n3b1',\n",
       " 'FatJet_particleNetWithMass_H4qvsQCD',\n",
       " 'FatJet_particleNetWithMass_HbbvsQCD',\n",
       " 'FatJet_particleNetWithMass_HccvsQCD',\n",
       " 'FatJet_particleNetWithMass_QCD',\n",
       " 'FatJet_particleNetWithMass_TvsQCD',\n",
       " 'FatJet_particleNetWithMass_WvsQCD',\n",
       " 'FatJet_particleNetWithMass_ZvsQCD',\n",
       " 'FatJet_particleNet_QCD',\n",
       " 'FatJet_particleNet_QCD0HF',\n",
       " 'FatJet_particleNet_QCD1HF',\n",
       " 'FatJet_particleNet_QCD2HF',\n",
       " 'FatJet_particleNet_XbbVsQCD',\n",
       " 'FatJet_particleNet_XccVsQCD',\n",
       " 'FatJet_particleNet_XggVsQCD',\n",
       " 'FatJet_particleNet_XqqVsQCD',\n",
       " 'FatJet_particleNet_XteVsQCD',\n",
       " 'FatJet_particleNet_XtmVsQCD',\n",
       " 'FatJet_particleNet_XttVsQCD',\n",
       " 'FatJet_particleNet_massCorr',\n",
       " 'FatJet_phi',\n",
       " 'FatJet_pt',\n",
       " 'FatJet_rawFactor',\n",
       " 'FatJet_tau1',\n",
       " 'FatJet_tau2',\n",
       " 'FatJet_tau3',\n",
       " 'FatJet_tau4',\n",
       " 'FatJet_lsf3',\n",
       " 'FatJet_hadronFlavour',\n",
       " 'FatJet_nBHadrons',\n",
       " 'FatJet_nCHadrons',\n",
       " 'FatJet_genJetAK8Idx',\n",
       " 'Generator_weight',\n",
       " 'nLHEReweightingWeight',\n",
       " 'LHEReweightingWeight']"
      ]
     },
     "execution_count": 51,
     "metadata": {},
     "output_type": "execute_result"
    }
   ],
   "source": [
    "branch_names"
   ]
  },
  {
   "cell_type": "code",
   "execution_count": 52,
   "id": "94a5ddb3",
   "metadata": {},
   "outputs": [],
   "source": [
    "df, empty_list = load_files([fi], branch_names, 'tree')"
   ]
  },
  {
   "cell_type": "code",
   "execution_count": 53,
   "id": "1689bbf1",
   "metadata": {},
   "outputs": [],
   "source": [
    "df.to_parquet('example.parquet')"
   ]
  },
  {
   "cell_type": "code",
   "execution_count": 27,
   "id": "a7c1a20c",
   "metadata": {},
   "outputs": [
    {
     "data": {
      "text/plain": [
       "Index(['Tau_decayMode', 'Tau_idAntiEleDeadECal', 'Tau_idAntiMu',\n",
       "       'Tau_idDecayModeNewDMs', 'Tau_idDecayModeOldDMs',\n",
       "       'Tau_idDeepTau2017v2p1VSe', 'Tau_idDeepTau2017v2p1VSjet',\n",
       "       'Tau_idDeepTau2017v2p1VSmu', 'Tau_idDeepTau2018v2p5VSe',\n",
       "       'Tau_idDeepTau2018v2p5VSjet', 'Tau_idDeepTau2018v2p5VSmu', 'Tau_nSVs',\n",
       "       'Tau_charge', 'Tau_decayModePNet', 'Tau_eleIdx', 'Tau_jetIdx',\n",
       "       'Tau_muIdx', 'Tau_svIdx1', 'Tau_svIdx2', 'Tau_chargedIso', 'Tau_dxy',\n",
       "       'Tau_dz', 'Tau_eta', 'Tau_leadTkDeltaEta', 'Tau_leadTkDeltaPhi',\n",
       "       'Tau_leadTkPtOverTauPt', 'Tau_mass', 'Tau_neutralIso', 'Tau_phi',\n",
       "       'Tau_photonsOutsideSignalCone', 'Tau_probDM0PNet', 'Tau_probDM10PNet',\n",
       "       'Tau_probDM11PNet', 'Tau_probDM1PNet', 'Tau_probDM2PNet', 'Tau_pt',\n",
       "       'Tau_ptCorrPNet', 'Tau_puCorr', 'Tau_qConfPNet',\n",
       "       'Tau_rawDeepTau2017v2p1VSe', 'Tau_rawDeepTau2017v2p1VSjet',\n",
       "       'Tau_rawDeepTau2017v2p1VSmu', 'Tau_rawDeepTau2018v2p5VSe',\n",
       "       'Tau_rawDeepTau2018v2p5VSjet', 'Tau_rawDeepTau2018v2p5VSmu',\n",
       "       'Tau_rawIso', 'Tau_rawIsodR03', 'Tau_rawPNetVSe', 'Tau_rawPNetVSjet',\n",
       "       'Tau_rawPNetVSmu', 'Tau_genPartFlav', 'Tau_genPartIdx'],\n",
       "      dtype='object')"
      ]
     },
     "execution_count": 27,
     "metadata": {},
     "output_type": "execute_result"
    }
   ],
   "source": [
    "df.columns"
   ]
  },
  {
   "cell_type": "code",
   "execution_count": 9,
   "id": "2cbf7c6b",
   "metadata": {},
   "outputs": [],
   "source": [
    "vis.getweights(from_raw=True)"
   ]
  },
  {
   "cell_type": "code",
   "execution_count": null,
   "id": "9cfef918",
   "metadata": {},
   "outputs": [],
   "source": []
  },
  {
   "cell_type": "markdown",
   "id": "c2de28ee",
   "metadata": {},
   "source": [
    "## Unpickle a dataframe and inspect"
   ]
  },
  {
   "cell_type": "code",
   "execution_count": 7,
   "id": "cac61b4a",
   "metadata": {},
   "outputs": [],
   "source": [
    "with open(pjoin(vis.outdir, 'WZZ.pkl'), 'rb') as f:\n",
    "    testdf = pickle.load(f)"
   ]
  },
  {
   "cell_type": "code",
   "execution_count": 8,
   "id": "8e9d70cf",
   "metadata": {},
   "outputs": [
    {
     "data": {
      "text/plain": [
       "Index(['Tau_chargedIso', 'Tau_dxy', 'Tau_dz', 'Tau_eta', 'Tau_leadTkDeltaEta',\n",
       "       'Tau_leadTkDeltaPhi', 'Tau_leadTkPtOverTauPt', 'Tau_mass',\n",
       "       'Tau_neutralIso', 'Tau_phi',\n",
       "       ...\n",
       "       'FatJet_muonIdx3SJ', 'FatJet_nConstituents', 'FatJet_genJetAK8Idx',\n",
       "       'FatJet_hadronFlavour', 'FatJet_nBHadrons', 'FatJet_nCHadrons',\n",
       "       'Generator_weight', 'nLHEReweightingWeight', 'LHEReweightingWeight',\n",
       "       'dataset'],\n",
       "      dtype='object', length=140)"
      ]
     },
     "execution_count": 8,
     "metadata": {},
     "output_type": "execute_result"
    }
   ],
   "source": [
    "testdf.columns"
   ]
  },
  {
   "cell_type": "code",
   "execution_count": 19,
   "id": "99d855fb",
   "metadata": {},
   "outputs": [
    {
     "data": {
      "text/plain": [
       "pandas.core.frame.DataFrame"
      ]
     },
     "execution_count": 19,
     "metadata": {},
     "output_type": "execute_result"
    }
   ],
   "source": [
    "type(testdf)"
   ]
  },
  {
   "cell_type": "code",
   "execution_count": 17,
   "id": "68d94c7d",
   "metadata": {},
   "outputs": [],
   "source": [
    "val = isinstance(testdf['Tau_pt'], pd.core.series.Series)"
   ]
  },
  {
   "cell_type": "code",
   "execution_count": 21,
   "id": "5a207834",
   "metadata": {},
   "outputs": [
    {
     "data": {
      "text/plain": [
       "awkward.highlevel.Array"
      ]
     },
     "execution_count": 21,
     "metadata": {},
     "output_type": "execute_result"
    }
   ],
   "source": [
    "type(testdf['Tau_pt'].ak.array)"
   ]
  },
  {
   "cell_type": "code",
   "execution_count": null,
   "id": "f228b65d",
   "metadata": {},
   "outputs": [],
   "source": []
  },
  {
   "cell_type": "code",
   "execution_count": 18,
   "id": "ec8683e3",
   "metadata": {},
   "outputs": [
    {
     "data": {
      "text/plain": [
       "True"
      ]
     },
     "execution_count": 18,
     "metadata": {},
     "output_type": "execute_result"
    }
   ],
   "source": [
    "val"
   ]
  },
  {
   "cell_type": "markdown",
   "id": "b263b519",
   "metadata": {},
   "source": [
    "## If weights and df saved ...."
   ]
  },
  {
   "cell_type": "code",
   "execution_count": 14,
   "id": "bc681993",
   "metadata": {},
   "outputs": [],
   "source": [
    "raw_df, wgt_df = vis.load_allcf()"
   ]
  },
  {
   "cell_type": "code",
   "execution_count": 20,
   "id": "8d97c0a5",
   "metadata": {},
   "outputs": [
    {
     "data": {
      "text/html": [
       "<div>\n",
       "<style scoped>\n",
       "    .dataframe tbody tr th:only-of-type {\n",
       "        vertical-align: middle;\n",
       "    }\n",
       "\n",
       "    .dataframe tbody tr th {\n",
       "        vertical-align: top;\n",
       "    }\n",
       "\n",
       "    .dataframe thead th {\n",
       "        text-align: right;\n",
       "    }\n",
       "</style>\n",
       "<table border=\"1\" class=\"dataframe\">\n",
       "  <thead>\n",
       "    <tr style=\"text-align: right;\">\n",
       "      <th></th>\n",
       "      <th>DYJetsToLL_M-10to50</th>\n",
       "      <th>DYJetsToLL_M-50</th>\n",
       "      <th>ZH_HToBB_ZToLL_M-125</th>\n",
       "      <th>ZH_HToBB_ZToQQ_M-125</th>\n",
       "      <th>ttHto2B_M-125</th>\n",
       "      <th>VBFHToTauTau_M125</th>\n",
       "      <th>GluGluHToTauTau_M-125</th>\n",
       "    </tr>\n",
       "  </thead>\n",
       "  <tbody>\n",
       "    <tr>\n",
       "      <th>initial</th>\n",
       "      <td>22445405</td>\n",
       "      <td>92312235</td>\n",
       "      <td>2062940</td>\n",
       "      <td>4092774</td>\n",
       "      <td>4107465</td>\n",
       "      <td>298000</td>\n",
       "      <td>291000</td>\n",
       "    </tr>\n",
       "    <tr>\n",
       "      <th>ElectronSelection</th>\n",
       "      <td>22314144</td>\n",
       "      <td>68892058</td>\n",
       "      <td>1236115</td>\n",
       "      <td>3577235</td>\n",
       "      <td>2431611</td>\n",
       "      <td>221865</td>\n",
       "      <td>242886</td>\n",
       "    </tr>\n",
       "    <tr>\n",
       "      <th>MuonSelection</th>\n",
       "      <td>21925141</td>\n",
       "      <td>47130535</td>\n",
       "      <td>609499</td>\n",
       "      <td>3373217</td>\n",
       "      <td>1683102</td>\n",
       "      <td>187064</td>\n",
       "      <td>213728</td>\n",
       "    </tr>\n",
       "    <tr>\n",
       "      <th>TauSelection</th>\n",
       "      <td>277</td>\n",
       "      <td>72801</td>\n",
       "      <td>11019</td>\n",
       "      <td>9159</td>\n",
       "      <td>26490</td>\n",
       "      <td>9067</td>\n",
       "      <td>5214</td>\n",
       "    </tr>\n",
       "  </tbody>\n",
       "</table>\n",
       "</div>"
      ],
      "text/plain": [
       "                   DYJetsToLL_M-10to50  DYJetsToLL_M-50  ZH_HToBB_ZToLL_M-125  \\\n",
       "initial                       22445405         92312235               2062940   \n",
       "ElectronSelection             22314144         68892058               1236115   \n",
       "MuonSelection                 21925141         47130535                609499   \n",
       "TauSelection                       277            72801                 11019   \n",
       "\n",
       "                   ZH_HToBB_ZToQQ_M-125  ttHto2B_M-125  VBFHToTauTau_M125  \\\n",
       "initial                         4092774        4107465             298000   \n",
       "ElectronSelection               3577235        2431611             221865   \n",
       "MuonSelection                   3373217        1683102             187064   \n",
       "TauSelection                       9159          26490               9067   \n",
       "\n",
       "                   GluGluHToTauTau_M-125  \n",
       "initial                           291000  \n",
       "ElectronSelection                 242886  \n",
       "MuonSelection                     213728  \n",
       "TauSelection                        5214  "
      ]
     },
     "execution_count": 20,
     "metadata": {},
     "output_type": "execute_result"
    }
   ],
   "source": [
    "raw_df"
   ]
  },
  {
   "cell_type": "code",
   "execution_count": 15,
   "id": "f0940d43",
   "metadata": {},
   "outputs": [
    {
     "data": {
      "text/html": [
       "<div>\n",
       "<style scoped>\n",
       "    .dataframe tbody tr th:only-of-type {\n",
       "        vertical-align: middle;\n",
       "    }\n",
       "\n",
       "    .dataframe tbody tr th {\n",
       "        vertical-align: top;\n",
       "    }\n",
       "\n",
       "    .dataframe thead th {\n",
       "        text-align: right;\n",
       "    }\n",
       "</style>\n",
       "<table border=\"1\" class=\"dataframe\">\n",
       "  <thead>\n",
       "    <tr style=\"text-align: right;\">\n",
       "      <th></th>\n",
       "      <th>DYJetsToLL_M-10to50</th>\n",
       "      <th>DYJetsToLL_M-50</th>\n",
       "      <th>ZH_HToBB_ZToLL_M-125</th>\n",
       "      <th>ZH_HToBB_ZToQQ_M-125</th>\n",
       "      <th>ttHto2B_M-125</th>\n",
       "      <th>VBFHToTauTau_M125</th>\n",
       "      <th>GluGluHToTauTau_M-125</th>\n",
       "    </tr>\n",
       "  </thead>\n",
       "  <tbody>\n",
       "    <tr>\n",
       "      <th>initial</th>\n",
       "      <td>654524.197717</td>\n",
       "      <td>301299.553562</td>\n",
       "      <td>15.371238</td>\n",
       "      <td>14.371148</td>\n",
       "      <td>11.154468</td>\n",
       "      <td>50.013422</td>\n",
       "      <td>50.001625</td>\n",
       "    </tr>\n",
       "    <tr>\n",
       "      <th>ElectronSelection</th>\n",
       "      <td>650696.532290</td>\n",
       "      <td>224858.019301</td>\n",
       "      <td>9.210456</td>\n",
       "      <td>12.560912</td>\n",
       "      <td>6.603423</td>\n",
       "      <td>37.235664</td>\n",
       "      <td>41.734346</td>\n",
       "    </tr>\n",
       "    <tr>\n",
       "      <th>MuonSelection</th>\n",
       "      <td>639352.924256</td>\n",
       "      <td>153830.195473</td>\n",
       "      <td>4.541458</td>\n",
       "      <td>11.844534</td>\n",
       "      <td>4.570729</td>\n",
       "      <td>31.395003</td>\n",
       "      <td>36.724218</td>\n",
       "    </tr>\n",
       "    <tr>\n",
       "      <th>TauSelection</th>\n",
       "      <td>8.077520</td>\n",
       "      <td>237.616485</td>\n",
       "      <td>0.082104</td>\n",
       "      <td>0.032160</td>\n",
       "      <td>0.071938</td>\n",
       "      <td>1.521717</td>\n",
       "      <td>0.895905</td>\n",
       "    </tr>\n",
       "  </tbody>\n",
       "</table>\n",
       "</div>"
      ],
      "text/plain": [
       "                   DYJetsToLL_M-10to50  DYJetsToLL_M-50  ZH_HToBB_ZToLL_M-125  \\\n",
       "initial                  654524.197717    301299.553562             15.371238   \n",
       "ElectronSelection        650696.532290    224858.019301              9.210456   \n",
       "MuonSelection            639352.924256    153830.195473              4.541458   \n",
       "TauSelection                  8.077520       237.616485              0.082104   \n",
       "\n",
       "                   ZH_HToBB_ZToQQ_M-125  ttHto2B_M-125  VBFHToTauTau_M125  \\\n",
       "initial                       14.371148      11.154468          50.013422   \n",
       "ElectronSelection             12.560912       6.603423          37.235664   \n",
       "MuonSelection                 11.844534       4.570729          31.395003   \n",
       "TauSelection                   0.032160       0.071938           1.521717   \n",
       "\n",
       "                   GluGluHToTauTau_M-125  \n",
       "initial                        50.001625  \n",
       "ElectronSelection              41.734346  \n",
       "MuonSelection                  36.724218  \n",
       "TauSelection                    0.895905  "
      ]
     },
     "execution_count": 15,
     "metadata": {},
     "output_type": "execute_result"
    }
   ],
   "source": [
    "wgt_df"
   ]
  },
  {
   "cell_type": "code",
   "execution_count": 18,
   "id": "d47b1039",
   "metadata": {},
   "outputs": [],
   "source": [
    "eff_df = vis.efficiency(wgt_df, overall=False, append=False, save=False)"
   ]
  },
  {
   "cell_type": "code",
   "execution_count": 19,
   "id": "0bddf0e8",
   "metadata": {},
   "outputs": [
    {
     "data": {
      "text/html": [
       "<div>\n",
       "<style scoped>\n",
       "    .dataframe tbody tr th:only-of-type {\n",
       "        vertical-align: middle;\n",
       "    }\n",
       "\n",
       "    .dataframe tbody tr th {\n",
       "        vertical-align: top;\n",
       "    }\n",
       "\n",
       "    .dataframe thead th {\n",
       "        text-align: right;\n",
       "    }\n",
       "</style>\n",
       "<table border=\"1\" class=\"dataframe\">\n",
       "  <thead>\n",
       "    <tr style=\"text-align: right;\">\n",
       "      <th></th>\n",
       "      <th>DYJetsToLL_M-10to50_eff</th>\n",
       "      <th>DYJetsToLL_M-50_eff</th>\n",
       "      <th>ZH_HToBB_ZToLL_M-125_eff</th>\n",
       "      <th>ZH_HToBB_ZToQQ_M-125_eff</th>\n",
       "      <th>ttHto2B_M-125_eff</th>\n",
       "      <th>VBFHToTauTau_M125_eff</th>\n",
       "      <th>GluGluHToTauTau_M-125_eff</th>\n",
       "    </tr>\n",
       "  </thead>\n",
       "  <tbody>\n",
       "    <tr>\n",
       "      <th>initial</th>\n",
       "      <td>100.000000</td>\n",
       "      <td>100.000000</td>\n",
       "      <td>100.000000</td>\n",
       "      <td>100.000000</td>\n",
       "      <td>100.000000</td>\n",
       "      <td>100.000000</td>\n",
       "      <td>100.000000</td>\n",
       "    </tr>\n",
       "    <tr>\n",
       "      <th>ElectronSelection</th>\n",
       "      <td>99.415199</td>\n",
       "      <td>74.629390</td>\n",
       "      <td>59.920066</td>\n",
       "      <td>87.403678</td>\n",
       "      <td>59.199798</td>\n",
       "      <td>74.451342</td>\n",
       "      <td>83.465979</td>\n",
       "    </tr>\n",
       "    <tr>\n",
       "      <th>MuonSelection</th>\n",
       "      <td>98.256698</td>\n",
       "      <td>68.412146</td>\n",
       "      <td>49.307629</td>\n",
       "      <td>94.296768</td>\n",
       "      <td>69.217568</td>\n",
       "      <td>84.314335</td>\n",
       "      <td>87.995191</td>\n",
       "    </tr>\n",
       "    <tr>\n",
       "      <th>TauSelection</th>\n",
       "      <td>0.001263</td>\n",
       "      <td>0.154467</td>\n",
       "      <td>1.807878</td>\n",
       "      <td>0.271521</td>\n",
       "      <td>1.573880</td>\n",
       "      <td>4.847004</td>\n",
       "      <td>2.439549</td>\n",
       "    </tr>\n",
       "  </tbody>\n",
       "</table>\n",
       "</div>"
      ],
      "text/plain": [
       "                   DYJetsToLL_M-10to50_eff  DYJetsToLL_M-50_eff  \\\n",
       "initial                         100.000000           100.000000   \n",
       "ElectronSelection                99.415199            74.629390   \n",
       "MuonSelection                    98.256698            68.412146   \n",
       "TauSelection                      0.001263             0.154467   \n",
       "\n",
       "                   ZH_HToBB_ZToLL_M-125_eff  ZH_HToBB_ZToQQ_M-125_eff  \\\n",
       "initial                          100.000000                100.000000   \n",
       "ElectronSelection                 59.920066                 87.403678   \n",
       "MuonSelection                     49.307629                 94.296768   \n",
       "TauSelection                       1.807878                  0.271521   \n",
       "\n",
       "                   ttHto2B_M-125_eff  VBFHToTauTau_M125_eff  \\\n",
       "initial                   100.000000             100.000000   \n",
       "ElectronSelection          59.199798              74.451342   \n",
       "MuonSelection              69.217568              84.314335   \n",
       "TauSelection                1.573880               4.847004   \n",
       "\n",
       "                   GluGluHToTauTau_M-125_eff  \n",
       "initial                           100.000000  \n",
       "ElectronSelection                  83.465979  \n",
       "MuonSelection                      87.995191  \n",
       "TauSelection                        2.439549  "
      ]
     },
     "execution_count": 19,
     "metadata": {},
     "output_type": "execute_result"
    }
   ],
   "source": [
    "eff_df"
   ]
  },
  {
   "cell_type": "markdown",
   "id": "b3c11dd0",
   "metadata": {},
   "source": [
    "## If compute from beginning "
   ]
  },
  {
   "cell_type": "code",
   "execution_count": 23,
   "id": "4e85785a",
   "metadata": {},
   "outputs": [],
   "source": [
    "vis.grepweights(output=True, from_raw=True)"
   ]
  },
  {
   "cell_type": "code",
   "execution_count": 24,
   "id": "c2243b07",
   "metadata": {},
   "outputs": [
    {
     "data": {
      "text/plain": [
       "'/uscms/home/joyzhou/nobackup/output'"
      ]
     },
     "execution_count": 24,
     "metadata": {},
     "output_type": "execute_result"
    }
   ],
   "source": [
    "vis.indir"
   ]
  },
  {
   "cell_type": "code",
   "execution_count": 8,
   "id": "1d5fc039",
   "metadata": {},
   "outputs": [
    {
     "data": {
      "text/html": [
       "<div>\n",
       "<style scoped>\n",
       "    .dataframe tbody tr th:only-of-type {\n",
       "        vertical-align: middle;\n",
       "    }\n",
       "\n",
       "    .dataframe tbody tr th {\n",
       "        vertical-align: top;\n",
       "    }\n",
       "\n",
       "    .dataframe thead th {\n",
       "        text-align: right;\n",
       "    }\n",
       "</style>\n",
       "<table border=\"1\" class=\"dataframe\">\n",
       "  <thead>\n",
       "    <tr style=\"text-align: right;\">\n",
       "      <th></th>\n",
       "      <th>DYJetsToLL_M-10to50</th>\n",
       "    </tr>\n",
       "  </thead>\n",
       "  <tbody>\n",
       "    <tr>\n",
       "      <th>initial</th>\n",
       "      <td>22445405</td>\n",
       "    </tr>\n",
       "    <tr>\n",
       "      <th>ElectronSelection</th>\n",
       "      <td>22314144</td>\n",
       "    </tr>\n",
       "    <tr>\n",
       "      <th>MuonSelection</th>\n",
       "      <td>21925141</td>\n",
       "    </tr>\n",
       "    <tr>\n",
       "      <th>TauSelection</th>\n",
       "      <td>277</td>\n",
       "    </tr>\n",
       "  </tbody>\n",
       "</table>\n",
       "</div>"
      ],
      "text/plain": [
       "                   DYJetsToLL_M-10to50\n",
       "initial                       22445405\n",
       "ElectronSelection             22314144\n",
       "MuonSelection                 21925141\n",
       "TauSelection                       277"
      ]
     },
     "execution_count": 8,
     "metadata": {},
     "output_type": "execute_result"
    }
   ],
   "source": [
    "# test combine_cf()\n",
    "dirname = pjoin(vis.indir, 'DYJets')\n",
    "raw_cutflow = vis.combine_cf(dirname, 'DYJetsToLL_M-10to50', output=True)\n",
    "raw_cutflow"
   ]
  },
  {
   "cell_type": "code",
   "execution_count": 25,
   "id": "b47908d3",
   "metadata": {},
   "outputs": [],
   "source": [
    "# test compute_allcf()\n",
    "raw_df, wgt_df = vis.compute_allcf()"
   ]
  },
  {
   "cell_type": "code",
   "execution_count": 26,
   "id": "3f109d01",
   "metadata": {},
   "outputs": [
    {
     "data": {
      "text/html": [
       "<div>\n",
       "<style scoped>\n",
       "    .dataframe tbody tr th:only-of-type {\n",
       "        vertical-align: middle;\n",
       "    }\n",
       "\n",
       "    .dataframe tbody tr th {\n",
       "        vertical-align: top;\n",
       "    }\n",
       "\n",
       "    .dataframe thead th {\n",
       "        text-align: right;\n",
       "    }\n",
       "</style>\n",
       "<table border=\"1\" class=\"dataframe\">\n",
       "  <thead>\n",
       "    <tr style=\"text-align: right;\">\n",
       "      <th></th>\n",
       "      <th>ZH_HToBB_ZToLL_M-125</th>\n",
       "      <th>ZH_HToBB_ZToQQ_M-125</th>\n",
       "      <th>ttHto2B_M-125</th>\n",
       "      <th>VBFHToTauTau_M125</th>\n",
       "      <th>GluGluHToTauTau_M-125</th>\n",
       "      <th>GluGlutoHHto2B2Tau_kl-1p00_kt-1p00_c2-0p00</th>\n",
       "    </tr>\n",
       "  </thead>\n",
       "  <tbody>\n",
       "    <tr>\n",
       "      <th>initial</th>\n",
       "      <td>2062940</td>\n",
       "      <td>4092774</td>\n",
       "      <td>4107465</td>\n",
       "      <td>298000</td>\n",
       "      <td>291000</td>\n",
       "      <td>3064500</td>\n",
       "    </tr>\n",
       "    <tr>\n",
       "      <th>ElectronSelection</th>\n",
       "      <td>1236115</td>\n",
       "      <td>3577235</td>\n",
       "      <td>2431611</td>\n",
       "      <td>221865</td>\n",
       "      <td>242886</td>\n",
       "      <td>1742025</td>\n",
       "    </tr>\n",
       "    <tr>\n",
       "      <th>MuonSelection</th>\n",
       "      <td>609499</td>\n",
       "      <td>3373217</td>\n",
       "      <td>1683102</td>\n",
       "      <td>187064</td>\n",
       "      <td>213728</td>\n",
       "      <td>1196733</td>\n",
       "    </tr>\n",
       "    <tr>\n",
       "      <th>TauSelection</th>\n",
       "      <td>11019</td>\n",
       "      <td>9159</td>\n",
       "      <td>26490</td>\n",
       "      <td>9067</td>\n",
       "      <td>5214</td>\n",
       "      <td>566366</td>\n",
       "    </tr>\n",
       "  </tbody>\n",
       "</table>\n",
       "</div>"
      ],
      "text/plain": [
       "                   ZH_HToBB_ZToLL_M-125  ZH_HToBB_ZToQQ_M-125  ttHto2B_M-125  \\\n",
       "initial                         2062940               4092774        4107465   \n",
       "ElectronSelection               1236115               3577235        2431611   \n",
       "MuonSelection                    609499               3373217        1683102   \n",
       "TauSelection                      11019                  9159          26490   \n",
       "\n",
       "                   VBFHToTauTau_M125  GluGluHToTauTau_M-125  \\\n",
       "initial                       298000                 291000   \n",
       "ElectronSelection             221865                 242886   \n",
       "MuonSelection                 187064                 213728   \n",
       "TauSelection                    9067                   5214   \n",
       "\n",
       "                   GluGlutoHHto2B2Tau_kl-1p00_kt-1p00_c2-0p00  \n",
       "initial                                               3064500  \n",
       "ElectronSelection                                     1742025  \n",
       "MuonSelection                                         1196733  \n",
       "TauSelection                                           566366  "
      ]
     },
     "execution_count": 26,
     "metadata": {},
     "output_type": "execute_result"
    }
   ],
   "source": [
    "raw_df"
   ]
  },
  {
   "cell_type": "code",
   "execution_count": 27,
   "id": "e67a6f06",
   "metadata": {},
   "outputs": [
    {
     "data": {
      "text/html": [
       "<div>\n",
       "<style scoped>\n",
       "    .dataframe tbody tr th:only-of-type {\n",
       "        vertical-align: middle;\n",
       "    }\n",
       "\n",
       "    .dataframe tbody tr th {\n",
       "        vertical-align: top;\n",
       "    }\n",
       "\n",
       "    .dataframe thead th {\n",
       "        text-align: right;\n",
       "    }\n",
       "</style>\n",
       "<table border=\"1\" class=\"dataframe\">\n",
       "  <thead>\n",
       "    <tr style=\"text-align: right;\">\n",
       "      <th></th>\n",
       "      <th>ZH_HToBB_ZToLL_M-125</th>\n",
       "      <th>ZH_HToBB_ZToQQ_M-125</th>\n",
       "      <th>ttHto2B_M-125</th>\n",
       "      <th>VBFHToTauTau_M125</th>\n",
       "      <th>GluGluHToTauTau_M-125</th>\n",
       "      <th>GluGlutoHHto2B2Tau_kl-1p00_kt-1p00_c2-0p00</th>\n",
       "    </tr>\n",
       "  </thead>\n",
       "  <tbody>\n",
       "    <tr>\n",
       "      <th>initial</th>\n",
       "      <td>1.313743</td>\n",
       "      <td>8.566681</td>\n",
       "      <td>6.395000</td>\n",
       "      <td>209.000000</td>\n",
       "      <td>1583.000000</td>\n",
       "      <td>1.479704</td>\n",
       "    </tr>\n",
       "    <tr>\n",
       "      <th>ElectronSelection</th>\n",
       "      <td>0.787196</td>\n",
       "      <td>7.487595</td>\n",
       "      <td>3.785827</td>\n",
       "      <td>155.603305</td>\n",
       "      <td>1321.266454</td>\n",
       "      <td>0.841142</td>\n",
       "    </tr>\n",
       "    <tr>\n",
       "      <th>MuonSelection</th>\n",
       "      <td>0.388148</td>\n",
       "      <td>7.060560</td>\n",
       "      <td>2.620457</td>\n",
       "      <td>131.195893</td>\n",
       "      <td>1162.650942</td>\n",
       "      <td>0.577846</td>\n",
       "    </tr>\n",
       "    <tr>\n",
       "      <th>TauSelection</th>\n",
       "      <td>0.007017</td>\n",
       "      <td>0.019171</td>\n",
       "      <td>0.041243</td>\n",
       "      <td>6.359070</td>\n",
       "      <td>28.363443</td>\n",
       "      <td>0.273472</td>\n",
       "    </tr>\n",
       "  </tbody>\n",
       "</table>\n",
       "</div>"
      ],
      "text/plain": [
       "                   ZH_HToBB_ZToLL_M-125  ZH_HToBB_ZToQQ_M-125  ttHto2B_M-125  \\\n",
       "initial                        1.313743              8.566681       6.395000   \n",
       "ElectronSelection              0.787196              7.487595       3.785827   \n",
       "MuonSelection                  0.388148              7.060560       2.620457   \n",
       "TauSelection                   0.007017              0.019171       0.041243   \n",
       "\n",
       "                   VBFHToTauTau_M125  GluGluHToTauTau_M-125  \\\n",
       "initial                   209.000000            1583.000000   \n",
       "ElectronSelection         155.603305            1321.266454   \n",
       "MuonSelection             131.195893            1162.650942   \n",
       "TauSelection                6.359070              28.363443   \n",
       "\n",
       "                   GluGlutoHHto2B2Tau_kl-1p00_kt-1p00_c2-0p00  \n",
       "initial                                              1.479704  \n",
       "ElectronSelection                                    0.841142  \n",
       "MuonSelection                                        0.577846  \n",
       "TauSelection                                         0.273472  "
      ]
     },
     "execution_count": 27,
     "metadata": {},
     "output_type": "execute_result"
    }
   ],
   "source": [
    "wgt_df"
   ]
  },
  {
   "cell_type": "code",
   "execution_count": 28,
   "id": "51631d03",
   "metadata": {},
   "outputs": [
    {
     "data": {
      "text/html": [
       "<div>\n",
       "<style scoped>\n",
       "    .dataframe tbody tr th:only-of-type {\n",
       "        vertical-align: middle;\n",
       "    }\n",
       "\n",
       "    .dataframe tbody tr th {\n",
       "        vertical-align: top;\n",
       "    }\n",
       "\n",
       "    .dataframe thead th {\n",
       "        text-align: right;\n",
       "    }\n",
       "</style>\n",
       "<table border=\"1\" class=\"dataframe\">\n",
       "  <thead>\n",
       "    <tr style=\"text-align: right;\">\n",
       "      <th></th>\n",
       "      <th>ZH_HToBB_ZToLL_M-125_eff</th>\n",
       "      <th>ZH_HToBB_ZToQQ_M-125_eff</th>\n",
       "      <th>ttHto2B_M-125_eff</th>\n",
       "      <th>VBFHToTauTau_M125_eff</th>\n",
       "      <th>GluGluHToTauTau_M-125_eff</th>\n",
       "      <th>GluGlutoHHto2B2Tau_kl-1p00_kt-1p00_c2-0p00_eff</th>\n",
       "    </tr>\n",
       "  </thead>\n",
       "  <tbody>\n",
       "    <tr>\n",
       "      <th>initial</th>\n",
       "      <td>100.000000</td>\n",
       "      <td>100.000000</td>\n",
       "      <td>100.000000</td>\n",
       "      <td>100.000000</td>\n",
       "      <td>100.000000</td>\n",
       "      <td>100.000000</td>\n",
       "    </tr>\n",
       "    <tr>\n",
       "      <th>ElectronSelection</th>\n",
       "      <td>59.920066</td>\n",
       "      <td>87.403678</td>\n",
       "      <td>59.199798</td>\n",
       "      <td>74.451342</td>\n",
       "      <td>83.465979</td>\n",
       "      <td>56.845326</td>\n",
       "    </tr>\n",
       "    <tr>\n",
       "      <th>MuonSelection</th>\n",
       "      <td>49.307629</td>\n",
       "      <td>94.296768</td>\n",
       "      <td>69.217568</td>\n",
       "      <td>84.314335</td>\n",
       "      <td>87.995191</td>\n",
       "      <td>68.697809</td>\n",
       "    </tr>\n",
       "    <tr>\n",
       "      <th>TauSelection</th>\n",
       "      <td>1.807878</td>\n",
       "      <td>0.271521</td>\n",
       "      <td>1.573880</td>\n",
       "      <td>4.847004</td>\n",
       "      <td>2.439549</td>\n",
       "      <td>47.326012</td>\n",
       "    </tr>\n",
       "  </tbody>\n",
       "</table>\n",
       "</div>"
      ],
      "text/plain": [
       "                   ZH_HToBB_ZToLL_M-125_eff  ZH_HToBB_ZToQQ_M-125_eff  \\\n",
       "initial                          100.000000                100.000000   \n",
       "ElectronSelection                 59.920066                 87.403678   \n",
       "MuonSelection                     49.307629                 94.296768   \n",
       "TauSelection                       1.807878                  0.271521   \n",
       "\n",
       "                   ttHto2B_M-125_eff  VBFHToTauTau_M125_eff  \\\n",
       "initial                   100.000000             100.000000   \n",
       "ElectronSelection          59.199798              74.451342   \n",
       "MuonSelection              69.217568              84.314335   \n",
       "TauSelection                1.573880               4.847004   \n",
       "\n",
       "                   GluGluHToTauTau_M-125_eff  \\\n",
       "initial                           100.000000   \n",
       "ElectronSelection                  83.465979   \n",
       "MuonSelection                      87.995191   \n",
       "TauSelection                        2.439549   \n",
       "\n",
       "                   GluGlutoHHto2B2Tau_kl-1p00_kt-1p00_c2-0p00_eff  \n",
       "initial                                                100.000000  \n",
       "ElectronSelection                                       56.845326  \n",
       "MuonSelection                                           68.697809  \n",
       "TauSelection                                            47.326012  "
      ]
     },
     "execution_count": 28,
     "metadata": {},
     "output_type": "execute_result"
    }
   ],
   "source": [
    "eff_df = vis.efficiency(raw_df, overall=False, append=False, save=False)\n",
    "eff_df"
   ]
  },
  {
   "cell_type": "code",
   "execution_count": 6,
   "id": "28f40c75",
   "metadata": {},
   "outputs": [],
   "source": [
    "# test combine_roots()\n",
    "events = vis.combine_roots(save=True)"
   ]
  },
  {
   "cell_type": "markdown",
   "id": "e8fb851d",
   "metadata": {},
   "source": [
    "## Inspect one example root output file after preselection"
   ]
  },
  {
   "cell_type": "code",
   "execution_count": 5,
   "id": "11191485",
   "metadata": {},
   "outputs": [],
   "source": [
    "finame = \"/uscms/home/joyzhou/nobackup/output/SingleH/ttHto2B_M-125_tauhtauh_0-part0.root\"\n",
    "events = uproot.open(f'{finame}:tree')"
   ]
  },
  {
   "cell_type": "code",
   "execution_count": 7,
   "id": "6af7e966",
   "metadata": {},
   "outputs": [],
   "source": [
    "my_list = events.keys()\n",
    "substring = 'weight'\n",
    "filtered_keys = [item for item in my_list if substring in item]"
   ]
  },
  {
   "cell_type": "code",
   "execution_count": 8,
   "id": "d98bbd9d",
   "metadata": {},
   "outputs": [
    {
     "data": {
      "text/plain": [
       "['Generator_weight', 'nLHEReweightingWeight', 'LHEReweightingWeight']"
      ]
     },
     "execution_count": 8,
     "metadata": {},
     "output_type": "execute_result"
    }
   ],
   "source": [
    "filtered_keys"
   ]
  },
  {
   "cell_type": "code",
   "execution_count": 56,
   "id": "0007cbd6",
   "metadata": {},
   "outputs": [],
   "source": [
    "sample_ak= events.arrays(['Tau_pt', 'Tau_eta'])"
   ]
  },
  {
   "cell_type": "code",
   "execution_count": 63,
   "id": "95d0c950",
   "metadata": {},
   "outputs": [
    {
     "data": {
      "text/plain": [
       "awkward.highlevel.Array"
      ]
     },
     "execution_count": 63,
     "metadata": {},
     "output_type": "execute_result"
    }
   ],
   "source": [
    "type(sample_ak)"
   ]
  },
  {
   "cell_type": "code",
   "execution_count": 61,
   "id": "a8fc51c0",
   "metadata": {},
   "outputs": [],
   "source": [
    "sample_ak['process'] = 'ttH'"
   ]
  },
  {
   "cell_type": "code",
   "execution_count": 62,
   "id": "45ca4dd8",
   "metadata": {},
   "outputs": [
    {
     "data": {
      "text/html": [
       "<pre>[{Tau_pt: [71.9, 65], Tau_eta: [0.244, -0.149], process: &#x27;ttH&#x27;},\n",
       " {Tau_pt: [176, 70.2, 27], Tau_eta: [0.632, ...], process: &#x27;ttH&#x27;},\n",
       " {Tau_pt: [101, 72, 28.3, 22.5, 21.9], Tau_eta: [1.05, ...], process: ..., ...},\n",
       " {Tau_pt: [68.9, 50.8, 39.5], Tau_eta: [0.995, ...], process: &#x27;ttH&#x27;},\n",
       " {Tau_pt: [82.5, 47.5], Tau_eta: [-1.13, -0.963], process: &#x27;ttH&#x27;},\n",
       " {Tau_pt: [66.4, 51.2, 20.6, 18.5], Tau_eta: [-0.717, ...], process: ..., ...},\n",
       " {Tau_pt: [71.1, 40.6, 20.6], Tau_eta: [1.68, ...], process: &#x27;ttH&#x27;},\n",
       " {Tau_pt: [53.5, 46.3], Tau_eta: [1.26, -2.3], process: &#x27;ttH&#x27;},\n",
       " {Tau_pt: [48.8, 45.6, 27.1, 22.4], Tau_eta: [-1.76, ...], process: &#x27;ttH&#x27;},\n",
       " {Tau_pt: [68, 56.8, 38.1], Tau_eta: [0.00269, ...], process: &#x27;ttH&#x27;},\n",
       " ...,\n",
       " {Tau_pt: [106, 56.7], Tau_eta: [1.06, -0.248], process: &#x27;ttH&#x27;},\n",
       " {Tau_pt: [72.3, 42.5], Tau_eta: [1.26, 0.324], process: &#x27;ttH&#x27;},\n",
       " {Tau_pt: [41.9, 41.5], Tau_eta: [0.539, 0.699], process: &#x27;ttH&#x27;},\n",
       " {Tau_pt: [41.7, 40.1], Tau_eta: [0.0503, -1.46], process: &#x27;ttH&#x27;},\n",
       " {Tau_pt: [68.6, 40.5, 27.7], Tau_eta: [-1.96, ...], process: &#x27;ttH&#x27;},\n",
       " {Tau_pt: [44.7, 41.4, 24.4, 19.9], Tau_eta: [1.01, ...], process: &#x27;ttH&#x27;},\n",
       " {Tau_pt: [333, 52.5], Tau_eta: [-0.16, -0.0513], process: &#x27;ttH&#x27;},\n",
       " {Tau_pt: [56.7, 45.3], Tau_eta: [-0.935, -1.15], process: &#x27;ttH&#x27;},\n",
       " {Tau_pt: [78.9, 40.9, 21.9], Tau_eta: [-0.412, ...], process: &#x27;ttH&#x27;}]\n",
       "--------------------------------------------------------------------------------\n",
       "type: 797 * {\n",
       "    Tau_pt: var * float32,\n",
       "    Tau_eta: var * float32,\n",
       "    process: string\n",
       "}</pre>"
      ],
      "text/plain": [
       "<Array [{Tau_pt: [...], ...}, ..., {...}] type='797 * {Tau_pt: var * float3...'>"
      ]
     },
     "execution_count": 62,
     "metadata": {},
     "output_type": "execute_result"
    }
   ],
   "source": [
    "sample_ak"
   ]
  },
  {
   "cell_type": "code",
   "execution_count": 59,
   "id": "71d60168",
   "metadata": {},
   "outputs": [],
   "source": [
    "sample_df = events.arrays(['Tau_pt', 'Tau_eta'], library='pd')"
   ]
  },
  {
   "cell_type": "code",
   "execution_count": 7,
   "id": "2d6d8150",
   "metadata": {},
   "outputs": [
    {
     "data": {
      "text/html": [
       "<div>\n",
       "<style scoped>\n",
       "    .dataframe tbody tr th:only-of-type {\n",
       "        vertical-align: middle;\n",
       "    }\n",
       "\n",
       "    .dataframe tbody tr th {\n",
       "        vertical-align: top;\n",
       "    }\n",
       "\n",
       "    .dataframe thead th {\n",
       "        text-align: right;\n",
       "    }\n",
       "</style>\n",
       "<table border=\"1\" class=\"dataframe\">\n",
       "  <thead>\n",
       "    <tr style=\"text-align: right;\">\n",
       "      <th></th>\n",
       "      <th>Tau_pt</th>\n",
       "      <th>Tau_eta</th>\n",
       "    </tr>\n",
       "  </thead>\n",
       "  <tbody>\n",
       "    <tr>\n",
       "      <th>0</th>\n",
       "      <td>[71.8727798461914, 64.95415496826172]</td>\n",
       "      <td>[0.244415283203125, -0.148651123046875]</td>\n",
       "    </tr>\n",
       "    <tr>\n",
       "      <th>1</th>\n",
       "      <td>[176.418701171875, 70.15322875976562, 27.03549...</td>\n",
       "      <td>[0.632080078125, -0.7083740234375, -0.21557617...</td>\n",
       "    </tr>\n",
       "    <tr>\n",
       "      <th>2</th>\n",
       "      <td>[101.26901245117188, 72.00780487060547, 28.329...</td>\n",
       "      <td>[1.045166015625, 0.4097900390625, 1.4943847656...</td>\n",
       "    </tr>\n",
       "    <tr>\n",
       "      <th>3</th>\n",
       "      <td>[68.88240814208984, 50.81139373779297, 39.4530...</td>\n",
       "      <td>[0.9951171875, 0.881103515625, 1.73193359375]</td>\n",
       "    </tr>\n",
       "    <tr>\n",
       "      <th>4</th>\n",
       "      <td>[82.45059967041016, 47.47563934326172]</td>\n",
       "      <td>[-1.1298828125, -0.9632568359375]</td>\n",
       "    </tr>\n",
       "    <tr>\n",
       "      <th>...</th>\n",
       "      <td>...</td>\n",
       "      <td>...</td>\n",
       "    </tr>\n",
       "    <tr>\n",
       "      <th>792</th>\n",
       "      <td>[68.6008071899414, 40.46160888671875, 27.69552...</td>\n",
       "      <td>[-1.956787109375, 0.242156982421875, -0.259033...</td>\n",
       "    </tr>\n",
       "    <tr>\n",
       "      <th>793</th>\n",
       "      <td>[44.68653869628906, 41.38773727416992, 24.4122...</td>\n",
       "      <td>[1.0146484375, 1.919677734375, 1.092041015625,...</td>\n",
       "    </tr>\n",
       "    <tr>\n",
       "      <th>794</th>\n",
       "      <td>[332.97515869140625, 52.50996398925781]</td>\n",
       "      <td>[-0.159820556640625, -0.0513458251953125]</td>\n",
       "    </tr>\n",
       "    <tr>\n",
       "      <th>795</th>\n",
       "      <td>[56.74041748046875, 45.25996017456055]</td>\n",
       "      <td>[-0.935302734375, -1.15283203125]</td>\n",
       "    </tr>\n",
       "    <tr>\n",
       "      <th>796</th>\n",
       "      <td>[78.9393539428711, 40.917640686035156, 21.9107...</td>\n",
       "      <td>[-0.4122314453125, -1.25439453125, 1.36181640625]</td>\n",
       "    </tr>\n",
       "  </tbody>\n",
       "</table>\n",
       "<p>797 rows × 2 columns</p>\n",
       "</div>"
      ],
      "text/plain": [
       "                                                Tau_pt  \\\n",
       "0                [71.8727798461914, 64.95415496826172]   \n",
       "1    [176.418701171875, 70.15322875976562, 27.03549...   \n",
       "2    [101.26901245117188, 72.00780487060547, 28.329...   \n",
       "3    [68.88240814208984, 50.81139373779297, 39.4530...   \n",
       "4               [82.45059967041016, 47.47563934326172]   \n",
       "..                                                 ...   \n",
       "792  [68.6008071899414, 40.46160888671875, 27.69552...   \n",
       "793  [44.68653869628906, 41.38773727416992, 24.4122...   \n",
       "794            [332.97515869140625, 52.50996398925781]   \n",
       "795             [56.74041748046875, 45.25996017456055]   \n",
       "796  [78.9393539428711, 40.917640686035156, 21.9107...   \n",
       "\n",
       "                                               Tau_eta  \n",
       "0              [0.244415283203125, -0.148651123046875]  \n",
       "1    [0.632080078125, -0.7083740234375, -0.21557617...  \n",
       "2    [1.045166015625, 0.4097900390625, 1.4943847656...  \n",
       "3        [0.9951171875, 0.881103515625, 1.73193359375]  \n",
       "4                    [-1.1298828125, -0.9632568359375]  \n",
       "..                                                 ...  \n",
       "792  [-1.956787109375, 0.242156982421875, -0.259033...  \n",
       "793  [1.0146484375, 1.919677734375, 1.092041015625,...  \n",
       "794          [-0.159820556640625, -0.0513458251953125]  \n",
       "795                  [-0.935302734375, -1.15283203125]  \n",
       "796  [-0.4122314453125, -1.25439453125, 1.36181640625]  \n",
       "\n",
       "[797 rows x 2 columns]"
      ]
     },
     "execution_count": 7,
     "metadata": {},
     "output_type": "execute_result"
    }
   ],
   "source": [
    "sample_df"
   ]
  },
  {
   "cell_type": "code",
   "execution_count": 66,
   "id": "3feaaeed",
   "metadata": {},
   "outputs": [
    {
     "data": {
      "text/html": [
       "<pre>[[71.9, 65],\n",
       " [176, 70.2, 27],\n",
       " [101, 72, 28.3, 22.5, 21.9],\n",
       " [68.9, 50.8, 39.5],\n",
       " [82.5, 47.5],\n",
       " [66.4, 51.2, 20.6, 18.5],\n",
       " [71.1, 40.6, 20.6],\n",
       " [53.5, 46.3],\n",
       " [48.8, 45.6, 27.1, 22.4],\n",
       " [68, 56.8, 38.1],\n",
       " ...,\n",
       " [106, 56.7],\n",
       " [72.3, 42.5],\n",
       " [41.9, 41.5],\n",
       " [41.7, 40.1],\n",
       " [68.6, 40.5, 27.7],\n",
       " [44.7, 41.4, 24.4, 19.9],\n",
       " [333, 52.5],\n",
       " [56.7, 45.3],\n",
       " [78.9, 40.9, 21.9]]\n",
       "-----------------------------\n",
       "type: 797 * var * float32</pre>"
      ],
      "text/plain": [
       "<Array [[71.9, 65], [...], ..., [78.9, 40.9, 21.9]] type='797 * var * float32'>"
      ]
     },
     "execution_count": 66,
     "metadata": {},
     "output_type": "execute_result"
    }
   ],
   "source": [
    "sample_df['Tau_pt'].ak.array"
   ]
  },
  {
   "cell_type": "code",
   "execution_count": 10,
   "id": "b404ebe6",
   "metadata": {},
   "outputs": [
    {
     "data": {
      "text/plain": [
       "pandas.core.series.Series"
      ]
     },
     "execution_count": 10,
     "metadata": {},
     "output_type": "execute_result"
    }
   ],
   "source": [
    "type(sample_df['Tau_pt'])"
   ]
  },
  {
   "cell_type": "code",
   "execution_count": 23,
   "id": "605cb746",
   "metadata": {},
   "outputs": [
    {
     "data": {
      "text/plain": [
       "numpy.float32"
      ]
     },
     "execution_count": 23,
     "metadata": {},
     "output_type": "execute_result"
    }
   ],
   "source": [
    "type(sample_df['Tau_pt'][0])"
   ]
  },
  {
   "cell_type": "code",
   "execution_count": null,
   "id": "eb575270",
   "metadata": {},
   "outputs": [],
   "source": []
  }
 ],
 "metadata": {
  "kernelspec": {
   "display_name": "Python 3 (ipykernel)",
   "language": "python",
   "name": "python3"
  },
  "language_info": {
   "codemirror_mode": {
    "name": "ipython",
    "version": 3
   },
   "file_extension": ".py",
   "mimetype": "text/x-python",
   "name": "python",
   "nbconvert_exporter": "python",
   "pygments_lexer": "ipython3",
   "version": "3.9.12"
  }
 },
 "nbformat": 4,
 "nbformat_minor": 5
}
